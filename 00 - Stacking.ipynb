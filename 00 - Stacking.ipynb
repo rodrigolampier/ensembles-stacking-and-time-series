{
 "cells": [
  {
   "cell_type": "markdown",
   "metadata": {},
   "source": [
    "# 00 - Stacking"
   ]
  },
  {
   "cell_type": "markdown",
   "metadata": {},
   "source": [
    "## Introdução"
   ]
  },
  {
   "cell_type": "markdown",
   "metadata": {},
   "source": [
    "Ensemble é um conjunto de modelos de machine learning. Usamos mais de um tipo de modelo para fazer previsão, onde cada um influencia no resultado (podemos fazer uma média entre as previsões dos modelos do ensemble e dar assim o resultado final).\n",
    "\n",
    "Stacking é um método de Ensemble bem sucedido. No Stacking a ideia é usar as previsões de um modelo para treinar outro modelo. Por exemplo, podemos inicialmente aplicar os modelos de light gbm e uma rede neural aos dados, e depois aplicar uma modelo de regressão linear sobre as saídas desses dois modelos. A saída desses dois modelos originais são as features para treinamento do modelo de regressão linear.\n",
    "\n",
    "Dessa forma o modelo de regressão linear está sendo treinado em cima de uma transformação dos dados originais.\n",
    "\n",
    "As features originais são chamadas de nível zero, os dois modelos citados são o nível um e o modelo de regressão linear é o nível dois. Atentar que podemos ter mais níveis (quantos quisermos). Para isso basta começar com mais modelos no nível um (começar com três permite termos dois modelos no nível dois e um modelo em um nível três).\n",
    "\n",
    "O rácional para a escolha dos modelos que vão compor o stacking é mesclar grupos de modelos diferentes. Como grupos temos Random Forest, Lineares (RL, SVM, etc), GBM (ensemble de árvores) e Redes Neurais. Como exemplo, podemos fazer um GBM com uma rede neural. Esse é o mínimo. Junto podemos colocar uma regressão linear e um KNN.\n",
    "\n",
    "Para gerar mais diversidade nos dados resultantes dos modelos intermediários, podemos:\n",
    "\n",
    "1. Passar features especificas;\n",
    "2. Usar modelos difentes;\n",
    "3. Separa as linhas em conjuntos;\n",
    "4. Manipular os parametros dos modelos. Por exemplo, tendo dois modelos de mesmo tipo (exemplo GBM), mas cada um com parametros distintos permite a esses modelos se autocompletarem e captar detalhes nos dados que vão permitir os próximos modelos realizarem previsões mais acertivas e estáveis."
   ]
  },
  {
   "cell_type": "markdown",
   "metadata": {},
   "source": [
    "## Carga dos Dados"
   ]
  },
  {
   "cell_type": "markdown",
   "metadata": {},
   "source": [
    "Como estamos lidando com dados de séries temporais, vamos usar a separação de passado e futuro.\n",
    "\n",
    "Como vamos lidar com 3 níveis, vamos separar o conjunto de dados de treino e 3 partes.\n",
    "\n",
    "Na primeira parte dos dados treinamos os modelos do nível 0. "
   ]
  },
  {
   "cell_type": "code",
   "execution_count": 1,
   "metadata": {},
   "outputs": [],
   "source": [
    "import pandas as pd\n",
    "import numpy as np\n",
    "import joblib as jb"
   ]
  },
  {
   "cell_type": "code",
   "execution_count": 3,
   "metadata": {},
   "outputs": [],
   "source": [
    "train = pd.read_csv(\"data-processed/train.csv\")\n",
    "\n",
    "\n",
    "# 40 eras de tempo para cada divisão dos dados de treino\n",
    "train_train_level0 = train[train['era'] < 41]\n",
    "train_train_level1 = train[(train['era'] >= 41) & (train['era'] < 81)] # train_level1 == valid_level_0\n",
    "train_valid_level1 = train[train['era'] >= 81]\n",
    "\n",
    "\n",
    "jb.dump(train_train_level0, \"data-processed/train_train_level0.pkl.z\")\n",
    "jb.dump(train_train_level1, \"data-processed/train_train_level1.pkl.z\")\n",
    "jb.dump(train_valid_level1, \"data-processed/train_valid_level1.pkl.z\")\n",
    "\n",
    "\n",
    "train_train_level0 = jb.load(\"data-processed/train_train_level0.pkl.z\")\n",
    "train_train_level1 = jb.load(\"data-processed/train_train_level1.pkl.z\")\n",
    "train_valid_level1 = jb.load(\"data-processed/train_valid_level1.pkl.z\")\n",
    "\n",
    "\n",
    "# Separação em X e Y\n",
    "# Bloco 1\n",
    "X_train0, y_train0 = train_train_level0.filter(regex=r'feature', axis=1), train_train_level0['target']\n",
    "# Bloco 2\n",
    "X_train1, y_train1 = train_train_level1.filter(regex=r'feature', axis=1), train_train_level1['target']\n",
    "# Bloco 3\n",
    "X_val1, y_val1 = train_valid_level1.filter(regex=r'feature', axis=1), train_valid_level1['target']\n",
    "\n",
    "\n",
    "# Dados de teste para o modelo final\n",
    "test = pd.read_csv(\"data-processed/test.csv\")\n",
    "X_test, y_test = test.filter(regex=r'feature', axis=1), test['target']"
   ]
  },
  {
   "cell_type": "markdown",
   "metadata": {},
   "source": [
    "## Stacking: Nível 0"
   ]
  },
  {
   "cell_type": "markdown",
   "metadata": {},
   "source": [
    "### Stacking: Nível 0 - Criação do Primeiro Modelo"
   ]
  },
  {
   "cell_type": "code",
   "execution_count": 7,
   "metadata": {},
   "outputs": [],
   "source": [
    "from scipy.stats import spearmanr\n",
    "\n",
    "from lightgbm import LGBMRegressor\n",
    "from skopt import gp_minimize"
   ]
  },
  {
   "cell_type": "markdown",
   "metadata": {},
   "source": [
    "**gp_minimize:**\n",
    "\n",
    "Otimização Bayesiana usando Processos Gaussianos.\n",
    "\n",
    "Se cada avaliação de função for cara, por exemplo, quando os parâmetros são os hiperparâmetros de uma rede neural e a avaliação da função é a pontuação média de validação cruzada em dez dobras, otimizar os hiperparâmetros por rotinas de otimização padrão demoraria uma eternidade!\n",
    "\n",
    "A ideia é aproximar a função usando um processo gaussiano. Em outras palavras, assume-se que os valores da função seguem uma gaussiana multivariada. A covariância dos valores da função é fornecida por um kernel GP entre os parâmetros. Então, uma escolha inteligente para escolher o próximo parâmetro a avaliar pode ser feita pela função de aquisição em vez do prior gaussiano, que é muito mais rápido de avaliar."
   ]
  },
  {
   "cell_type": "code",
   "execution_count": 9,
   "metadata": {},
   "outputs": [],
   "source": [
    "def tune_lgbm(params):\n",
    "    \n",
    "    num_leaves, min_data_in_leaf, learning_rate = params\n",
    "    \n",
    "    mdl = LGBMRegressor(num_leaves=num_leaves,\n",
    "                        min_data_in_leaf=min_data_in_leaf,\n",
    "                        learning_rate=learning_rate, \n",
    "                        n_estimators=100,\n",
    "                        random_state=0)\n",
    "    \n",
    "    # Treina o modelo no primeiro bloco de dados (note que só treina aqui, não tem mais treino abaixo)\n",
    "    mdl.fit(X_train0, y_train0)\n",
    "    \n",
    "    # Faz a previsão contra o segundo bloco de dados\n",
    "    p = mdl.predict(X_train1)\n",
    "    \n",
    "    # Salva o modelo treinado mais as previsões contra o segundo bloco de dados em disco\n",
    "    model_name_train1 = \"./preds_train1/lgbm_{}_{}_{}.pkl.z\".format(num_leaves, min_data_in_leaf, learning_rate) \n",
    "    jb.dump(p, model_name_train1)\n",
    "    \n",
    "    # Cálcula a métrica contra o segundo bloco de dados\n",
    "    metric = spearmanr(y_train1.values, p).correlation\n",
    "    \n",
    "    # Faz a previsão contra o terceiro bloco de dados\n",
    "    p = mdl.predict(X_val1)\n",
    "    \n",
    "    # Salva o modelo treinado mais as previsões contra o terceiro bloco de dados em disco\n",
    "    model_name_val1 = \"./preds_val1/lgbm_{}_{}_{}.pkl.z\".format(num_leaves, min_data_in_leaf, learning_rate) \n",
    "    jb.dump(p, model_name_val1)\n",
    "    \n",
    "    # Faz a previsão contra os dados de teste\n",
    "    p = mdl.predict(X_test)\n",
    "    \n",
    "    # Salva o modelo treinado mais as previsões contra os dados de teste em disco\n",
    "    model_name_test = \"./preds_test/lgbm_{}_{}_{}.pkl.z\".format(num_leaves, min_data_in_leaf, learning_rate) \n",
    "    jb.dump(p, model_name_test)\n",
    "    \n",
    "    print(params, metric)\n",
    "    print()\n",
    "    \n",
    "    return -metric"
   ]
  },
  {
   "cell_type": "markdown",
   "metadata": {},
   "source": [
    "Hiperparâmetros mais importantes LGBMRegressor (na ordem de importância):\n",
    "\n",
    "1. learning rate\n",
    "2. num_leaves (ou max_depth, se for no xgboost)\n",
    "3. min_data_in_leaf\n",
    "4. subsample \n",
    "5. colsample (bytree ou bynode, não faz tanta diferença)\n",
    "\n",
    "learning_rate é 10x mais importante do que os hiperparâmetros 2 e 3, que são 100x mais importantes do que os hiperparâmetros 4 e 5."
   ]
  },
  {
   "cell_type": "code",
   "execution_count": 11,
   "metadata": {
    "scrolled": true
   },
   "outputs": [
    {
     "name": "stdout",
     "output_type": "stream",
     "text": [
      "Iteration No: 1 started. Evaluating function at random point.\n",
      "[LightGBM] [Warning] min_data_in_leaf is set=844, min_child_samples=20 will be ignored. Current value: min_data_in_leaf=844\n",
      "[119, 844, 0.007210171877207321] 0.02311818303656751\n",
      "\n",
      "Iteration No: 1 ended. Evaluation done at random point.\n",
      "Time taken: 25.9561\n",
      "Function value obtained: -0.0231\n",
      "Current minimum: -0.0231\n",
      "Iteration No: 2 started. Evaluating function at random point.\n",
      "[LightGBM] [Warning] min_data_in_leaf is set=624, min_child_samples=20 will be ignored. Current value: min_data_in_leaf=624\n",
      "[170, 624, 0.002423157857285798] 0.016650656106097936\n",
      "\n",
      "Iteration No: 2 ended. Evaluation done at random point.\n",
      "Time taken: 27.4248\n",
      "Function value obtained: -0.0167\n",
      "Current minimum: -0.0231\n",
      "Iteration No: 3 started. Evaluating function at random point.\n",
      "[LightGBM] [Warning] min_data_in_leaf is set=58, min_child_samples=20 will be ignored. Current value: min_data_in_leaf=58\n",
      "[61, 58, 0.0018735112038624302] 0.014679138108802784\n",
      "\n",
      "Iteration No: 3 ended. Evaluation done at random point.\n",
      "Time taken: 20.2670\n",
      "Function value obtained: -0.0147\n",
      "Current minimum: -0.0231\n",
      "Iteration No: 4 started. Evaluating function at random point.\n",
      "[LightGBM] [Warning] min_data_in_leaf is set=812, min_child_samples=20 will be ignored. Current value: min_data_in_leaf=812\n",
      "[97, 812, 0.0030197929882137525] 0.016289496619978784\n",
      "\n",
      "Iteration No: 4 ended. Evaluation done at random point.\n",
      "Time taken: 24.7698\n",
      "Function value obtained: -0.0163\n",
      "Current minimum: -0.0231\n",
      "Iteration No: 5 started. Evaluating function at random point.\n",
      "[LightGBM] [Warning] min_data_in_leaf is set=836, min_child_samples=20 will be ignored. Current value: min_data_in_leaf=836\n",
      "[80, 836, 0.002174684006048089] 0.014630678957744036\n",
      "\n",
      "Iteration No: 5 ended. Evaluation done at random point.\n",
      "Time taken: 23.7495\n",
      "Function value obtained: -0.0146\n",
      "Current minimum: -0.0231\n",
      "Iteration No: 6 started. Evaluating function at random point.\n",
      "[LightGBM] [Warning] min_data_in_leaf is set=369, min_child_samples=20 will be ignored. Current value: min_data_in_leaf=369\n",
      "[130, 369, 0.009060562467991657] 0.024357695471693478\n",
      "\n",
      "Iteration No: 6 ended. Evaluation done at random point.\n",
      "Time taken: 26.6736\n",
      "Function value obtained: -0.0244\n",
      "Current minimum: -0.0244\n",
      "Iteration No: 7 started. Evaluating function at random point.\n",
      "[LightGBM] [Warning] min_data_in_leaf is set=870, min_child_samples=20 will be ignored. Current value: min_data_in_leaf=870\n",
      "[30, 870, 0.0029758295038874645] 0.018977761887415925\n",
      "\n",
      "Iteration No: 7 ended. Evaluation done at random point.\n",
      "Time taken: 18.7833\n",
      "Function value obtained: -0.0190\n",
      "Current minimum: -0.0244\n",
      "Iteration No: 8 started. Evaluating function at random point.\n",
      "[LightGBM] [Warning] min_data_in_leaf is set=521, min_child_samples=20 will be ignored. Current value: min_data_in_leaf=521\n",
      "[161, 521, 0.004773968291550972] 0.021234217958219462\n",
      "\n",
      "Iteration No: 8 ended. Evaluation done at random point.\n",
      "Time taken: 31.1366\n",
      "Function value obtained: -0.0212\n",
      "Current minimum: -0.0244\n",
      "Iteration No: 9 started. Evaluating function at random point.\n",
      "[LightGBM] [Warning] min_data_in_leaf is set=582, min_child_samples=20 will be ignored. Current value: min_data_in_leaf=582\n",
      "[145, 582, 0.003446459897310035] 0.020126271602339842\n",
      "\n",
      "Iteration No: 9 ended. Evaluation done at random point.\n",
      "Time taken: 24.2401\n",
      "Function value obtained: -0.0201\n",
      "Current minimum: -0.0244\n",
      "Iteration No: 10 started. Evaluating function at random point.\n",
      "[LightGBM] [Warning] min_data_in_leaf is set=107, min_child_samples=20 will be ignored. Current value: min_data_in_leaf=107\n",
      "[152, 107, 0.0029757772507264775] 0.017753556535590263\n",
      "\n",
      "Iteration No: 10 ended. Evaluation done at random point.\n",
      "Time taken: 28.2305\n",
      "Function value obtained: -0.0178\n",
      "Current minimum: -0.0244\n",
      "Iteration No: 11 started. Searching for the next optimal point.\n",
      "[LightGBM] [Warning] min_data_in_leaf is set=910, min_child_samples=20 will be ignored. Current value: min_data_in_leaf=910\n",
      "[24, 910, 0.01] 0.026105516329814785\n",
      "\n",
      "Iteration No: 11 ended. Search finished for the next optimal point.\n",
      "Time taken: 20.9133\n",
      "Function value obtained: -0.0261\n",
      "Current minimum: -0.0261\n"
     ]
    }
   ],
   "source": [
    "# Parâmetros para uso na função acima (vão para os hiperparâmetros do modelo LGBMRegressor)\n",
    "space = [(2, 200),\n",
    "         (1, 1000),\n",
    "         (1e-3, 1e-2, 'log-uniform')]\n",
    "\n",
    "# Chamada ao gp_minimize (n_calls é igual ao número de execuções do gp_minimize)\n",
    "res = gp_minimize(tune_lgbm, space, random_state=0, verbose=1, n_calls=11)"
   ]
  },
  {
   "cell_type": "markdown",
   "metadata": {},
   "source": [
    "### Stacking: Nível 0 - Criação do Segundo Modelo"
   ]
  },
  {
   "cell_type": "code",
   "execution_count": 14,
   "metadata": {},
   "outputs": [],
   "source": [
    "import torch\n",
    "import torch.nn as nn\n",
    "import torch.nn.functional as F\n",
    "import torch.optim as optim"
   ]
  },
  {
   "cell_type": "code",
   "execution_count": 15,
   "metadata": {},
   "outputs": [],
   "source": [
    "# Criação da rede neural\n",
    "\n",
    "class MLPRegressorTorch(nn.Module):\n",
    "    \n",
    "    def __init__(self, input_size, hidden1, hidden2):\n",
    "        super(MLPRegressorTorch,self).__init__()\n",
    "        self.hidden1 = nn.Linear(input_size, hidden1)\n",
    "        self.hidden2 = nn.Linear(hidden1, hidden2)\n",
    "        self.out = nn.Linear(hidden2, 1)\n",
    "        \n",
    "    def forward(self, x):\n",
    "        x = F.relu(self.hidden1(x))\n",
    "        x = F.relu(self.hidden2(x))\n",
    "        return self.out(x)\n",
    "    \n",
    "    \n",
    "#MLPRegressorTorch(X_train0.shape[1], 10, 10)(torch.from_numpy(X_train0.values).float())"
   ]
  },
  {
   "cell_type": "code",
   "execution_count": 16,
   "metadata": {},
   "outputs": [],
   "source": [
    "# Ajuste nos dados para serem entendidos pelo torch\n",
    "\n",
    "X_train0_t = torch.from_numpy(X_train0.values).float()\n",
    "y_train0_t = torch.from_numpy(y_train0.values).float().unsqueeze(dim=-1)\n",
    "\n",
    "X_train1_t = torch.from_numpy(X_train1.values).float()\n",
    "X_val1_t = torch.from_numpy(X_val1.values).float()\n",
    "X_test_t = torch.from_numpy(X_test.values).float()"
   ]
  },
  {
   "cell_type": "code",
   "execution_count": 17,
   "metadata": {},
   "outputs": [],
   "source": [
    "def tune_mlp(params):\n",
    "    \n",
    "    #scaling?\n",
    "    torch.manual_seed(0)\n",
    "    hidden1, hidden2, learning_rate = params\n",
    "    mdl = MLPRegressorTorch(X_train0.shape[1], hidden1, hidden2)\n",
    "    criterion = nn.MSELoss()\n",
    "    optimizer = optim.Adam(mdl.parameters(), lr=learning_rate)\n",
    "    \n",
    "    for epoch in range(100): \n",
    "        optimizer.zero_grad()\n",
    "\n",
    "        p = mdl(X_train0_t)\n",
    "        loss = criterion(p, y_train0_t)\n",
    "        loss.backward()\n",
    "        optimizer.step()\n",
    "    \n",
    "    p = mdl(X_train1_t).detach().numpy()\n",
    "    model_name_train1 = \"./preds_train1/mlp_{}_{}_{}.pkl.z\".format(hidden1, hidden2, learning_rate) \n",
    "    jb.dump(p, model_name_train1)\n",
    "    #print(p)\n",
    "    \n",
    "    metric = spearmanr(y_train1.values,p).correlation\n",
    "    \n",
    "    p = mdl(X_val1_t).detach().numpy()\n",
    "    model_name_val1 = \"./preds_val1/mlp_{}_{}_{}.pkl.z\".format(hidden1, hidden2, learning_rate) \n",
    "    jb.dump(p, model_name_val1)\n",
    "    \n",
    "    p = mdl(X_test_t).detach().numpy()\n",
    "    model_name_test = \"./preds_test/mlp_{}_{}_{}.pkl.z\".format(hidden1, hidden2, learning_rate) \n",
    "    jb.dump(p, model_name_test)\n",
    "    \n",
    "    print(params, metric)\n",
    "    print()\n",
    "    \n",
    "    return -metric"
   ]
  },
  {
   "cell_type": "code",
   "execution_count": 18,
   "metadata": {},
   "outputs": [
    {
     "name": "stdout",
     "output_type": "stream",
     "text": [
      "Iteration No: 1 started. Evaluating function at random point.\n",
      "[123, 170, 0.0005198657849887135] 0.007006575737804042\n",
      "\n",
      "Iteration No: 1 ended. Evaluation done at random point.\n",
      "Time taken: 84.3772\n",
      "Function value obtained: -0.0070\n",
      "Current minimum: -0.0070\n",
      "Iteration No: 2 started. Evaluating function at random point.\n",
      "[171, 128, 5.871694001325899e-05] -0.0006740892450441023\n",
      "\n",
      "Iteration No: 2 ended. Evaluation done at random point.\n",
      "Time taken: 124.1339\n",
      "Function value obtained: 0.0007\n",
      "Current minimum: -0.0070\n",
      "Iteration No: 3 started. Evaluating function at random point.\n",
      "[67, 21, 3.5100442309980525e-05] 0.0005255519051044248\n",
      "\n",
      "Iteration No: 3 ended. Evaluation done at random point.\n",
      "Time taken: 37.1965\n",
      "Function value obtained: -0.0005\n",
      "Current minimum: -0.0070\n",
      "Iteration No: 4 started. Evaluating function at random point.\n",
      "[101, 164, 9.119149691664945e-05] 0.0035072046770885925\n",
      "\n",
      "Iteration No: 4 ended. Evaluation done at random point.\n",
      "Time taken: 97.7884\n",
      "Function value obtained: -0.0035\n",
      "Current minimum: -0.0070\n",
      "Iteration No: 5 started. Evaluating function at random point.\n",
      "[85, 169, 4.729250526161365e-05] 0.0015514495737406768\n",
      "\n",
      "Iteration No: 5 ended. Evaluation done at random point.\n",
      "Time taken: 103.9903\n",
      "Function value obtained: -0.0016\n",
      "Current minimum: -0.0070\n",
      "Iteration No: 6 started. Evaluating function at random point.\n",
      "[133, 80, 0.0008209379223637906] 0.014085941056679312\n",
      "\n",
      "Iteration No: 6 ended. Evaluation done at random point.\n",
      "Time taken: 85.5896\n",
      "Function value obtained: -0.0141\n",
      "Current minimum: -0.0141\n",
      "Iteration No: 7 started. Evaluating function at random point.\n",
      "[37, 175, 8.855561236207113e-05] -0.002978384922624919\n",
      "\n",
      "Iteration No: 7 ended. Evaluation done at random point.\n",
      "Time taken: 69.2845\n",
      "Function value obtained: 0.0030\n",
      "Current minimum: -0.0141\n",
      "Iteration No: 8 started. Evaluating function at random point.\n",
      "[162, 109, 0.00022790773248734106] 0.011054206627227852\n",
      "\n",
      "Iteration No: 8 ended. Evaluation done at random point.\n",
      "Time taken: 112.1909\n",
      "Function value obtained: -0.0111\n",
      "Current minimum: -0.0141\n",
      "Iteration No: 9 started. Evaluating function at random point.\n",
      "[147, 121, 0.00011878085823766309] 0.005041001846120009\n",
      "\n",
      "Iteration No: 9 ended. Evaluation done at random point.\n",
      "Time taken: 106.7674\n",
      "Function value obtained: -0.0050\n",
      "Current minimum: -0.0141\n",
      "Iteration No: 10 started. Evaluating function at random point.\n",
      "[154, 30, 8.855250245941234e-05] 0.004268436280360385\n",
      "\n",
      "Iteration No: 10 ended. Evaluation done at random point.\n",
      "Time taken: 77.1639\n",
      "Function value obtained: -0.0043\n",
      "Current minimum: -0.0141\n",
      "Iteration No: 11 started. Searching for the next optimal point.\n",
      "[200, 60, 0.001] 0.012257696619337333\n",
      "\n",
      "Iteration No: 11 ended. Search finished for the next optimal point.\n",
      "Time taken: 84.9824\n",
      "Function value obtained: -0.0123\n",
      "Current minimum: -0.0141\n"
     ]
    }
   ],
   "source": [
    "space = [(10, 200),\n",
    "         (10, 200),\n",
    "         (1e-5, 1e-3, 'log-uniform')]\n",
    "\n",
    "\n",
    "res = gp_minimize(tune_mlp, space, random_state=0, verbose=1, n_calls=11)"
   ]
  },
  {
   "cell_type": "markdown",
   "metadata": {},
   "source": [
    "### Stacking: Nível 0 - Criação da Stack"
   ]
  },
  {
   "cell_type": "code",
   "execution_count": 19,
   "metadata": {},
   "outputs": [],
   "source": [
    "import glob"
   ]
  },
  {
   "cell_type": "code",
   "execution_count": 20,
   "metadata": {},
   "outputs": [
    {
     "data": {
      "text/plain": [
       "((178773, 22), (180938, 22))"
      ]
     },
     "execution_count": 20,
     "metadata": {},
     "output_type": "execute_result"
    }
   ],
   "source": [
    "# Carrega as previsões para o segundo e terceiro blocos de dados\n",
    "preds_train1 = glob.glob(\"./preds_train1/*.pkl.z\")\n",
    "preds_val1 = glob.glob(\"./preds_val1/*.pkl.z\")\n",
    "\n",
    "df_train1 = []\n",
    "df_val1 = []\n",
    "scores_val1 = dict()\n",
    "\n",
    "\n",
    "# Extrai todas as previsões realizadas contra o segundo bloco de dados\n",
    "for p_name in preds_train1:\n",
    "    p = jb.load(p_name)\n",
    "    p_df = pd.DataFrame(p, columns=[p_name])\n",
    "    df_train1.append(p_df)\n",
    "    \n",
    "\n",
    "# Extrai todas as previsões realizadas contra o terceiro bloco de dados\n",
    "for p_name in preds_val1:\n",
    "    p = jb.load(p_name)\n",
    "    p_df = pd.DataFrame(p, columns=[p_name])\n",
    "    df_val1.append(p_df)\n",
    "    scores_val1[p_name] = spearmanr(y_val1, p_df).correlation\n",
    "    \n",
    "\n",
    "# Assim temos os novos datasets, compostos só de previsões dos modelos anteriores\n",
    "df_train1 = pd.concat(df_train1, axis=1)\n",
    "df_val1 = pd.concat(df_val1, axis=1)\n",
    "\n",
    "\n",
    "# Shape dados\n",
    "df_train1.shape, df_val1.shape"
   ]
  },
  {
   "cell_type": "markdown",
   "metadata": {},
   "source": [
    "Veja acima que temos 22 colunas (11 de cada tipo de modelo que criamos anteriormente)."
   ]
  },
  {
   "cell_type": "code",
   "execution_count": 22,
   "metadata": {},
   "outputs": [
    {
     "data": {
      "text/html": [
       "<div>\n",
       "<style scoped>\n",
       "    .dataframe tbody tr th:only-of-type {\n",
       "        vertical-align: middle;\n",
       "    }\n",
       "\n",
       "    .dataframe tbody tr th {\n",
       "        vertical-align: top;\n",
       "    }\n",
       "\n",
       "    .dataframe thead th {\n",
       "        text-align: right;\n",
       "    }\n",
       "</style>\n",
       "<table border=\"1\" class=\"dataframe\">\n",
       "  <thead>\n",
       "    <tr style=\"text-align: right;\">\n",
       "      <th></th>\n",
       "      <th>./preds_train1\\lgbm_119_844_0.007210171877207321.pkl.z</th>\n",
       "      <th>./preds_train1\\lgbm_130_369_0.009060562467991657.pkl.z</th>\n",
       "      <th>./preds_train1\\lgbm_145_582_0.003446459897310035.pkl.z</th>\n",
       "      <th>./preds_train1\\lgbm_152_107_0.0029757772507264775.pkl.z</th>\n",
       "      <th>./preds_train1\\lgbm_161_521_0.004773968291550972.pkl.z</th>\n",
       "      <th>./preds_train1\\lgbm_170_624_0.002423157857285798.pkl.z</th>\n",
       "      <th>./preds_train1\\lgbm_24_910_0.01.pkl.z</th>\n",
       "      <th>./preds_train1\\lgbm_30_870_0.0029758295038874645.pkl.z</th>\n",
       "      <th>./preds_train1\\lgbm_61_58_0.0018735112038624302.pkl.z</th>\n",
       "      <th>./preds_train1\\lgbm_80_836_0.002174684006048089.pkl.z</th>\n",
       "      <th>...</th>\n",
       "      <th>./preds_train1\\mlp_123_170_0.0005198657849887135.pkl.z</th>\n",
       "      <th>./preds_train1\\mlp_133_80_0.0008209379223637906.pkl.z</th>\n",
       "      <th>./preds_train1\\mlp_147_121_0.00011878085823766309.pkl.z</th>\n",
       "      <th>./preds_train1\\mlp_154_30_8.855250245941234e-05.pkl.z</th>\n",
       "      <th>./preds_train1\\mlp_162_109_0.00022790773248734106.pkl.z</th>\n",
       "      <th>./preds_train1\\mlp_171_128_5.871694001325899e-05.pkl.z</th>\n",
       "      <th>./preds_train1\\mlp_200_60_0.001.pkl.z</th>\n",
       "      <th>./preds_train1\\mlp_37_175_8.855561236207113e-05.pkl.z</th>\n",
       "      <th>./preds_train1\\mlp_67_21_3.5100442309980525e-05.pkl.z</th>\n",
       "      <th>./preds_train1\\mlp_85_169_4.729250526161365e-05.pkl.z</th>\n",
       "    </tr>\n",
       "  </thead>\n",
       "  <tbody>\n",
       "    <tr>\n",
       "      <th>0</th>\n",
       "      <td>0.499353</td>\n",
       "      <td>0.491878</td>\n",
       "      <td>0.497622</td>\n",
       "      <td>0.494391</td>\n",
       "      <td>0.492374</td>\n",
       "      <td>0.496877</td>\n",
       "      <td>0.493495</td>\n",
       "      <td>0.498615</td>\n",
       "      <td>0.499352</td>\n",
       "      <td>0.499310</td>\n",
       "      <td>...</td>\n",
       "      <td>0.563139</td>\n",
       "      <td>0.499567</td>\n",
       "      <td>0.500720</td>\n",
       "      <td>0.484515</td>\n",
       "      <td>0.564859</td>\n",
       "      <td>0.470780</td>\n",
       "      <td>0.513688</td>\n",
       "      <td>0.501155</td>\n",
       "      <td>0.472986</td>\n",
       "      <td>0.442940</td>\n",
       "    </tr>\n",
       "    <tr>\n",
       "      <th>1</th>\n",
       "      <td>0.511804</td>\n",
       "      <td>0.511407</td>\n",
       "      <td>0.504184</td>\n",
       "      <td>0.507694</td>\n",
       "      <td>0.506581</td>\n",
       "      <td>0.503241</td>\n",
       "      <td>0.506191</td>\n",
       "      <td>0.503027</td>\n",
       "      <td>0.501356</td>\n",
       "      <td>0.502488</td>\n",
       "      <td>...</td>\n",
       "      <td>0.441709</td>\n",
       "      <td>0.485821</td>\n",
       "      <td>0.393312</td>\n",
       "      <td>0.473000</td>\n",
       "      <td>0.473270</td>\n",
       "      <td>0.351067</td>\n",
       "      <td>0.474471</td>\n",
       "      <td>0.428056</td>\n",
       "      <td>0.427700</td>\n",
       "      <td>0.356286</td>\n",
       "    </tr>\n",
       "  </tbody>\n",
       "</table>\n",
       "<p>2 rows × 22 columns</p>\n",
       "</div>"
      ],
      "text/plain": [
       "   ./preds_train1\\lgbm_119_844_0.007210171877207321.pkl.z  \\\n",
       "0                                           0.499353        \n",
       "1                                           0.511804        \n",
       "\n",
       "   ./preds_train1\\lgbm_130_369_0.009060562467991657.pkl.z  \\\n",
       "0                                           0.491878        \n",
       "1                                           0.511407        \n",
       "\n",
       "   ./preds_train1\\lgbm_145_582_0.003446459897310035.pkl.z  \\\n",
       "0                                           0.497622        \n",
       "1                                           0.504184        \n",
       "\n",
       "   ./preds_train1\\lgbm_152_107_0.0029757772507264775.pkl.z  \\\n",
       "0                                           0.494391         \n",
       "1                                           0.507694         \n",
       "\n",
       "   ./preds_train1\\lgbm_161_521_0.004773968291550972.pkl.z  \\\n",
       "0                                           0.492374        \n",
       "1                                           0.506581        \n",
       "\n",
       "   ./preds_train1\\lgbm_170_624_0.002423157857285798.pkl.z  \\\n",
       "0                                           0.496877        \n",
       "1                                           0.503241        \n",
       "\n",
       "   ./preds_train1\\lgbm_24_910_0.01.pkl.z  \\\n",
       "0                               0.493495   \n",
       "1                               0.506191   \n",
       "\n",
       "   ./preds_train1\\lgbm_30_870_0.0029758295038874645.pkl.z  \\\n",
       "0                                           0.498615        \n",
       "1                                           0.503027        \n",
       "\n",
       "   ./preds_train1\\lgbm_61_58_0.0018735112038624302.pkl.z  \\\n",
       "0                                           0.499352       \n",
       "1                                           0.501356       \n",
       "\n",
       "   ./preds_train1\\lgbm_80_836_0.002174684006048089.pkl.z  ...  \\\n",
       "0                                           0.499310      ...   \n",
       "1                                           0.502488      ...   \n",
       "\n",
       "   ./preds_train1\\mlp_123_170_0.0005198657849887135.pkl.z  \\\n",
       "0                                           0.563139        \n",
       "1                                           0.441709        \n",
       "\n",
       "   ./preds_train1\\mlp_133_80_0.0008209379223637906.pkl.z  \\\n",
       "0                                           0.499567       \n",
       "1                                           0.485821       \n",
       "\n",
       "   ./preds_train1\\mlp_147_121_0.00011878085823766309.pkl.z  \\\n",
       "0                                           0.500720         \n",
       "1                                           0.393312         \n",
       "\n",
       "   ./preds_train1\\mlp_154_30_8.855250245941234e-05.pkl.z  \\\n",
       "0                                           0.484515       \n",
       "1                                           0.473000       \n",
       "\n",
       "   ./preds_train1\\mlp_162_109_0.00022790773248734106.pkl.z  \\\n",
       "0                                           0.564859         \n",
       "1                                           0.473270         \n",
       "\n",
       "   ./preds_train1\\mlp_171_128_5.871694001325899e-05.pkl.z  \\\n",
       "0                                           0.470780        \n",
       "1                                           0.351067        \n",
       "\n",
       "   ./preds_train1\\mlp_200_60_0.001.pkl.z  \\\n",
       "0                               0.513688   \n",
       "1                               0.474471   \n",
       "\n",
       "   ./preds_train1\\mlp_37_175_8.855561236207113e-05.pkl.z  \\\n",
       "0                                           0.501155       \n",
       "1                                           0.428056       \n",
       "\n",
       "   ./preds_train1\\mlp_67_21_3.5100442309980525e-05.pkl.z  \\\n",
       "0                                           0.472986       \n",
       "1                                           0.427700       \n",
       "\n",
       "   ./preds_train1\\mlp_85_169_4.729250526161365e-05.pkl.z  \n",
       "0                                           0.442940      \n",
       "1                                           0.356286      \n",
       "\n",
       "[2 rows x 22 columns]"
      ]
     },
     "execution_count": 22,
     "metadata": {},
     "output_type": "execute_result"
    }
   ],
   "source": [
    "df_train1.head(2)"
   ]
  },
  {
   "cell_type": "code",
   "execution_count": 23,
   "metadata": {},
   "outputs": [
    {
     "data": {
      "text/html": [
       "<div>\n",
       "<style scoped>\n",
       "    .dataframe tbody tr th:only-of-type {\n",
       "        vertical-align: middle;\n",
       "    }\n",
       "\n",
       "    .dataframe tbody tr th {\n",
       "        vertical-align: top;\n",
       "    }\n",
       "\n",
       "    .dataframe thead th {\n",
       "        text-align: right;\n",
       "    }\n",
       "</style>\n",
       "<table border=\"1\" class=\"dataframe\">\n",
       "  <thead>\n",
       "    <tr style=\"text-align: right;\">\n",
       "      <th></th>\n",
       "      <th>./preds_val1\\lgbm_119_844_0.007210171877207321.pkl.z</th>\n",
       "      <th>./preds_val1\\lgbm_130_369_0.009060562467991657.pkl.z</th>\n",
       "      <th>./preds_val1\\lgbm_145_582_0.003446459897310035.pkl.z</th>\n",
       "      <th>./preds_val1\\lgbm_152_107_0.0029757772507264775.pkl.z</th>\n",
       "      <th>./preds_val1\\lgbm_161_521_0.004773968291550972.pkl.z</th>\n",
       "      <th>./preds_val1\\lgbm_170_624_0.002423157857285798.pkl.z</th>\n",
       "      <th>./preds_val1\\lgbm_24_910_0.01.pkl.z</th>\n",
       "      <th>./preds_val1\\lgbm_30_870_0.0029758295038874645.pkl.z</th>\n",
       "      <th>./preds_val1\\lgbm_61_58_0.0018735112038624302.pkl.z</th>\n",
       "      <th>./preds_val1\\lgbm_80_836_0.002174684006048089.pkl.z</th>\n",
       "      <th>...</th>\n",
       "      <th>./preds_val1\\mlp_123_170_0.0005198657849887135.pkl.z</th>\n",
       "      <th>./preds_val1\\mlp_133_80_0.0008209379223637906.pkl.z</th>\n",
       "      <th>./preds_val1\\mlp_147_121_0.00011878085823766309.pkl.z</th>\n",
       "      <th>./preds_val1\\mlp_154_30_8.855250245941234e-05.pkl.z</th>\n",
       "      <th>./preds_val1\\mlp_162_109_0.00022790773248734106.pkl.z</th>\n",
       "      <th>./preds_val1\\mlp_171_128_5.871694001325899e-05.pkl.z</th>\n",
       "      <th>./preds_val1\\mlp_200_60_0.001.pkl.z</th>\n",
       "      <th>./preds_val1\\mlp_37_175_8.855561236207113e-05.pkl.z</th>\n",
       "      <th>./preds_val1\\mlp_67_21_3.5100442309980525e-05.pkl.z</th>\n",
       "      <th>./preds_val1\\mlp_85_169_4.729250526161365e-05.pkl.z</th>\n",
       "    </tr>\n",
       "  </thead>\n",
       "  <tbody>\n",
       "    <tr>\n",
       "      <th>0</th>\n",
       "      <td>0.506658</td>\n",
       "      <td>0.503207</td>\n",
       "      <td>0.502306</td>\n",
       "      <td>0.501228</td>\n",
       "      <td>0.504455</td>\n",
       "      <td>0.501400</td>\n",
       "      <td>0.504083</td>\n",
       "      <td>0.500676</td>\n",
       "      <td>0.500038</td>\n",
       "      <td>0.500533</td>\n",
       "      <td>...</td>\n",
       "      <td>0.496100</td>\n",
       "      <td>0.490916</td>\n",
       "      <td>0.479123</td>\n",
       "      <td>0.493798</td>\n",
       "      <td>0.478058</td>\n",
       "      <td>0.498803</td>\n",
       "      <td>0.500976</td>\n",
       "      <td>0.510458</td>\n",
       "      <td>0.449284</td>\n",
       "      <td>0.521992</td>\n",
       "    </tr>\n",
       "    <tr>\n",
       "      <th>1</th>\n",
       "      <td>0.502406</td>\n",
       "      <td>0.510168</td>\n",
       "      <td>0.505498</td>\n",
       "      <td>0.497800</td>\n",
       "      <td>0.506198</td>\n",
       "      <td>0.505437</td>\n",
       "      <td>0.504386</td>\n",
       "      <td>0.502276</td>\n",
       "      <td>0.500866</td>\n",
       "      <td>0.502103</td>\n",
       "      <td>...</td>\n",
       "      <td>0.572354</td>\n",
       "      <td>0.528258</td>\n",
       "      <td>0.495314</td>\n",
       "      <td>0.562607</td>\n",
       "      <td>0.542960</td>\n",
       "      <td>0.494304</td>\n",
       "      <td>0.565421</td>\n",
       "      <td>0.535983</td>\n",
       "      <td>0.452737</td>\n",
       "      <td>0.463671</td>\n",
       "    </tr>\n",
       "  </tbody>\n",
       "</table>\n",
       "<p>2 rows × 22 columns</p>\n",
       "</div>"
      ],
      "text/plain": [
       "   ./preds_val1\\lgbm_119_844_0.007210171877207321.pkl.z  \\\n",
       "0                                           0.506658      \n",
       "1                                           0.502406      \n",
       "\n",
       "   ./preds_val1\\lgbm_130_369_0.009060562467991657.pkl.z  \\\n",
       "0                                           0.503207      \n",
       "1                                           0.510168      \n",
       "\n",
       "   ./preds_val1\\lgbm_145_582_0.003446459897310035.pkl.z  \\\n",
       "0                                           0.502306      \n",
       "1                                           0.505498      \n",
       "\n",
       "   ./preds_val1\\lgbm_152_107_0.0029757772507264775.pkl.z  \\\n",
       "0                                           0.501228       \n",
       "1                                           0.497800       \n",
       "\n",
       "   ./preds_val1\\lgbm_161_521_0.004773968291550972.pkl.z  \\\n",
       "0                                           0.504455      \n",
       "1                                           0.506198      \n",
       "\n",
       "   ./preds_val1\\lgbm_170_624_0.002423157857285798.pkl.z  \\\n",
       "0                                           0.501400      \n",
       "1                                           0.505437      \n",
       "\n",
       "   ./preds_val1\\lgbm_24_910_0.01.pkl.z  \\\n",
       "0                             0.504083   \n",
       "1                             0.504386   \n",
       "\n",
       "   ./preds_val1\\lgbm_30_870_0.0029758295038874645.pkl.z  \\\n",
       "0                                           0.500676      \n",
       "1                                           0.502276      \n",
       "\n",
       "   ./preds_val1\\lgbm_61_58_0.0018735112038624302.pkl.z  \\\n",
       "0                                           0.500038     \n",
       "1                                           0.500866     \n",
       "\n",
       "   ./preds_val1\\lgbm_80_836_0.002174684006048089.pkl.z  ...  \\\n",
       "0                                           0.500533    ...   \n",
       "1                                           0.502103    ...   \n",
       "\n",
       "   ./preds_val1\\mlp_123_170_0.0005198657849887135.pkl.z  \\\n",
       "0                                           0.496100      \n",
       "1                                           0.572354      \n",
       "\n",
       "   ./preds_val1\\mlp_133_80_0.0008209379223637906.pkl.z  \\\n",
       "0                                           0.490916     \n",
       "1                                           0.528258     \n",
       "\n",
       "   ./preds_val1\\mlp_147_121_0.00011878085823766309.pkl.z  \\\n",
       "0                                           0.479123       \n",
       "1                                           0.495314       \n",
       "\n",
       "   ./preds_val1\\mlp_154_30_8.855250245941234e-05.pkl.z  \\\n",
       "0                                           0.493798     \n",
       "1                                           0.562607     \n",
       "\n",
       "   ./preds_val1\\mlp_162_109_0.00022790773248734106.pkl.z  \\\n",
       "0                                           0.478058       \n",
       "1                                           0.542960       \n",
       "\n",
       "   ./preds_val1\\mlp_171_128_5.871694001325899e-05.pkl.z  \\\n",
       "0                                           0.498803      \n",
       "1                                           0.494304      \n",
       "\n",
       "   ./preds_val1\\mlp_200_60_0.001.pkl.z  \\\n",
       "0                             0.500976   \n",
       "1                             0.565421   \n",
       "\n",
       "   ./preds_val1\\mlp_37_175_8.855561236207113e-05.pkl.z  \\\n",
       "0                                           0.510458     \n",
       "1                                           0.535983     \n",
       "\n",
       "   ./preds_val1\\mlp_67_21_3.5100442309980525e-05.pkl.z  \\\n",
       "0                                           0.449284     \n",
       "1                                           0.452737     \n",
       "\n",
       "   ./preds_val1\\mlp_85_169_4.729250526161365e-05.pkl.z  \n",
       "0                                           0.521992    \n",
       "1                                           0.463671    \n",
       "\n",
       "[2 rows x 22 columns]"
      ]
     },
     "execution_count": 23,
     "metadata": {},
     "output_type": "execute_result"
    }
   ],
   "source": [
    "df_val1.head(2)"
   ]
  },
  {
   "cell_type": "markdown",
   "metadata": {},
   "source": [
    "## Stacking: Nível 1 - Criação do Modelo"
   ]
  },
  {
   "cell_type": "markdown",
   "metadata": {},
   "source": [
    "Pegamos o dataset com as 22 previsões (df_train1) e o y do segundo bloco de dados (y_train1). Vamos testar 3 tipos de modelos diferentes para o nível 1 do nosso Stacking.\n",
    "\n",
    "spearmanr -> Maior é melhor"
   ]
  },
  {
   "cell_type": "code",
   "execution_count": 24,
   "metadata": {},
   "outputs": [
    {
     "data": {
      "text/plain": [
       "0.03381981023149141"
      ]
     },
     "execution_count": 24,
     "metadata": {},
     "output_type": "execute_result"
    }
   ],
   "source": [
    "from sklearn.linear_model import LinearRegression, Ridge\n",
    "\n",
    "#mdl = LinearRegression(normalize=True)\n",
    "mdl = Ridge(alpha=1.)\n",
    "\n",
    "mdl.fit(df_train1, y_train1)\n",
    "\n",
    "p = mdl.predict(df_val1)\n",
    "\n",
    "# maior é melhor\n",
    "spearmanr(y_val1, p).correlation"
   ]
  },
  {
   "cell_type": "code",
   "execution_count": 25,
   "metadata": {},
   "outputs": [
    {
     "data": {
      "text/plain": [
       "0.02558809717435016"
      ]
     },
     "execution_count": 25,
     "metadata": {},
     "output_type": "execute_result"
    }
   ],
   "source": [
    "from sklearn.ensemble import RandomForestRegressor, ExtraTreesRegressor\n",
    "\n",
    "mdl = ExtraTreesRegressor(n_estimators=100, \n",
    "                          min_samples_leaf=100,\n",
    "                          random_state=0, \n",
    "                          n_jobs=-1)\n",
    "\n",
    "mdl.fit(df_train1, y_train1)\n",
    "\n",
    "p = mdl.predict(df_val1)\n",
    "\n",
    "# maior é melhor\n",
    "spearmanr(y_val1, p).correlation"
   ]
  },
  {
   "cell_type": "code",
   "execution_count": 26,
   "metadata": {},
   "outputs": [
    {
     "name": "stdout",
     "output_type": "stream",
     "text": [
      "[LightGBM] [Warning] Unknown parameter: min_samples_leaf\n"
     ]
    },
    {
     "data": {
      "text/plain": [
       "0.032734449882776004"
      ]
     },
     "execution_count": 26,
     "metadata": {},
     "output_type": "execute_result"
    }
   ],
   "source": [
    "from lightgbm import LGBMRegressor\n",
    "\n",
    "mdl = LGBMRegressor(n_estimators=200,\n",
    "                    min_samples_leaf=10, \n",
    "                    num_leaves=5, \n",
    "                    colsample_bytree=0.1,\n",
    "                    random_state=0, \n",
    "                    n_jobs=-1,\n",
    "                    learning_rate=1e-2)\n",
    "\n",
    "mdl.fit(df_train1, y_train1)\n",
    "\n",
    "p = mdl.predict(df_val1)\n",
    "\n",
    "# maior é melhor\n",
    "spearmanr(y_val1, p).correlation"
   ]
  },
  {
   "cell_type": "code",
   "execution_count": 30,
   "metadata": {},
   "outputs": [],
   "source": [
    "# Melhores scores nos modelos individuais (maior é melhor)\n",
    "\n",
    "for p_name, score in scores_val1.items():\n",
    "    \n",
    "    if score > 0.035:\n",
    "        print(p_name, score)"
   ]
  },
  {
   "cell_type": "markdown",
   "metadata": {},
   "source": [
    "## Teste"
   ]
  },
  {
   "cell_type": "markdown",
   "metadata": {},
   "source": [
    "Pegamos o melhor modelo acima (Ridge) e vamos aplicar aos dados de teste."
   ]
  },
  {
   "cell_type": "code",
   "execution_count": 39,
   "metadata": {},
   "outputs": [],
   "source": [
    "preds_test = glob.glob(\"./preds_test/*.pkl.z\")\n",
    "\n",
    "df_test = [] \n",
    "scores_test = dict()\n",
    "\n",
    "for p_name in preds_test:\n",
    "    \n",
    "    p = jb.load(p_name)\n",
    "    p_df = pd.DataFrame(p, columns=[p_name])\n",
    "    df_test.append(p_df)\n",
    "    scores_test[p_name] = spearmanr(y_test, p_df).correlation\n",
    "    \n",
    "\n",
    "df_test = pd.concat(df_test, axis=1)"
   ]
  },
  {
   "cell_type": "code",
   "execution_count": 40,
   "metadata": {},
   "outputs": [
    {
     "data": {
      "text/plain": [
       "0.013858976231144434"
      ]
     },
     "execution_count": 40,
     "metadata": {},
     "output_type": "execute_result"
    }
   ],
   "source": [
    "from sklearn.linear_model import LinearRegression, Ridge\n",
    "\n",
    "#mdl = LinearRegression(normalize=True)\n",
    "mdl = Ridge(alpha=1.)\n",
    "\n",
    "mdl.fit(df_train1, y_train1)\n",
    "\n",
    "p = mdl.predict(df_test)\n",
    "\n",
    "spearmanr(y_test, p).correlation\n",
    "#test spearman = 0.0212"
   ]
  },
  {
   "cell_type": "code",
   "execution_count": 42,
   "metadata": {},
   "outputs": [],
   "source": [
    "# Melhores scores nos modelos individuais (maior é melhor)\n",
    "\n",
    "for p_name, score in scores_test.items():\n",
    "    \n",
    "    if score > 0.02:\n",
    "        print(p_name, score)"
   ]
  },
  {
   "cell_type": "markdown",
   "metadata": {},
   "source": [
    "## Analisando o Overfitting"
   ]
  },
  {
   "cell_type": "markdown",
   "metadata": {},
   "source": [
    "Analisamos a pontual dos modelos em dados de validação (bloco 3) e os dados de teste. Buscamos algo mais próximo de uma regressão perfeita para evidenciar que o modelo aplicado a dados de validação se sai bem também em dados de teste."
   ]
  },
  {
   "cell_type": "code",
   "execution_count": 48,
   "metadata": {},
   "outputs": [
    {
     "name": "stdout",
     "output_type": "stream",
     "text": [
      "Populating the interactive namespace from numpy and matplotlib\n"
     ]
    },
    {
     "data": {
      "image/png": "[encoded data removed]",
      "text/plain": [
       "<Figure size 1080x720 with 1 Axes>"
      ]
     },
     "metadata": {
      "needs_background": "light"
     },
     "output_type": "display_data"
    }
   ],
   "source": [
    "scores_val1_series = pd.Series(scores_val1)\n",
    "scores_test_series = pd.Series(scores_test)\n",
    "\n",
    "import seaborn as sns\n",
    "%pylab inline\n",
    "\n",
    "fig, ax = pylab.subplots(1,1, figsize=(15,10))\n",
    "\n",
    "sns.regplot(x=scores_val1_series, y=scores_test_series, ax=ax)\n",
    "\n",
    "ax.plot(ax.get_xlim(), ax.get_ylim(), ls=\"--\", c=\".3\")\n",
    "\n",
    "plt.show()"
   ]
  },
  {
   "cell_type": "markdown",
   "metadata": {},
   "source": [
    "## Gerando Diversidade: Combinações de Features"
   ]
  },
  {
   "cell_type": "code",
   "execution_count": 50,
   "metadata": {},
   "outputs": [],
   "source": [
    "feature_groups = ['feature_intelligence', \n",
    "                  'feature_charisma', \n",
    "                  'feature_strength', \n",
    "                  'feature_dexterity', \n",
    "                  'feature_constitution', \n",
    "                  'feature_wisdom']"
   ]
  },
  {
   "cell_type": "code",
   "execution_count": 51,
   "metadata": {},
   "outputs": [],
   "source": [
    "from lightgbm import LGBMRegressor"
   ]
  },
  {
   "cell_type": "markdown",
   "metadata": {},
   "source": [
    "### LGBM para 1 Feature"
   ]
  },
  {
   "cell_type": "markdown",
   "metadata": {},
   "source": [
    "Treina um modelo em cada feature."
   ]
  },
  {
   "cell_type": "code",
   "execution_count": 52,
   "metadata": {},
   "outputs": [
    {
     "name": "stdout",
     "output_type": "stream",
     "text": [
      "[LightGBM] [Warning] min_data_in_leaf is set=369, min_child_samples=20 will be ignored. Current value: min_data_in_leaf=369\n",
      "feature_intelligence 0.00374063608434927\n",
      "\n",
      "[LightGBM] [Warning] min_data_in_leaf is set=369, min_child_samples=20 will be ignored. Current value: min_data_in_leaf=369\n",
      "feature_charisma 0.01113070841236179\n",
      "\n",
      "[LightGBM] [Warning] min_data_in_leaf is set=369, min_child_samples=20 will be ignored. Current value: min_data_in_leaf=369\n",
      "feature_strength 0.006697064024431434\n",
      "\n",
      "[LightGBM] [Warning] min_data_in_leaf is set=369, min_child_samples=20 will be ignored. Current value: min_data_in_leaf=369\n",
      "feature_dexterity 0.009411367200089676\n",
      "\n",
      "[LightGBM] [Warning] min_data_in_leaf is set=369, min_child_samples=20 will be ignored. Current value: min_data_in_leaf=369\n",
      "feature_constitution 0.0060611470084215215\n",
      "\n",
      "[LightGBM] [Warning] min_data_in_leaf is set=369, min_child_samples=20 will be ignored. Current value: min_data_in_leaf=369\n",
      "feature_wisdom 0.004598225504345016\n",
      "\n"
     ]
    }
   ],
   "source": [
    "# loop\n",
    "for group in feature_groups:\n",
    "    \n",
    "    # Pegamos os melhores parâmetros que encontramos naquele treinamento realizado anteriormente\n",
    "    num_leaves, min_data_in_leaf, learning_rate = [130, 369, 0.009]\n",
    "    \n",
    "    \n",
    "    mdl = LGBMRegressor(num_leaves=num_leaves,\n",
    "                        min_data_in_leaf=min_data_in_leaf,\n",
    "                        learning_rate=learning_rate, \n",
    "                        n_estimators=100, \n",
    "                        random_state=0)\n",
    "    \n",
    "    mdl.fit(X_train0.filter(regex=group, axis=1), y_train0)\n",
    "\n",
    "    p = mdl.predict(X_train1.filter(regex=group,axis=1))\n",
    "    \n",
    "    model_name_train1 = \"./preds_train1/lgbm_feature_groups_{}.pkl.z\".format(group) \n",
    "    jb.dump(p, model_name_train1)\n",
    "\n",
    "    metric = spearmanr(y_train1.values,p).correlation\n",
    "\n",
    "    p = mdl.predict(X_val1.filter(regex=group,axis=1))\n",
    "    \n",
    "    model_name_val1 = \"./preds_val1/lgbm_feature_groups_{}.pkl.z\".format(group) \n",
    "    jb.dump(p, model_name_val1)\n",
    "\n",
    "    p = mdl.predict(X_test.filter(regex=group,axis=1))\n",
    "    \n",
    "    model_name_test = \"./preds_test/lgbm_feature_groups_{}.pkl.z\".format(group) \n",
    "    jb.dump(p, model_name_test)\n",
    "\n",
    "    print(group, metric)\n",
    "    print()"
   ]
  },
  {
   "cell_type": "markdown",
   "metadata": {},
   "source": [
    "### LGBM para 2 Features"
   ]
  },
  {
   "cell_type": "markdown",
   "metadata": {},
   "source": [
    "Agora treinamos um modelo para cada combinação de duas features."
   ]
  },
  {
   "cell_type": "code",
   "execution_count": 54,
   "metadata": {},
   "outputs": [
    {
     "name": "stdout",
     "output_type": "stream",
     "text": [
      "[LightGBM] [Warning] min_data_in_leaf is set=369, min_child_samples=20 will be ignored. Current value: min_data_in_leaf=369\n",
      "feature_intelligence feature_charisma 0.018111292644637546\n",
      "\n",
      "[LightGBM] [Warning] min_data_in_leaf is set=369, min_child_samples=20 will be ignored. Current value: min_data_in_leaf=369\n",
      "feature_intelligence feature_strength 0.006629157247998499\n",
      "\n",
      "[LightGBM] [Warning] min_data_in_leaf is set=369, min_child_samples=20 will be ignored. Current value: min_data_in_leaf=369\n",
      "feature_intelligence feature_dexterity 0.0105771090584426\n",
      "\n",
      "[LightGBM] [Warning] min_data_in_leaf is set=369, min_child_samples=20 will be ignored. Current value: min_data_in_leaf=369\n",
      "feature_intelligence feature_constitution 0.012879506778302852\n",
      "\n",
      "[LightGBM] [Warning] min_data_in_leaf is set=369, min_child_samples=20 will be ignored. Current value: min_data_in_leaf=369\n",
      "feature_intelligence feature_wisdom 0.010342135317408909\n",
      "\n",
      "[LightGBM] [Warning] min_data_in_leaf is set=369, min_child_samples=20 will be ignored. Current value: min_data_in_leaf=369\n",
      "feature_charisma feature_strength 0.008848863213145177\n",
      "\n",
      "[LightGBM] [Warning] min_data_in_leaf is set=369, min_child_samples=20 will be ignored. Current value: min_data_in_leaf=369\n",
      "feature_charisma feature_dexterity 0.021427559265427592\n",
      "\n",
      "[LightGBM] [Warning] min_data_in_leaf is set=369, min_child_samples=20 will be ignored. Current value: min_data_in_leaf=369\n",
      "feature_charisma feature_constitution 0.013227213458345476\n",
      "\n",
      "[LightGBM] [Warning] min_data_in_leaf is set=369, min_child_samples=20 will be ignored. Current value: min_data_in_leaf=369\n",
      "feature_charisma feature_wisdom 0.014267935246420454\n",
      "\n",
      "[LightGBM] [Warning] min_data_in_leaf is set=369, min_child_samples=20 will be ignored. Current value: min_data_in_leaf=369\n",
      "feature_strength feature_dexterity 0.01532778901720834\n",
      "\n",
      "[LightGBM] [Warning] min_data_in_leaf is set=369, min_child_samples=20 will be ignored. Current value: min_data_in_leaf=369\n",
      "feature_strength feature_constitution 0.007970544536115053\n",
      "\n",
      "[LightGBM] [Warning] min_data_in_leaf is set=369, min_child_samples=20 will be ignored. Current value: min_data_in_leaf=369\n",
      "feature_strength feature_wisdom 0.008474083770806348\n",
      "\n",
      "[LightGBM] [Warning] min_data_in_leaf is set=369, min_child_samples=20 will be ignored. Current value: min_data_in_leaf=369\n",
      "feature_dexterity feature_constitution 0.015001776146955003\n",
      "\n",
      "[LightGBM] [Warning] min_data_in_leaf is set=369, min_child_samples=20 will be ignored. Current value: min_data_in_leaf=369\n",
      "feature_dexterity feature_wisdom 0.02005374809661212\n",
      "\n",
      "[LightGBM] [Warning] min_data_in_leaf is set=369, min_child_samples=20 will be ignored. Current value: min_data_in_leaf=369\n",
      "feature_constitution feature_wisdom 0.01397944322809205\n",
      "\n"
     ]
    }
   ],
   "source": [
    "from itertools import combinations\n",
    "\n",
    "for group1, group2 in combinations(feature_groups, 2):\n",
    "    \n",
    "    num_leaves, min_data_in_leaf, learning_rate = [130, 369, 0.009]\n",
    "    \n",
    "    mdl = LGBMRegressor(num_leaves=num_leaves,\n",
    "                        min_data_in_leaf=min_data_in_leaf,\n",
    "                        learning_rate=learning_rate, \n",
    "                        n_estimators=100,\n",
    "                        random_state=0)\n",
    "    \n",
    "    selected = []\n",
    "    \n",
    "    for f in X_train0.columns:\n",
    "        if group1 in f or group2 in f:\n",
    "            selected.append(f)\n",
    "\n",
    "    mdl.fit(X_train0[selected], y_train0)\n",
    "\n",
    "    p = mdl.predict(X_train1[selected])\n",
    "    \n",
    "    model_name_train1 = \"./preds_train1/lgbm_feature_groups_{}_{}.pkl.z\".format(group1, group2) \n",
    "    jb.dump(p, model_name_train1)\n",
    "\n",
    "    metric = spearmanr(y_train1.values,p).correlation\n",
    "\n",
    "    p = mdl.predict(X_val1[selected])\n",
    "    \n",
    "    model_name_val1 = \"./preds_val1/lgbm_feature_groups_{}_{}.pkl.z\".format(group1, group2) \n",
    "    jb.dump(p, model_name_val1)\n",
    "\n",
    "    p = mdl.predict(X_test[selected])\n",
    "    \n",
    "    model_name_test = \"./preds_test/lgbm_feature_groups_{}_{}.pkl.z\".format(group1, group2) \n",
    "    jb.dump(p, model_name_test)\n",
    "\n",
    "    print(group1, group2, metric)\n",
    "    print()"
   ]
  },
  {
   "cell_type": "markdown",
   "metadata": {},
   "source": [
    "### LGBM para 3 Features"
   ]
  },
  {
   "cell_type": "markdown",
   "metadata": {},
   "source": [
    "Agora treinamos um modelo para cada combinação de três features."
   ]
  },
  {
   "cell_type": "code",
   "execution_count": 55,
   "metadata": {},
   "outputs": [
    {
     "name": "stdout",
     "output_type": "stream",
     "text": [
      "[LightGBM] [Warning] min_data_in_leaf is set=369, min_child_samples=20 will be ignored. Current value: min_data_in_leaf=369\n",
      "feature_intelligence feature_charisma feature_strength 0.01341732390308576\n",
      "\n",
      "[LightGBM] [Warning] min_data_in_leaf is set=369, min_child_samples=20 will be ignored. Current value: min_data_in_leaf=369\n",
      "feature_intelligence feature_charisma feature_dexterity 0.022151914400485296\n",
      "\n",
      "[LightGBM] [Warning] min_data_in_leaf is set=369, min_child_samples=20 will be ignored. Current value: min_data_in_leaf=369\n",
      "feature_intelligence feature_charisma feature_constitution 0.018827256872208417\n",
      "\n",
      "[LightGBM] [Warning] min_data_in_leaf is set=369, min_child_samples=20 will be ignored. Current value: min_data_in_leaf=369\n",
      "feature_intelligence feature_charisma feature_wisdom 0.017326460768674265\n",
      "\n",
      "[LightGBM] [Warning] min_data_in_leaf is set=369, min_child_samples=20 will be ignored. Current value: min_data_in_leaf=369\n",
      "feature_intelligence feature_strength feature_dexterity 0.019416040984825442\n",
      "\n",
      "[LightGBM] [Warning] min_data_in_leaf is set=369, min_child_samples=20 will be ignored. Current value: min_data_in_leaf=369\n",
      "feature_intelligence feature_strength feature_constitution 0.009866302139442404\n",
      "\n",
      "[LightGBM] [Warning] min_data_in_leaf is set=369, min_child_samples=20 will be ignored. Current value: min_data_in_leaf=369\n",
      "feature_intelligence feature_strength feature_wisdom 0.009751084806796772\n",
      "\n",
      "[LightGBM] [Warning] min_data_in_leaf is set=369, min_child_samples=20 will be ignored. Current value: min_data_in_leaf=369\n",
      "feature_intelligence feature_dexterity feature_constitution 0.018825995398211164\n",
      "\n",
      "[LightGBM] [Warning] min_data_in_leaf is set=369, min_child_samples=20 will be ignored. Current value: min_data_in_leaf=369\n",
      "feature_intelligence feature_dexterity feature_wisdom 0.022527159106019642\n",
      "\n",
      "[LightGBM] [Warning] min_data_in_leaf is set=369, min_child_samples=20 will be ignored. Current value: min_data_in_leaf=369\n",
      "feature_intelligence feature_constitution feature_wisdom 0.016116884957243317\n",
      "\n",
      "[LightGBM] [Warning] min_data_in_leaf is set=369, min_child_samples=20 will be ignored. Current value: min_data_in_leaf=369\n",
      "feature_charisma feature_strength feature_dexterity 0.02011484312024728\n",
      "\n",
      "[LightGBM] [Warning] min_data_in_leaf is set=369, min_child_samples=20 will be ignored. Current value: min_data_in_leaf=369\n",
      "feature_charisma feature_strength feature_constitution 0.010078936168523267\n",
      "\n",
      "[LightGBM] [Warning] min_data_in_leaf is set=369, min_child_samples=20 will be ignored. Current value: min_data_in_leaf=369\n",
      "feature_charisma feature_strength feature_wisdom 0.01253929458377776\n",
      "\n",
      "[LightGBM] [Warning] min_data_in_leaf is set=369, min_child_samples=20 will be ignored. Current value: min_data_in_leaf=369\n",
      "feature_charisma feature_dexterity feature_constitution 0.022965897822794935\n",
      "\n",
      "[LightGBM] [Warning] min_data_in_leaf is set=369, min_child_samples=20 will be ignored. Current value: min_data_in_leaf=369\n",
      "feature_charisma feature_dexterity feature_wisdom 0.024166060515670485\n",
      "\n",
      "[LightGBM] [Warning] min_data_in_leaf is set=369, min_child_samples=20 will be ignored. Current value: min_data_in_leaf=369\n",
      "feature_charisma feature_constitution feature_wisdom 0.01535842611720392\n",
      "\n",
      "[LightGBM] [Warning] min_data_in_leaf is set=369, min_child_samples=20 will be ignored. Current value: min_data_in_leaf=369\n",
      "feature_strength feature_dexterity feature_constitution 0.017370785614840366\n",
      "\n",
      "[LightGBM] [Warning] min_data_in_leaf is set=369, min_child_samples=20 will be ignored. Current value: min_data_in_leaf=369\n",
      "feature_strength feature_dexterity feature_wisdom 0.01895695529841967\n",
      "\n",
      "[LightGBM] [Warning] min_data_in_leaf is set=369, min_child_samples=20 will be ignored. Current value: min_data_in_leaf=369\n",
      "feature_strength feature_constitution feature_wisdom 0.008716102364079513\n",
      "\n",
      "[LightGBM] [Warning] min_data_in_leaf is set=369, min_child_samples=20 will be ignored. Current value: min_data_in_leaf=369\n",
      "feature_dexterity feature_constitution feature_wisdom 0.016197050934017156\n",
      "\n"
     ]
    }
   ],
   "source": [
    "from itertools import combinations\n",
    "\n",
    "for group1, group2, group3 in combinations(feature_groups, 3):\n",
    "    \n",
    "    num_leaves, min_data_in_leaf, learning_rate = [130, 369, 0.009]\n",
    "    \n",
    "    \n",
    "    mdl = LGBMRegressor(num_leaves=num_leaves,\n",
    "                        min_data_in_leaf=min_data_in_leaf,\n",
    "                        learning_rate=learning_rate, \n",
    "                        n_estimators=100,\n",
    "                        random_state=0)\n",
    "    \n",
    "    selected = []\n",
    "    \n",
    "    for f in X_train0.columns:\n",
    "        if group1 in f or group2 in f or group3 in f:\n",
    "            selected.append(f)\n",
    "\n",
    "    \n",
    "    mdl.fit(X_train0[selected], y_train0)\n",
    "\n",
    "    p = mdl.predict(X_train1[selected])\n",
    "    \n",
    "    model_name_train1 = \"./preds_train1/lgbm_feature_groups_{}_{}_{}.pkl.z\".format(group1, group2, group3) \n",
    "    jb.dump(p, model_name_train1)\n",
    "\n",
    "    metric = spearmanr(y_train1.values,p).correlation\n",
    "\n",
    "    p = mdl.predict(X_val1[selected])\n",
    "    \n",
    "    model_name_val1 = \"./preds_val1/lgbm_feature_groups_{}_{}_{}.pkl.z\".format(group1, group2, group3) \n",
    "    jb.dump(p, model_name_val1)\n",
    "\n",
    "    p = mdl.predict(X_test[selected])\n",
    "    \n",
    "    model_name_test = \"./preds_test/lgbm_feature_groups_{}_{}_{}.pkl.z\".format(group1, group2, group3) \n",
    "    jb.dump(p, model_name_test)\n",
    "\n",
    "    print(group1, group2, group3, metric)\n",
    "    print()"
   ]
  },
  {
   "cell_type": "markdown",
   "metadata": {},
   "source": [
    "## Gerando Diversidade: Modelos Diferentes"
   ]
  },
  {
   "cell_type": "markdown",
   "metadata": {},
   "source": [
    "### Rede Neural com Arquitetura Diferente"
   ]
  },
  {
   "cell_type": "code",
   "execution_count": 56,
   "metadata": {},
   "outputs": [],
   "source": [
    "import torch\n",
    "import torch.nn as nn\n",
    "import torch.nn.functional as F\n",
    "import torch.optim as optim"
   ]
  },
  {
   "cell_type": "code",
   "execution_count": 57,
   "metadata": {},
   "outputs": [],
   "source": [
    "class MLPRegressorTorch(nn.Module):\n",
    "    def __init__(self, input_size, hidden1, hidden2, hidden3, drop1, drop2, drop3):\n",
    "        super(MLPRegressorTorch,self).__init__()\n",
    "        self.hidden1 = nn.Linear(input_size, hidden1)\n",
    "        self.drop1 = nn.Dropout(drop1)\n",
    "        self.hidden2 = nn.Linear(hidden1, hidden2)\n",
    "        self.drop2 = nn.Dropout(drop2)\n",
    "        self.hidden3 = nn.Linear(hidden2, hidden3)\n",
    "        self.drop3 = nn.Dropout(drop3)\n",
    "        self.out = nn.Linear(hidden3, 1)\n",
    "        \n",
    "    def forward(self, x):\n",
    "        x = F.relu(self.hidden1(x))\n",
    "        x = self.drop1(x)\n",
    "        x = F.relu(self.hidden2(x))\n",
    "        x = self.drop2(x)\n",
    "        x = F.relu(self.hidden3(x))\n",
    "        x = self.drop3(x)\n",
    "        return self.out(x)\n",
    "    \n",
    "    \n",
    "#MLPRegressorTorch(X_train0.shape[1], 10, 10)(torch.from_numpy(X_train0.values).float())"
   ]
  },
  {
   "cell_type": "code",
   "execution_count": 58,
   "metadata": {},
   "outputs": [],
   "source": [
    "from skopt import gp_minimize\n",
    "\n",
    "X_train0_t = torch.from_numpy(X_train0.values).float().cuda()\n",
    "y_train0_t = torch.from_numpy(y_train0.values).float().unsqueeze(dim=-1).cuda()\n",
    "\n",
    "X_train1_t = torch.from_numpy(X_train1.values).float().cuda()\n",
    "X_val1_t = torch.from_numpy(X_val1.values).float().cuda()\n",
    "X_test_t = torch.from_numpy(X_test.values).float().cuda()\n",
    "\n",
    "\n",
    "def tune_mlp(params):\n",
    "    #scaling?\n",
    "    torch.manual_seed(0)\n",
    "    hidden1, hidden2, hidden3, drop1, drop2, drop3, learning_rate = params\n",
    "    mdl = MLPRegressorTorch(X_train0.shape[1], hidden1, hidden2, hidden3, drop1, drop2, drop3).cuda()\n",
    "    criterion = nn.MSELoss()\n",
    "    optimizer = optim.Adam(mdl.parameters(), lr=learning_rate)\n",
    "    \n",
    "    for epoch in range(300): \n",
    "        optimizer.zero_grad()\n",
    "\n",
    "        p = mdl(X_train0_t)\n",
    "        loss = criterion(p, y_train0_t)\n",
    "        loss.backward()\n",
    "        optimizer.step()\n",
    "    \n",
    "    p = mdl(X_train1_t).detach().cpu().numpy()\n",
    "    model_name_train1 = \"./preds_train1/mlp_{}_{}_{}_{}_{}_{}_{}.pkl.z\".format(hidden1, \n",
    "                                                                   hidden2, \n",
    "                                                                   hidden3,\n",
    "                                                                   drop1,\n",
    "                                                                   drop2,\n",
    "                                                                   drop3,\n",
    "                                                                   learning_rate) \n",
    "    jb.dump(p, model_name_train1)\n",
    "    #print(p)\n",
    "    \n",
    "    metric = spearmanr(y_train1.values,p).correlation\n",
    "    \n",
    "    p = mdl(X_val1_t).detach().cpu().numpy()\n",
    "    model_name_val1 = \"./preds_val1/mlp_{}_{}_{}_{}_{}_{}_{}.pkl.z\".format(hidden1, \n",
    "                                                                   hidden2, \n",
    "                                                                   hidden3,\n",
    "                                                                   drop1,\n",
    "                                                                   drop2,\n",
    "                                                                   drop3,\n",
    "                                                                   learning_rate)\n",
    "    jb.dump(p, model_name_val1)\n",
    "    \n",
    "    p = mdl(X_test_t).detach().cpu().numpy()\n",
    "    model_name_test = \"./preds_test/mlp_{}_{}_{}_{}_{}_{}_{}.pkl.z\".format(hidden1, \n",
    "                                                                   hidden2, \n",
    "                                                                   hidden3,\n",
    "                                                                   drop1,\n",
    "                                                                   drop2,\n",
    "                                                                   drop3,\n",
    "                                                                   learning_rate) \n",
    "    jb.dump(p, model_name_test)\n",
    "    \n",
    "    print(params, metric)\n",
    "    print()\n",
    "    \n",
    "    return -metric"
   ]
  },
  {
   "cell_type": "code",
   "execution_count": 60,
   "metadata": {
    "collapsed": true
   },
   "outputs": [
    {
     "name": "stdout",
     "output_type": "stream",
     "text": [
      "Iteration No: 1 started. Evaluating function at random point.\n"
     ]
    },
    {
     "ename": "RuntimeError",
     "evalue": "CUDA out of memory. Tried to allocate 754.00 MiB (GPU 0; 4.00 GiB total capacity; 2.26 GiB already allocated; 739.39 MiB free; 2.26 GiB reserved in total by PyTorch)",
     "output_type": "error",
     "traceback": [
      "\u001b[1;31m---------------------------------------------------------------------------\u001b[0m",
      "\u001b[1;31mRuntimeError\u001b[0m                              Traceback (most recent call last)",
      "\u001b[1;32m<ipython-input-60-55eaea180350>\u001b[0m in \u001b[0;36m<module>\u001b[1;34m\u001b[0m\n\u001b[0;32m      7\u001b[0m          (1e-6, 1e-3, 'log-uniform')]\n\u001b[0;32m      8\u001b[0m \u001b[1;33m\u001b[0m\u001b[0m\n\u001b[1;32m----> 9\u001b[1;33m \u001b[0mres\u001b[0m \u001b[1;33m=\u001b[0m \u001b[0mgp_minimize\u001b[0m\u001b[1;33m(\u001b[0m\u001b[0mtune_mlp\u001b[0m\u001b[1;33m,\u001b[0m \u001b[0mspace\u001b[0m\u001b[1;33m,\u001b[0m \u001b[0mrandom_state\u001b[0m\u001b[1;33m=\u001b[0m\u001b[1;36m0\u001b[0m\u001b[1;33m,\u001b[0m \u001b[0mverbose\u001b[0m\u001b[1;33m=\u001b[0m\u001b[1;36m1\u001b[0m\u001b[1;33m,\u001b[0m \u001b[0mn_calls\u001b[0m\u001b[1;33m=\u001b[0m\u001b[1;36m11\u001b[0m\u001b[1;33m)\u001b[0m\u001b[1;33m\u001b[0m\u001b[1;33m\u001b[0m\u001b[0m\n\u001b[0m",
      "\u001b[1;32mR:\\Install\\anaconda3\\lib\\site-packages\\skopt\\optimizer\\gp.py\u001b[0m in \u001b[0;36mgp_minimize\u001b[1;34m(func, dimensions, base_estimator, n_calls, n_random_starts, n_initial_points, initial_point_generator, acq_func, acq_optimizer, x0, y0, random_state, verbose, callback, n_points, n_restarts_optimizer, xi, kappa, noise, n_jobs, model_queue_size)\u001b[0m\n\u001b[0;32m    257\u001b[0m             noise=noise)\n\u001b[0;32m    258\u001b[0m \u001b[1;33m\u001b[0m\u001b[0m\n\u001b[1;32m--> 259\u001b[1;33m     return base_minimize(\n\u001b[0m\u001b[0;32m    260\u001b[0m         \u001b[0mfunc\u001b[0m\u001b[1;33m,\u001b[0m \u001b[0mspace\u001b[0m\u001b[1;33m,\u001b[0m \u001b[0mbase_estimator\u001b[0m\u001b[1;33m=\u001b[0m\u001b[0mbase_estimator\u001b[0m\u001b[1;33m,\u001b[0m\u001b[1;33m\u001b[0m\u001b[1;33m\u001b[0m\u001b[0m\n\u001b[0;32m    261\u001b[0m         \u001b[0macq_func\u001b[0m\u001b[1;33m=\u001b[0m\u001b[0macq_func\u001b[0m\u001b[1;33m,\u001b[0m\u001b[1;33m\u001b[0m\u001b[1;33m\u001b[0m\u001b[0m\n",
      "\u001b[1;32mR:\\Install\\anaconda3\\lib\\site-packages\\skopt\\optimizer\\base.py\u001b[0m in \u001b[0;36mbase_minimize\u001b[1;34m(func, dimensions, base_estimator, n_calls, n_random_starts, n_initial_points, initial_point_generator, acq_func, acq_optimizer, x0, y0, random_state, verbose, callback, n_points, n_restarts_optimizer, xi, kappa, n_jobs, model_queue_size)\u001b[0m\n\u001b[0;32m    299\u001b[0m     \u001b[1;32mfor\u001b[0m \u001b[0mn\u001b[0m \u001b[1;32min\u001b[0m \u001b[0mrange\u001b[0m\u001b[1;33m(\u001b[0m\u001b[0mn_calls\u001b[0m\u001b[1;33m)\u001b[0m\u001b[1;33m:\u001b[0m\u001b[1;33m\u001b[0m\u001b[1;33m\u001b[0m\u001b[0m\n\u001b[0;32m    300\u001b[0m         \u001b[0mnext_x\u001b[0m \u001b[1;33m=\u001b[0m \u001b[0moptimizer\u001b[0m\u001b[1;33m.\u001b[0m\u001b[0mask\u001b[0m\u001b[1;33m(\u001b[0m\u001b[1;33m)\u001b[0m\u001b[1;33m\u001b[0m\u001b[1;33m\u001b[0m\u001b[0m\n\u001b[1;32m--> 301\u001b[1;33m         \u001b[0mnext_y\u001b[0m \u001b[1;33m=\u001b[0m \u001b[0mfunc\u001b[0m\u001b[1;33m(\u001b[0m\u001b[0mnext_x\u001b[0m\u001b[1;33m)\u001b[0m\u001b[1;33m\u001b[0m\u001b[1;33m\u001b[0m\u001b[0m\n\u001b[0m\u001b[0;32m    302\u001b[0m         \u001b[0mresult\u001b[0m \u001b[1;33m=\u001b[0m \u001b[0moptimizer\u001b[0m\u001b[1;33m.\u001b[0m\u001b[0mtell\u001b[0m\u001b[1;33m(\u001b[0m\u001b[0mnext_x\u001b[0m\u001b[1;33m,\u001b[0m \u001b[0mnext_y\u001b[0m\u001b[1;33m)\u001b[0m\u001b[1;33m\u001b[0m\u001b[1;33m\u001b[0m\u001b[0m\n\u001b[0;32m    303\u001b[0m         \u001b[0mresult\u001b[0m\u001b[1;33m.\u001b[0m\u001b[0mspecs\u001b[0m \u001b[1;33m=\u001b[0m \u001b[0mspecs\u001b[0m\u001b[1;33m\u001b[0m\u001b[1;33m\u001b[0m\u001b[0m\n",
      "\u001b[1;32m<ipython-input-58-a259b95f04ba>\u001b[0m in \u001b[0;36mtune_mlp\u001b[1;34m(params)\u001b[0m\n\u001b[0;32m     20\u001b[0m         \u001b[0moptimizer\u001b[0m\u001b[1;33m.\u001b[0m\u001b[0mzero_grad\u001b[0m\u001b[1;33m(\u001b[0m\u001b[1;33m)\u001b[0m\u001b[1;33m\u001b[0m\u001b[1;33m\u001b[0m\u001b[0m\n\u001b[0;32m     21\u001b[0m \u001b[1;33m\u001b[0m\u001b[0m\n\u001b[1;32m---> 22\u001b[1;33m         \u001b[0mp\u001b[0m \u001b[1;33m=\u001b[0m \u001b[0mmdl\u001b[0m\u001b[1;33m(\u001b[0m\u001b[0mX_train0_t\u001b[0m\u001b[1;33m)\u001b[0m\u001b[1;33m\u001b[0m\u001b[1;33m\u001b[0m\u001b[0m\n\u001b[0m\u001b[0;32m     23\u001b[0m         \u001b[0mloss\u001b[0m \u001b[1;33m=\u001b[0m \u001b[0mcriterion\u001b[0m\u001b[1;33m(\u001b[0m\u001b[0mp\u001b[0m\u001b[1;33m,\u001b[0m \u001b[0my_train0_t\u001b[0m\u001b[1;33m)\u001b[0m\u001b[1;33m\u001b[0m\u001b[1;33m\u001b[0m\u001b[0m\n\u001b[0;32m     24\u001b[0m         \u001b[0mloss\u001b[0m\u001b[1;33m.\u001b[0m\u001b[0mbackward\u001b[0m\u001b[1;33m(\u001b[0m\u001b[1;33m)\u001b[0m\u001b[1;33m\u001b[0m\u001b[1;33m\u001b[0m\u001b[0m\n",
      "\u001b[1;32mR:\\Install\\anaconda3\\lib\\site-packages\\torch\\nn\\modules\\module.py\u001b[0m in \u001b[0;36m_call_impl\u001b[1;34m(self, *input, **kwargs)\u001b[0m\n\u001b[0;32m    725\u001b[0m             \u001b[0mresult\u001b[0m \u001b[1;33m=\u001b[0m \u001b[0mself\u001b[0m\u001b[1;33m.\u001b[0m\u001b[0m_slow_forward\u001b[0m\u001b[1;33m(\u001b[0m\u001b[1;33m*\u001b[0m\u001b[0minput\u001b[0m\u001b[1;33m,\u001b[0m \u001b[1;33m**\u001b[0m\u001b[0mkwargs\u001b[0m\u001b[1;33m)\u001b[0m\u001b[1;33m\u001b[0m\u001b[1;33m\u001b[0m\u001b[0m\n\u001b[0;32m    726\u001b[0m         \u001b[1;32melse\u001b[0m\u001b[1;33m:\u001b[0m\u001b[1;33m\u001b[0m\u001b[1;33m\u001b[0m\u001b[0m\n\u001b[1;32m--> 727\u001b[1;33m             \u001b[0mresult\u001b[0m \u001b[1;33m=\u001b[0m \u001b[0mself\u001b[0m\u001b[1;33m.\u001b[0m\u001b[0mforward\u001b[0m\u001b[1;33m(\u001b[0m\u001b[1;33m*\u001b[0m\u001b[0minput\u001b[0m\u001b[1;33m,\u001b[0m \u001b[1;33m**\u001b[0m\u001b[0mkwargs\u001b[0m\u001b[1;33m)\u001b[0m\u001b[1;33m\u001b[0m\u001b[1;33m\u001b[0m\u001b[0m\n\u001b[0m\u001b[0;32m    728\u001b[0m         for hook in itertools.chain(\n\u001b[0;32m    729\u001b[0m                 \u001b[0m_global_forward_hooks\u001b[0m\u001b[1;33m.\u001b[0m\u001b[0mvalues\u001b[0m\u001b[1;33m(\u001b[0m\u001b[1;33m)\u001b[0m\u001b[1;33m,\u001b[0m\u001b[1;33m\u001b[0m\u001b[1;33m\u001b[0m\u001b[0m\n",
      "\u001b[1;32m<ipython-input-57-9e9f3c870b75>\u001b[0m in \u001b[0;36mforward\u001b[1;34m(self, x)\u001b[0m\n\u001b[0;32m     11\u001b[0m \u001b[1;33m\u001b[0m\u001b[0m\n\u001b[0;32m     12\u001b[0m     \u001b[1;32mdef\u001b[0m \u001b[0mforward\u001b[0m\u001b[1;33m(\u001b[0m\u001b[0mself\u001b[0m\u001b[1;33m,\u001b[0m \u001b[0mx\u001b[0m\u001b[1;33m)\u001b[0m\u001b[1;33m:\u001b[0m\u001b[1;33m\u001b[0m\u001b[1;33m\u001b[0m\u001b[0m\n\u001b[1;32m---> 13\u001b[1;33m         \u001b[0mx\u001b[0m \u001b[1;33m=\u001b[0m \u001b[0mF\u001b[0m\u001b[1;33m.\u001b[0m\u001b[0mrelu\u001b[0m\u001b[1;33m(\u001b[0m\u001b[0mself\u001b[0m\u001b[1;33m.\u001b[0m\u001b[0mhidden1\u001b[0m\u001b[1;33m(\u001b[0m\u001b[0mx\u001b[0m\u001b[1;33m)\u001b[0m\u001b[1;33m)\u001b[0m\u001b[1;33m\u001b[0m\u001b[1;33m\u001b[0m\u001b[0m\n\u001b[0m\u001b[0;32m     14\u001b[0m         \u001b[0mx\u001b[0m \u001b[1;33m=\u001b[0m \u001b[0mself\u001b[0m\u001b[1;33m.\u001b[0m\u001b[0mdrop1\u001b[0m\u001b[1;33m(\u001b[0m\u001b[0mx\u001b[0m\u001b[1;33m)\u001b[0m\u001b[1;33m\u001b[0m\u001b[1;33m\u001b[0m\u001b[0m\n\u001b[0;32m     15\u001b[0m         \u001b[0mx\u001b[0m \u001b[1;33m=\u001b[0m \u001b[0mF\u001b[0m\u001b[1;33m.\u001b[0m\u001b[0mrelu\u001b[0m\u001b[1;33m(\u001b[0m\u001b[0mself\u001b[0m\u001b[1;33m.\u001b[0m\u001b[0mhidden2\u001b[0m\u001b[1;33m(\u001b[0m\u001b[0mx\u001b[0m\u001b[1;33m)\u001b[0m\u001b[1;33m)\u001b[0m\u001b[1;33m\u001b[0m\u001b[1;33m\u001b[0m\u001b[0m\n",
      "\u001b[1;32mR:\\Install\\anaconda3\\lib\\site-packages\\torch\\nn\\modules\\module.py\u001b[0m in \u001b[0;36m_call_impl\u001b[1;34m(self, *input, **kwargs)\u001b[0m\n\u001b[0;32m    725\u001b[0m             \u001b[0mresult\u001b[0m \u001b[1;33m=\u001b[0m \u001b[0mself\u001b[0m\u001b[1;33m.\u001b[0m\u001b[0m_slow_forward\u001b[0m\u001b[1;33m(\u001b[0m\u001b[1;33m*\u001b[0m\u001b[0minput\u001b[0m\u001b[1;33m,\u001b[0m \u001b[1;33m**\u001b[0m\u001b[0mkwargs\u001b[0m\u001b[1;33m)\u001b[0m\u001b[1;33m\u001b[0m\u001b[1;33m\u001b[0m\u001b[0m\n\u001b[0;32m    726\u001b[0m         \u001b[1;32melse\u001b[0m\u001b[1;33m:\u001b[0m\u001b[1;33m\u001b[0m\u001b[1;33m\u001b[0m\u001b[0m\n\u001b[1;32m--> 727\u001b[1;33m             \u001b[0mresult\u001b[0m \u001b[1;33m=\u001b[0m \u001b[0mself\u001b[0m\u001b[1;33m.\u001b[0m\u001b[0mforward\u001b[0m\u001b[1;33m(\u001b[0m\u001b[1;33m*\u001b[0m\u001b[0minput\u001b[0m\u001b[1;33m,\u001b[0m \u001b[1;33m**\u001b[0m\u001b[0mkwargs\u001b[0m\u001b[1;33m)\u001b[0m\u001b[1;33m\u001b[0m\u001b[1;33m\u001b[0m\u001b[0m\n\u001b[0m\u001b[0;32m    728\u001b[0m         for hook in itertools.chain(\n\u001b[0;32m    729\u001b[0m                 \u001b[0m_global_forward_hooks\u001b[0m\u001b[1;33m.\u001b[0m\u001b[0mvalues\u001b[0m\u001b[1;33m(\u001b[0m\u001b[1;33m)\u001b[0m\u001b[1;33m,\u001b[0m\u001b[1;33m\u001b[0m\u001b[1;33m\u001b[0m\u001b[0m\n",
      "\u001b[1;32mR:\\Install\\anaconda3\\lib\\site-packages\\torch\\nn\\modules\\linear.py\u001b[0m in \u001b[0;36mforward\u001b[1;34m(self, input)\u001b[0m\n\u001b[0;32m     91\u001b[0m \u001b[1;33m\u001b[0m\u001b[0m\n\u001b[0;32m     92\u001b[0m     \u001b[1;32mdef\u001b[0m \u001b[0mforward\u001b[0m\u001b[1;33m(\u001b[0m\u001b[0mself\u001b[0m\u001b[1;33m,\u001b[0m \u001b[0minput\u001b[0m\u001b[1;33m:\u001b[0m \u001b[0mTensor\u001b[0m\u001b[1;33m)\u001b[0m \u001b[1;33m->\u001b[0m \u001b[0mTensor\u001b[0m\u001b[1;33m:\u001b[0m\u001b[1;33m\u001b[0m\u001b[1;33m\u001b[0m\u001b[0m\n\u001b[1;32m---> 93\u001b[1;33m         \u001b[1;32mreturn\u001b[0m \u001b[0mF\u001b[0m\u001b[1;33m.\u001b[0m\u001b[0mlinear\u001b[0m\u001b[1;33m(\u001b[0m\u001b[0minput\u001b[0m\u001b[1;33m,\u001b[0m \u001b[0mself\u001b[0m\u001b[1;33m.\u001b[0m\u001b[0mweight\u001b[0m\u001b[1;33m,\u001b[0m \u001b[0mself\u001b[0m\u001b[1;33m.\u001b[0m\u001b[0mbias\u001b[0m\u001b[1;33m)\u001b[0m\u001b[1;33m\u001b[0m\u001b[1;33m\u001b[0m\u001b[0m\n\u001b[0m\u001b[0;32m     94\u001b[0m \u001b[1;33m\u001b[0m\u001b[0m\n\u001b[0;32m     95\u001b[0m     \u001b[1;32mdef\u001b[0m \u001b[0mextra_repr\u001b[0m\u001b[1;33m(\u001b[0m\u001b[0mself\u001b[0m\u001b[1;33m)\u001b[0m \u001b[1;33m->\u001b[0m \u001b[0mstr\u001b[0m\u001b[1;33m:\u001b[0m\u001b[1;33m\u001b[0m\u001b[1;33m\u001b[0m\u001b[0m\n",
      "\u001b[1;32mR:\\Install\\anaconda3\\lib\\site-packages\\torch\\nn\\functional.py\u001b[0m in \u001b[0;36mlinear\u001b[1;34m(input, weight, bias)\u001b[0m\n\u001b[0;32m   1688\u001b[0m     \u001b[1;32mif\u001b[0m \u001b[0minput\u001b[0m\u001b[1;33m.\u001b[0m\u001b[0mdim\u001b[0m\u001b[1;33m(\u001b[0m\u001b[1;33m)\u001b[0m \u001b[1;33m==\u001b[0m \u001b[1;36m2\u001b[0m \u001b[1;32mand\u001b[0m \u001b[0mbias\u001b[0m \u001b[1;32mis\u001b[0m \u001b[1;32mnot\u001b[0m \u001b[1;32mNone\u001b[0m\u001b[1;33m:\u001b[0m\u001b[1;33m\u001b[0m\u001b[1;33m\u001b[0m\u001b[0m\n\u001b[0;32m   1689\u001b[0m         \u001b[1;31m# fused op is marginally faster\u001b[0m\u001b[1;33m\u001b[0m\u001b[1;33m\u001b[0m\u001b[1;33m\u001b[0m\u001b[0m\n\u001b[1;32m-> 1690\u001b[1;33m         \u001b[0mret\u001b[0m \u001b[1;33m=\u001b[0m \u001b[0mtorch\u001b[0m\u001b[1;33m.\u001b[0m\u001b[0maddmm\u001b[0m\u001b[1;33m(\u001b[0m\u001b[0mbias\u001b[0m\u001b[1;33m,\u001b[0m \u001b[0minput\u001b[0m\u001b[1;33m,\u001b[0m \u001b[0mweight\u001b[0m\u001b[1;33m.\u001b[0m\u001b[0mt\u001b[0m\u001b[1;33m(\u001b[0m\u001b[1;33m)\u001b[0m\u001b[1;33m)\u001b[0m\u001b[1;33m\u001b[0m\u001b[1;33m\u001b[0m\u001b[0m\n\u001b[0m\u001b[0;32m   1691\u001b[0m     \u001b[1;32melse\u001b[0m\u001b[1;33m:\u001b[0m\u001b[1;33m\u001b[0m\u001b[1;33m\u001b[0m\u001b[0m\n\u001b[0;32m   1692\u001b[0m         \u001b[0moutput\u001b[0m \u001b[1;33m=\u001b[0m \u001b[0minput\u001b[0m\u001b[1;33m.\u001b[0m\u001b[0mmatmul\u001b[0m\u001b[1;33m(\u001b[0m\u001b[0mweight\u001b[0m\u001b[1;33m.\u001b[0m\u001b[0mt\u001b[0m\u001b[1;33m(\u001b[0m\u001b[1;33m)\u001b[0m\u001b[1;33m)\u001b[0m\u001b[1;33m\u001b[0m\u001b[1;33m\u001b[0m\u001b[0m\n",
      "\u001b[1;31mRuntimeError\u001b[0m: CUDA out of memory. Tried to allocate 754.00 MiB (GPU 0; 4.00 GiB total capacity; 2.26 GiB already allocated; 739.39 MiB free; 2.26 GiB reserved in total by PyTorch)"
     ]
    }
   ],
   "source": [
    "space = [(500, 2000),\n",
    "         (500, 2000),\n",
    "         (500, 2000),\n",
    "         (0.0, 0.95),\n",
    "         (0.0, 0.95),\n",
    "         (0.0, 0.95),\n",
    "         (1e-6, 1e-3, 'log-uniform')]\n",
    "\n",
    "res = gp_minimize(tune_mlp, space, random_state=0, verbose=1, n_calls=11)"
   ]
  },
  {
   "cell_type": "markdown",
   "metadata": {},
   "source": [
    "### XGB"
   ]
  },
  {
   "cell_type": "code",
   "execution_count": 63,
   "metadata": {},
   "outputs": [],
   "source": [
    "from xgboost import XGBRegressor"
   ]
  },
  {
   "cell_type": "markdown",
   "metadata": {},
   "source": [
    "#### XGB com Todas as Features"
   ]
  },
  {
   "cell_type": "markdown",
   "metadata": {},
   "source": [
    "Foi melhor que a nossa stacking inicial toda... mas note que usamos 2000 árvores, ao contrario das 100 que tinhamos utilizado antes."
   ]
  },
  {
   "cell_type": "code",
   "execution_count": 65,
   "metadata": {},
   "outputs": [
    {
     "name": "stdout",
     "output_type": "stream",
     "text": [
      "0.03794601484541533\n"
     ]
    }
   ],
   "source": [
    "mdl = XGBRegressor(max_depth=5, \n",
    "                   learning_rate=0.01, \n",
    "                   n_estimators=2000, \n",
    "                   colsample_bytree=0.1, \n",
    "                   #tree_method='gpu_hist', \n",
    "                   gpu_id=0)\n",
    "\n",
    "mdl.fit(X_train0, y_train0)\n",
    "\n",
    "p = mdl.predict(X_train1)\n",
    "\n",
    "model_name_train1 = \"./preds_train1/xgb_default.pkl.z\"\n",
    "jb.dump(p, model_name_train1)\n",
    "\n",
    "metric = spearmanr(y_train1.values,p).correlation\n",
    "\n",
    "p = mdl.predict(X_val1)\n",
    "\n",
    "model_name_val1 = \"./preds_val1/xgb_default.pkl.z\" \n",
    "jb.dump(p, model_name_val1)\n",
    "\n",
    "p = mdl.predict(X_test)\n",
    "\n",
    "model_name_test = \"./preds_test/xgb_default.pkl.z\"\n",
    "jb.dump(p, model_name_test)\n",
    "\n",
    "print(metric)"
   ]
  },
  {
   "cell_type": "markdown",
   "metadata": {},
   "source": [
    "#### XGB para 1 Feature"
   ]
  },
  {
   "cell_type": "code",
   "execution_count": 66,
   "metadata": {},
   "outputs": [
    {
     "name": "stdout",
     "output_type": "stream",
     "text": [
      "feature_intelligence 0.004579789785842799\n",
      "\n",
      "feature_charisma 0.011202050022626642\n",
      "\n",
      "feature_strength 0.009468585723825215\n",
      "\n",
      "feature_dexterity 0.010706552360754863\n",
      "\n",
      "feature_constitution 0.00946472199603127\n",
      "\n",
      "feature_wisdom 0.011403077777362953\n",
      "\n"
     ]
    }
   ],
   "source": [
    "feature_groups = ['feature_intelligence', \n",
    "                  'feature_charisma', \n",
    "                  'feature_strength', \n",
    "                  'feature_dexterity', \n",
    "                  'feature_constitution', \n",
    "                  'feature_wisdom']\n",
    "\n",
    "for group in feature_groups:\n",
    "    mdl = XGBRegressor(max_depth=5, \n",
    "                       learning_rate=0.01, \n",
    "                       n_estimators=2000, \n",
    "                       colsample_bytree=0.1, \n",
    "                       #tree_method='gpu_hist', \n",
    "                       gpu_id=0)\n",
    "    \n",
    "    mdl.fit(X_train0.filter(regex=group,axis=1), y_train0)\n",
    "\n",
    "    p = mdl.predict(X_train1.filter(regex=group,axis=1))\n",
    "    \n",
    "    model_name_train1 = \"./preds_train1/xgb_feature_groups_{}.pkl.z\".format(group) \n",
    "    jb.dump(p, model_name_train1)\n",
    "\n",
    "    metric = spearmanr(y_train1.values,p).correlation\n",
    "\n",
    "    p = mdl.predict(X_val1.filter(regex=group,axis=1))\n",
    "    \n",
    "    model_name_val1 = \"./preds_val1/xgb_feature_groups_{}.pkl.z\".format(group) \n",
    "    jb.dump(p, model_name_val1)\n",
    "\n",
    "    p = mdl.predict(X_test.filter(regex=group,axis=1))\n",
    "    \n",
    "    model_name_test = \"./preds_test/xgb_feature_groups_{}.pkl.z\".format(group) \n",
    "    jb.dump(p, model_name_test)\n",
    "\n",
    "    print(group, metric)\n",
    "    print()"
   ]
  },
  {
   "cell_type": "markdown",
   "metadata": {},
   "source": [
    "#### XGB para 2 Features"
   ]
  },
  {
   "cell_type": "code",
   "execution_count": 67,
   "metadata": {},
   "outputs": [
    {
     "name": "stdout",
     "output_type": "stream",
     "text": [
      "feature_intelligence feature_charisma 0.019793489077801728\n",
      "\n",
      "feature_intelligence feature_strength 0.014698624866872938\n",
      "\n",
      "feature_intelligence feature_dexterity 0.016303557454322527\n",
      "\n",
      "feature_intelligence feature_constitution 0.01667758694274272\n",
      "\n",
      "feature_intelligence feature_wisdom 0.01651476234315524\n",
      "\n",
      "feature_charisma feature_strength 0.01609290721375223\n",
      "\n",
      "feature_charisma feature_dexterity 0.022248943663177135\n",
      "\n",
      "feature_charisma feature_constitution 0.017361863745583354\n",
      "\n",
      "feature_charisma feature_wisdom 0.020585756102606535\n",
      "\n",
      "feature_strength feature_dexterity 0.019246912724846122\n",
      "\n",
      "feature_strength feature_constitution 0.011981485399881192\n",
      "\n",
      "feature_strength feature_wisdom 0.013711108763284465\n",
      "\n",
      "feature_dexterity feature_constitution 0.02259955221315074\n",
      "\n",
      "feature_dexterity feature_wisdom 0.02299917641865188\n",
      "\n",
      "feature_constitution feature_wisdom 0.015698667240184726\n",
      "\n"
     ]
    }
   ],
   "source": [
    "from itertools import combinations\n",
    "\n",
    "for group1, group2 in combinations(feature_groups, 2):\n",
    "    \n",
    "    mdl = XGBRegressor(max_depth=5, \n",
    "                       learning_rate=0.01, \n",
    "                       n_estimators=2000, \n",
    "                       colsample_bytree=0.1, \n",
    "                       #tree_method='gpu_hist', \n",
    "                       gpu_id=0)\n",
    "  \n",
    "    \n",
    "    selected = []\n",
    "    \n",
    "    for f in X_train0.columns:\n",
    "        if group1 in f or group2 in f:\n",
    "            selected.append(f)\n",
    "\n",
    "    \n",
    "    mdl.fit(X_train0[selected], y_train0)\n",
    "\n",
    "    p = mdl.predict(X_train1[selected])\n",
    "    \n",
    "    model_name_train1 = \"./preds_train1/xgb_feature_groups_{}_{}.pkl.z\".format(group1, group2) \n",
    "    jb.dump(p, model_name_train1)\n",
    "\n",
    "    metric = spearmanr(y_train1.values,p).correlation\n",
    "\n",
    "    p = mdl.predict(X_val1[selected])\n",
    "    \n",
    "    model_name_val1 = \"./preds_val1/xgb_feature_groups_{}_{}.pkl.z\".format(group1, group2) \n",
    "    jb.dump(p, model_name_val1)\n",
    "\n",
    "    p = mdl.predict(X_test[selected])\n",
    "    \n",
    "    model_name_test = \"./preds_test/xgb_feature_groups_{}_{}.pkl.z\".format(group1, group2) \n",
    "    jb.dump(p, model_name_test)\n",
    "\n",
    "    print(group1, group2, metric)\n",
    "    print()"
   ]
  },
  {
   "cell_type": "markdown",
   "metadata": {},
   "source": [
    "#### XGB para 3 Features"
   ]
  },
  {
   "cell_type": "code",
   "execution_count": 68,
   "metadata": {},
   "outputs": [
    {
     "name": "stdout",
     "output_type": "stream",
     "text": [
      "feature_intelligence feature_charisma feature_strength 0.021168226570951954\n",
      "\n",
      "feature_intelligence feature_charisma feature_dexterity 0.026853476152643625\n",
      "\n",
      "feature_intelligence feature_charisma feature_constitution 0.0238207944905206\n",
      "\n",
      "feature_intelligence feature_charisma feature_wisdom 0.025974794745050538\n",
      "\n",
      "feature_intelligence feature_strength feature_dexterity 0.023046342704775433\n",
      "\n",
      "feature_intelligence feature_strength feature_constitution 0.01889545540184942\n",
      "\n",
      "feature_intelligence feature_strength feature_wisdom 0.019436828251397375\n",
      "\n",
      "feature_intelligence feature_dexterity feature_constitution 0.027136582162398084\n",
      "\n",
      "feature_intelligence feature_dexterity feature_wisdom 0.025996225350558073\n",
      "\n"
     ]
    },
    {
     "ename": "XGBoostError",
     "evalue": "[23:06:32] C:/Users/Administrator/workspace/xgboost-win64_release_1.3.0/src/tree/updater_gpu_hist.cu:786: Exception in gpu_hist: [23:06:32] c:\\users\\administrator\\workspace\\xgboost-win64_release_1.3.0\\src\\data\\../common/device_helpers.cuh:400: Memory allocation error on worker 0: [23:06:32] c:\\users\\administrator\\workspace\\xgboost-win64_release_1.3.0\\src\\common\\common.h:44: c:\\users\\administrator\\workspace\\xgboost-win64_release_1.3.0\\src\\common\\device_helpers.cuh: 419: cudaErrorMemoryAllocation: out of memory\n- Free memory: 193803060\n- Requested memory: 195525472\n\n",
     "output_type": "error",
     "traceback": [
      "\u001b[1;31m---------------------------------------------------------------------------\u001b[0m",
      "\u001b[1;31mXGBoostError\u001b[0m                              Traceback (most recent call last)",
      "\u001b[1;32m<ipython-input-68-bced3b55d233>\u001b[0m in \u001b[0;36m<module>\u001b[1;34m\u001b[0m\n\u001b[0;32m     16\u001b[0m             \u001b[0mselected\u001b[0m\u001b[1;33m.\u001b[0m\u001b[0mappend\u001b[0m\u001b[1;33m(\u001b[0m\u001b[0mf\u001b[0m\u001b[1;33m)\u001b[0m\u001b[1;33m\u001b[0m\u001b[1;33m\u001b[0m\u001b[0m\n\u001b[0;32m     17\u001b[0m \u001b[1;33m\u001b[0m\u001b[0m\n\u001b[1;32m---> 18\u001b[1;33m     \u001b[0mmdl\u001b[0m\u001b[1;33m.\u001b[0m\u001b[0mfit\u001b[0m\u001b[1;33m(\u001b[0m\u001b[0mX_train0\u001b[0m\u001b[1;33m[\u001b[0m\u001b[0mselected\u001b[0m\u001b[1;33m]\u001b[0m\u001b[1;33m,\u001b[0m \u001b[0my_train0\u001b[0m\u001b[1;33m)\u001b[0m\u001b[1;33m\u001b[0m\u001b[1;33m\u001b[0m\u001b[0m\n\u001b[0m\u001b[0;32m     19\u001b[0m \u001b[1;33m\u001b[0m\u001b[0m\n\u001b[0;32m     20\u001b[0m     \u001b[0mp\u001b[0m \u001b[1;33m=\u001b[0m \u001b[0mmdl\u001b[0m\u001b[1;33m.\u001b[0m\u001b[0mpredict\u001b[0m\u001b[1;33m(\u001b[0m\u001b[0mX_train1\u001b[0m\u001b[1;33m[\u001b[0m\u001b[0mselected\u001b[0m\u001b[1;33m]\u001b[0m\u001b[1;33m)\u001b[0m\u001b[1;33m\u001b[0m\u001b[1;33m\u001b[0m\u001b[0m\n",
      "\u001b[1;32mR:\\Install\\anaconda3\\lib\\site-packages\\xgboost\\core.py\u001b[0m in \u001b[0;36minner_f\u001b[1;34m(*args, **kwargs)\u001b[0m\n\u001b[0;32m    420\u001b[0m         \u001b[1;32mfor\u001b[0m \u001b[0mk\u001b[0m\u001b[1;33m,\u001b[0m \u001b[0marg\u001b[0m \u001b[1;32min\u001b[0m \u001b[0mzip\u001b[0m\u001b[1;33m(\u001b[0m\u001b[0msig\u001b[0m\u001b[1;33m.\u001b[0m\u001b[0mparameters\u001b[0m\u001b[1;33m,\u001b[0m \u001b[0margs\u001b[0m\u001b[1;33m)\u001b[0m\u001b[1;33m:\u001b[0m\u001b[1;33m\u001b[0m\u001b[1;33m\u001b[0m\u001b[0m\n\u001b[0;32m    421\u001b[0m             \u001b[0mkwargs\u001b[0m\u001b[1;33m[\u001b[0m\u001b[0mk\u001b[0m\u001b[1;33m]\u001b[0m \u001b[1;33m=\u001b[0m \u001b[0marg\u001b[0m\u001b[1;33m\u001b[0m\u001b[1;33m\u001b[0m\u001b[0m\n\u001b[1;32m--> 422\u001b[1;33m         \u001b[1;32mreturn\u001b[0m \u001b[0mf\u001b[0m\u001b[1;33m(\u001b[0m\u001b[1;33m**\u001b[0m\u001b[0mkwargs\u001b[0m\u001b[1;33m)\u001b[0m\u001b[1;33m\u001b[0m\u001b[1;33m\u001b[0m\u001b[0m\n\u001b[0m\u001b[0;32m    423\u001b[0m \u001b[1;33m\u001b[0m\u001b[0m\n\u001b[0;32m    424\u001b[0m     \u001b[1;32mreturn\u001b[0m \u001b[0minner_f\u001b[0m\u001b[1;33m\u001b[0m\u001b[1;33m\u001b[0m\u001b[0m\n",
      "\u001b[1;32mR:\\Install\\anaconda3\\lib\\site-packages\\xgboost\\sklearn.py\u001b[0m in \u001b[0;36mfit\u001b[1;34m(self, X, y, sample_weight, base_margin, eval_set, eval_metric, early_stopping_rounds, verbose, xgb_model, sample_weight_eval_set, feature_weights, callbacks)\u001b[0m\n\u001b[0;32m    595\u001b[0m                 \u001b[0mparams\u001b[0m\u001b[1;33m.\u001b[0m\u001b[0mupdate\u001b[0m\u001b[1;33m(\u001b[0m\u001b[1;33m{\u001b[0m\u001b[1;34m'eval_metric'\u001b[0m\u001b[1;33m:\u001b[0m \u001b[0meval_metric\u001b[0m\u001b[1;33m}\u001b[0m\u001b[1;33m)\u001b[0m\u001b[1;33m\u001b[0m\u001b[1;33m\u001b[0m\u001b[0m\n\u001b[0;32m    596\u001b[0m \u001b[1;33m\u001b[0m\u001b[0m\n\u001b[1;32m--> 597\u001b[1;33m         self._Booster = train(params, train_dmatrix,\n\u001b[0m\u001b[0;32m    598\u001b[0m                               \u001b[0mself\u001b[0m\u001b[1;33m.\u001b[0m\u001b[0mget_num_boosting_rounds\u001b[0m\u001b[1;33m(\u001b[0m\u001b[1;33m)\u001b[0m\u001b[1;33m,\u001b[0m \u001b[0mevals\u001b[0m\u001b[1;33m=\u001b[0m\u001b[0mevals\u001b[0m\u001b[1;33m,\u001b[0m\u001b[1;33m\u001b[0m\u001b[1;33m\u001b[0m\u001b[0m\n\u001b[0;32m    599\u001b[0m                               \u001b[0mearly_stopping_rounds\u001b[0m\u001b[1;33m=\u001b[0m\u001b[0mearly_stopping_rounds\u001b[0m\u001b[1;33m,\u001b[0m\u001b[1;33m\u001b[0m\u001b[1;33m\u001b[0m\u001b[0m\n",
      "\u001b[1;32mR:\\Install\\anaconda3\\lib\\site-packages\\xgboost\\training.py\u001b[0m in \u001b[0;36mtrain\u001b[1;34m(params, dtrain, num_boost_round, evals, obj, feval, maximize, early_stopping_rounds, evals_result, verbose_eval, xgb_model, callbacks)\u001b[0m\n\u001b[0;32m    225\u001b[0m     \u001b[0mBooster\u001b[0m \u001b[1;33m:\u001b[0m \u001b[0ma\u001b[0m \u001b[0mtrained\u001b[0m \u001b[0mbooster\u001b[0m \u001b[0mmodel\u001b[0m\u001b[1;33m\u001b[0m\u001b[1;33m\u001b[0m\u001b[0m\n\u001b[0;32m    226\u001b[0m     \"\"\"\n\u001b[1;32m--> 227\u001b[1;33m     bst = _train_internal(params, dtrain,\n\u001b[0m\u001b[0;32m    228\u001b[0m                           \u001b[0mnum_boost_round\u001b[0m\u001b[1;33m=\u001b[0m\u001b[0mnum_boost_round\u001b[0m\u001b[1;33m,\u001b[0m\u001b[1;33m\u001b[0m\u001b[1;33m\u001b[0m\u001b[0m\n\u001b[0;32m    229\u001b[0m                           \u001b[0mevals\u001b[0m\u001b[1;33m=\u001b[0m\u001b[0mevals\u001b[0m\u001b[1;33m,\u001b[0m\u001b[1;33m\u001b[0m\u001b[1;33m\u001b[0m\u001b[0m\n",
      "\u001b[1;32mR:\\Install\\anaconda3\\lib\\site-packages\\xgboost\\training.py\u001b[0m in \u001b[0;36m_train_internal\u001b[1;34m(params, dtrain, num_boost_round, evals, obj, feval, xgb_model, callbacks, evals_result, maximize, verbose_eval, early_stopping_rounds)\u001b[0m\n\u001b[0;32m    100\u001b[0m         \u001b[1;31m# Skip the first update if it is a recovery step.\u001b[0m\u001b[1;33m\u001b[0m\u001b[1;33m\u001b[0m\u001b[1;33m\u001b[0m\u001b[0m\n\u001b[0;32m    101\u001b[0m         \u001b[1;32mif\u001b[0m \u001b[0mversion\u001b[0m \u001b[1;33m%\u001b[0m \u001b[1;36m2\u001b[0m \u001b[1;33m==\u001b[0m \u001b[1;36m0\u001b[0m\u001b[1;33m:\u001b[0m\u001b[1;33m\u001b[0m\u001b[1;33m\u001b[0m\u001b[0m\n\u001b[1;32m--> 102\u001b[1;33m             \u001b[0mbst\u001b[0m\u001b[1;33m.\u001b[0m\u001b[0mupdate\u001b[0m\u001b[1;33m(\u001b[0m\u001b[0mdtrain\u001b[0m\u001b[1;33m,\u001b[0m \u001b[0mi\u001b[0m\u001b[1;33m,\u001b[0m \u001b[0mobj\u001b[0m\u001b[1;33m)\u001b[0m\u001b[1;33m\u001b[0m\u001b[1;33m\u001b[0m\u001b[0m\n\u001b[0m\u001b[0;32m    103\u001b[0m             \u001b[0mbst\u001b[0m\u001b[1;33m.\u001b[0m\u001b[0msave_rabit_checkpoint\u001b[0m\u001b[1;33m(\u001b[0m\u001b[1;33m)\u001b[0m\u001b[1;33m\u001b[0m\u001b[1;33m\u001b[0m\u001b[0m\n\u001b[0;32m    104\u001b[0m             \u001b[0mversion\u001b[0m \u001b[1;33m+=\u001b[0m \u001b[1;36m1\u001b[0m\u001b[1;33m\u001b[0m\u001b[1;33m\u001b[0m\u001b[0m\n",
      "\u001b[1;32mR:\\Install\\anaconda3\\lib\\site-packages\\xgboost\\core.py\u001b[0m in \u001b[0;36mupdate\u001b[1;34m(self, dtrain, iteration, fobj)\u001b[0m\n\u001b[0;32m   1278\u001b[0m \u001b[1;33m\u001b[0m\u001b[0m\n\u001b[0;32m   1279\u001b[0m         \u001b[1;32mif\u001b[0m \u001b[0mfobj\u001b[0m \u001b[1;32mis\u001b[0m \u001b[1;32mNone\u001b[0m\u001b[1;33m:\u001b[0m\u001b[1;33m\u001b[0m\u001b[1;33m\u001b[0m\u001b[0m\n\u001b[1;32m-> 1280\u001b[1;33m             _check_call(_LIB.XGBoosterUpdateOneIter(self.handle,\n\u001b[0m\u001b[0;32m   1281\u001b[0m                                                     \u001b[0mctypes\u001b[0m\u001b[1;33m.\u001b[0m\u001b[0mc_int\u001b[0m\u001b[1;33m(\u001b[0m\u001b[0miteration\u001b[0m\u001b[1;33m)\u001b[0m\u001b[1;33m,\u001b[0m\u001b[1;33m\u001b[0m\u001b[1;33m\u001b[0m\u001b[0m\n\u001b[0;32m   1282\u001b[0m                                                     dtrain.handle))\n",
      "\u001b[1;32mR:\\Install\\anaconda3\\lib\\site-packages\\xgboost\\core.py\u001b[0m in \u001b[0;36m_check_call\u001b[1;34m(ret)\u001b[0m\n\u001b[0;32m    187\u001b[0m     \"\"\"\n\u001b[0;32m    188\u001b[0m     \u001b[1;32mif\u001b[0m \u001b[0mret\u001b[0m \u001b[1;33m!=\u001b[0m \u001b[1;36m0\u001b[0m\u001b[1;33m:\u001b[0m\u001b[1;33m\u001b[0m\u001b[1;33m\u001b[0m\u001b[0m\n\u001b[1;32m--> 189\u001b[1;33m         \u001b[1;32mraise\u001b[0m \u001b[0mXGBoostError\u001b[0m\u001b[1;33m(\u001b[0m\u001b[0mpy_str\u001b[0m\u001b[1;33m(\u001b[0m\u001b[0m_LIB\u001b[0m\u001b[1;33m.\u001b[0m\u001b[0mXGBGetLastError\u001b[0m\u001b[1;33m(\u001b[0m\u001b[1;33m)\u001b[0m\u001b[1;33m)\u001b[0m\u001b[1;33m)\u001b[0m\u001b[1;33m\u001b[0m\u001b[1;33m\u001b[0m\u001b[0m\n\u001b[0m\u001b[0;32m    190\u001b[0m \u001b[1;33m\u001b[0m\u001b[0m\n\u001b[0;32m    191\u001b[0m \u001b[1;33m\u001b[0m\u001b[0m\n",
      "\u001b[1;31mXGBoostError\u001b[0m: [23:06:32] C:/Users/Administrator/workspace/xgboost-win64_release_1.3.0/src/tree/updater_gpu_hist.cu:786: Exception in gpu_hist: [23:06:32] c:\\users\\administrator\\workspace\\xgboost-win64_release_1.3.0\\src\\data\\../common/device_helpers.cuh:400: Memory allocation error on worker 0: [23:06:32] c:\\users\\administrator\\workspace\\xgboost-win64_release_1.3.0\\src\\common\\common.h:44: c:\\users\\administrator\\workspace\\xgboost-win64_release_1.3.0\\src\\common\\device_helpers.cuh: 419: cudaErrorMemoryAllocation: out of memory\n- Free memory: 193803060\n- Requested memory: 195525472\n\n"
     ]
    }
   ],
   "source": [
    "from itertools import combinations\n",
    "\n",
    "for group1, group2, group3 in combinations(feature_groups, 3):\n",
    "    \n",
    "    mdl = XGBRegressor(max_depth=5, \n",
    "                       learning_rate=0.01, \n",
    "                       n_estimators=2000, \n",
    "                       colsample_bytree=0.1, \n",
    "                       tree_method='gpu_hist', \n",
    "                       gpu_id=0)\n",
    "      \n",
    "    selected = []\n",
    "    \n",
    "    for f in X_train0.columns:\n",
    "        if group1 in f or group2 in f or group3 in f:\n",
    "            selected.append(f)\n",
    "    \n",
    "    mdl.fit(X_train0[selected], y_train0)\n",
    "\n",
    "    p = mdl.predict(X_train1[selected])\n",
    "    \n",
    "    model_name_train1 = \"./preds_train1/xgb_feature_groups_{}_{}_{}.pkl.z\".format(group1, group2, group3) \n",
    "    jb.dump(p, model_name_train1)\n",
    "\n",
    "    metric = spearmanr(y_train1.values,p).correlation\n",
    "\n",
    "    p = mdl.predict(X_val1[selected])\n",
    "    \n",
    "    model_name_val1 = \"./preds_val1/xgb_feature_groups_{}_{}_{}.pkl.z\".format(group1, group2, group3) \n",
    "    jb.dump(p, model_name_val1)\n",
    "\n",
    "    p = mdl.predict(X_test[selected])\n",
    "    \n",
    "    model_name_test = \"./preds_test/xgb_feature_groups_{}_{}_{}.pkl.z\".format(group1, group2, group3) \n",
    "    jb.dump(p, model_name_test)\n",
    "\n",
    "    print(group1, group2, group3, metric)\n",
    "    print()"
   ]
  },
  {
   "cell_type": "markdown",
   "metadata": {},
   "source": [
    "## Gerando Diversidade: Combinações de Linhas"
   ]
  },
  {
   "cell_type": "markdown",
   "metadata": {},
   "source": [
    "### Separação Por Soma Valores"
   ]
  },
  {
   "cell_type": "markdown",
   "metadata": {},
   "source": [
    "Na separação de linhas, se houver uma variável categorica, tentamos separar as linhas por essa variável (exemplo: Todos os registros de um estado vão ser uma separação/bloco de linhas).\n",
    "\n",
    "Em nosso caso não temos isso. Então fizemos uma separação por valor total da soma das linhas, separando-as pela soma total, dessa forma, linhas com valores semelhantes de soma ficam em um mesmo grupo."
   ]
  },
  {
   "cell_type": "code",
   "execution_count": 70,
   "metadata": {},
   "outputs": [
    {
     "data": {
      "image/png": "[encoded data removed]",
      "text/plain": [
       "<Figure size 432x288 with 1 Axes>"
      ]
     },
     "metadata": {
      "needs_background": "light"
     },
     "output_type": "display_data"
    }
   ],
   "source": [
    "X_train0.sum(axis=1).hist()\n",
    "plt.show()"
   ]
  },
  {
   "cell_type": "code",
   "execution_count": 71,
   "metadata": {},
   "outputs": [
    {
     "name": "stdout",
     "output_type": "stream",
     "text": [
      "0.02759297403152932\n",
      "\n"
     ]
    }
   ],
   "source": [
    "# iterar por colunas de grupos se tivesse mais categoricas\n",
    "buckets_Xtr0 = np.digitize(X_train0.sum(axis=1), bins=[125,150,175])\n",
    "buckets_Xtr1 = np.digitize(X_train1.sum(axis=1), bins=[125,150,175])\n",
    "buckets_Xvl1 = np.digitize(X_val1.sum(axis=1), bins=[125,150,175])\n",
    "buckets_Xts = np.digitize(X_test.sum(axis=1), bins=[125,150,175])\n",
    "\n",
    "\n",
    "p_tr1 = np.zeros(X_train1.shape[0])\n",
    "p_vl1 = np.zeros(X_val1.shape[0])\n",
    "p_ts = np.zeros(X_test.shape[0])\n",
    "\n",
    "for bucket in np.unique(buckets_Xtr0):\n",
    "    \n",
    "    Xtr0 = X_train0[buckets_Xtr0 == bucket]\n",
    "    ytr0 = y_train0[buckets_Xtr0 == bucket]\n",
    "    \n",
    "    mdl = XGBRegressor(max_depth=5, \n",
    "                       learning_rate=0.01, \n",
    "                       n_estimators=2000, \n",
    "                       colsample_bytree=0.1, \n",
    "                       #tree_method='gpu_hist', \n",
    "                       gpu_id=0)\n",
    "    \n",
    "    mdl.fit(Xtr0, ytr0)\n",
    "    \n",
    "    Xtr1 = X_train1[buckets_Xtr1 == bucket]\n",
    "    p_tr1[buckets_Xtr1 == bucket] = mdl.predict(Xtr1)\n",
    "    \n",
    "    Xvl1 = X_val1[buckets_Xvl1 == bucket]\n",
    "    p_vl1[buckets_Xvl1 == bucket] = mdl.predict(Xvl1)\n",
    "    \n",
    "    Xts = X_test[buckets_Xts == bucket]\n",
    "    p_ts[buckets_Xts == bucket] = mdl.predict(Xts)\n",
    "\n",
    "    \n",
    "model_name_train1 = \"./preds_train1/xgb_row_groups_buckets.pkl.z\"\n",
    "jb.dump(p_tr1, model_name_train1)\n",
    "\n",
    "metric = spearmanr(y_train1.values,p_tr1).correlation\n",
    "\n",
    "model_name_val1 = \"./preds_val1/xgb_row_groups_buckets.pkl.z\"\n",
    "jb.dump(p_vl1, model_name_val1)\n",
    "\n",
    "model_name_test = \"./preds_test/xgb_row_groups_buckets.pkl.z\"\n",
    "jb.dump(p_ts, model_name_test)\n",
    "\n",
    "print(metric)\n",
    "print()"
   ]
  },
  {
   "cell_type": "markdown",
   "metadata": {},
   "source": [
    "### Separação Por Correlação"
   ]
  },
  {
   "cell_type": "markdown",
   "metadata": {},
   "source": [
    "Semelhante ao anterior, mas agora buscamos as features com maior correlação (positiva ou negativa) com a target e pagamos as 10 mais correlacionadas."
   ]
  },
  {
   "cell_type": "code",
   "execution_count": 72,
   "metadata": {},
   "outputs": [
    {
     "name": "stdout",
     "output_type": "stream",
     "text": [
      "feature_constitution30 0.025949039636915756\n",
      "\n",
      "feature_charisma37 0.027526460821600384\n",
      "\n",
      "feature_charisma69 0.023645841348983038\n",
      "\n",
      "feature_charisma19 0.027577746902233618\n",
      "\n",
      "feature_wisdom42 0.029037658521371867\n",
      "\n",
      "feature_wisdom36 0.028352388252477906\n",
      "\n",
      "feature_strength34 0.021693348223641606\n",
      "\n",
      "feature_strength14 0.02040854674801827\n",
      "\n",
      "feature_dexterity7 0.025865277697509688\n",
      "\n",
      "feature_dexterity4 0.029745931426478488\n",
      "\n"
     ]
    }
   ],
   "source": [
    "c = X_train0.corrwith(y_train0, method='spearman')\n",
    "most_corr = c.abs().sort_values().tail(10).index\n",
    "\n",
    "\n",
    "#iterar por colunas de grupos se tivesse mais categoricas\n",
    "for col in most_corr:\n",
    "\n",
    "    p_tr1 = np.zeros(X_train1.shape[0])\n",
    "    p_vl1 = np.zeros(X_val1.shape[0])\n",
    "    p_ts = np.zeros(X_test.shape[0])\n",
    "\n",
    "    for bucket in X_train0[col].unique():\n",
    "\n",
    "        Xtr0 = X_train0[X_train0[col] == bucket]\n",
    "        ytr0 = y_train0[X_train0[col] == bucket]\n",
    "\n",
    "        mdl = XGBRegressor(max_depth=5, \n",
    "                           learning_rate=0.01, \n",
    "                           n_estimators=2000, \n",
    "                           colsample_bytree=0.1, \n",
    "                           #tree_method='gpu_hist', \n",
    "                           gpu_id=0)\n",
    "        \n",
    "        mdl.fit(Xtr0, ytr0)\n",
    "\n",
    "        Xtr1 = X_train1[X_train1[col] == bucket]\n",
    "        p_tr1[X_train1[col] == bucket] = mdl.predict(Xtr1)\n",
    "\n",
    "        Xvl1 = X_val1[X_val1[col] == bucket]\n",
    "        p_vl1[X_val1[col] == bucket] = mdl.predict(Xvl1)\n",
    "\n",
    "        Xts = X_test[X_test[col] == bucket]\n",
    "        p_ts[X_test[col] == bucket] = mdl.predict(Xts)\n",
    "\n",
    "\n",
    "    model_name_train1 = \"./preds_train1/xgb_row_groups_most_corr_{}.pkl.z\".format(col)\n",
    "    jb.dump(p_tr1, model_name_train1)\n",
    "\n",
    "    metric = spearmanr(y_train1.values,p_tr1).correlation\n",
    "\n",
    "    model_name_val1 = \"./preds_val1/xgb_row_groups_most_corr_{}.pkl.z\".format(col)\n",
    "    jb.dump(p_vl1, model_name_val1)\n",
    "\n",
    "    model_name_test = \"./preds_test/xgb_row_groups_most_corr_{}.pkl.z\".format(col)\n",
    "    jb.dump(p_ts, model_name_test)\n",
    "\n",
    "    print(col, metric)\n",
    "    print()"
   ]
  },
  {
   "cell_type": "markdown",
   "metadata": {},
   "source": [
    "### Separação Por Tempo"
   ]
  },
  {
   "cell_type": "markdown",
   "metadata": {},
   "source": [
    "Separamos as linhas com base nas eras."
   ]
  },
  {
   "cell_type": "code",
   "execution_count": 73,
   "metadata": {},
   "outputs": [
    {
     "name": "stdout",
     "output_type": "stream",
     "text": [
      "0 0.02310342060393435\n",
      "\n",
      "1 0.026401032453119033\n",
      "\n",
      "2 0.026725069622356507\n",
      "\n",
      "3 0.027500300539836955\n",
      "\n",
      "4 0.010149563903710615\n",
      "\n"
     ]
    }
   ],
   "source": [
    "buckets_Xtr0 = np.digitize(train_train_level0['era'], bins=[10, 20, 30, 40])\n",
    "\n",
    "for bucket in np.unique(buckets_Xtr0):\n",
    "\n",
    "    Xtr0 = X_train0[buckets_Xtr0 == bucket]\n",
    "    ytr0 = y_train0[buckets_Xtr0 == bucket]\n",
    "\n",
    "    mdl = XGBRegressor(max_depth=5, \n",
    "                       learning_rate=0.01, \n",
    "                       n_estimators=2000, \n",
    "                       colsample_bytree=0.1, \n",
    "                       #tree_method='gpu_hist', \n",
    "                       gpu_id=0)\n",
    "    \n",
    "    mdl.fit(Xtr0, ytr0)\n",
    "\n",
    "    p = mdl.predict(X_train1)\n",
    "    model_name_train1 = \"./preds_train1/xgb_row_groups_eras_{}.pkl.z\".format(bucket)\n",
    "    jb.dump(p, model_name_train1)\n",
    "\n",
    "    metric = spearmanr(y_train1.values,p).correlation\n",
    "\n",
    "    p = mdl.predict(X_val1)\n",
    "    model_name_val1 = \"./preds_val1/xgb_row_groups_eras_{}.pkl.z\".format(bucket)\n",
    "    jb.dump(p, model_name_val1)\n",
    "\n",
    "    p = mdl.predict(X_test)\n",
    "    model_name_test = \"./preds_test/xgb_row_groups_eras_{}.pkl.z\".format(bucket)\n",
    "    jb.dump(p, model_name_test)\n",
    "\n",
    "\n",
    "    print(bucket, metric)\n",
    "    print()"
   ]
  },
  {
   "cell_type": "markdown",
   "metadata": {},
   "source": [
    "## Gerando Diversidade: Hiperparâmetros"
   ]
  },
  {
   "cell_type": "markdown",
   "metadata": {},
   "source": [
    "### Manual"
   ]
  },
  {
   "cell_type": "code",
   "execution_count": 74,
   "metadata": {},
   "outputs": [
    {
     "name": "stdout",
     "output_type": "stream",
     "text": [
      "0.023484027981592888\n",
      "0.03794601484541533\n",
      "0.032266006786126976\n"
     ]
    }
   ],
   "source": [
    "# Profundidade rasa, média e profunda (risco overfitting)\n",
    "for depth in [1, 5, 10]:\n",
    "    \n",
    "    mdl = XGBRegressor(max_depth=depth,\n",
    "                       learning_rate=0.01,\n",
    "                       n_estimators=2000,\n",
    "                       colsample_bytree=0.1,\n",
    "                       #tree_method='gpu_hist',\n",
    "                       gpu_id=0)\n",
    "    \n",
    "    mdl.fit(X_train0, y_train0)\n",
    "\n",
    "    p = mdl.predict(X_train1)\n",
    "    \n",
    "    model_name_train1 = \"./preds_train1/xgb_depth_{}.pkl.z\".format(depth)\n",
    "    jb.dump(p, model_name_train1)\n",
    "\n",
    "    metric = spearmanr(y_train1.values,p).correlation\n",
    "\n",
    "    p = mdl.predict(X_val1)\n",
    "    \n",
    "    model_name_val1 = \"./preds_val1/xgb_depth_{}.pkl.z\".format(depth)\n",
    "    jb.dump(p, model_name_val1)\n",
    "\n",
    "    p = mdl.predict(X_test)\n",
    "    \n",
    "    model_name_test = \"./preds_test/xgb_depth_{}.pkl.z\".format(depth)\n",
    "    jb.dump(p, model_name_test)\n",
    "\n",
    "    print(metric)"
   ]
  },
  {
   "cell_type": "markdown",
   "metadata": {},
   "source": [
    "### Random"
   ]
  },
  {
   "cell_type": "code",
   "execution_count": 75,
   "metadata": {},
   "outputs": [
    {
     "name": "stdout",
     "output_type": "stream",
     "text": [
      "0 6 0.042369021680469854 4959 0.5403948646972071 0.4312893194050142 0.02264096378677319\n",
      "1 6 0.049862055736004565 1005 0.32209931536865577 0.18208030173540174 0.018417548697186894\n",
      "2 9 0.010069021830487138 3706 0.9029575503750902 0.48627418710538006 0.028068046982699192\n",
      "3 9 0.03569924330828714 1068 0.5097448446778967 0.8536522589128892 0.027298761308558107\n",
      "4 8 0.009462071222525337 3771 0.5981320413049752 0.587800584692363 0.02873841936190224\n",
      "5 4 0.0037038260747930584 1825 0.23604723980548376 0.8767498171441294 0.03373588521467743\n"
     ]
    },
    {
     "ename": "XGBoostError",
     "evalue": "bad allocation",
     "output_type": "error",
     "traceback": [
      "\u001b[1;31m---------------------------------------------------------------------------\u001b[0m",
      "\u001b[1;31mXGBoostError\u001b[0m                              Traceback (most recent call last)",
      "\u001b[1;32m<ipython-input-75-903150d817bd>\u001b[0m in \u001b[0;36m<module>\u001b[1;34m\u001b[0m\n\u001b[0;32m     39\u001b[0m \u001b[1;33m\u001b[0m\u001b[0m\n\u001b[0;32m     40\u001b[0m \u001b[1;32mfor\u001b[0m \u001b[0mseed\u001b[0m \u001b[1;32min\u001b[0m \u001b[0mrange\u001b[0m\u001b[1;33m(\u001b[0m\u001b[1;36m10\u001b[0m\u001b[1;33m)\u001b[0m\u001b[1;33m:\u001b[0m\u001b[1;33m\u001b[0m\u001b[1;33m\u001b[0m\u001b[0m\n\u001b[1;32m---> 41\u001b[1;33m     \u001b[0mgen_xgb\u001b[0m\u001b[1;33m(\u001b[0m\u001b[0mseed\u001b[0m\u001b[1;33m)\u001b[0m\u001b[1;33m\u001b[0m\u001b[1;33m\u001b[0m\u001b[0m\n\u001b[0m",
      "\u001b[1;32m<ipython-input-75-903150d817bd>\u001b[0m in \u001b[0;36mgen_xgb\u001b[1;34m(seed)\u001b[0m\n\u001b[0;32m     17\u001b[0m                        seed=seed)\n\u001b[0;32m     18\u001b[0m \u001b[1;33m\u001b[0m\u001b[0m\n\u001b[1;32m---> 19\u001b[1;33m     \u001b[0mmdl\u001b[0m\u001b[1;33m.\u001b[0m\u001b[0mfit\u001b[0m\u001b[1;33m(\u001b[0m\u001b[0mX_train0\u001b[0m\u001b[1;33m,\u001b[0m \u001b[0my_train0\u001b[0m\u001b[1;33m)\u001b[0m\u001b[1;33m\u001b[0m\u001b[1;33m\u001b[0m\u001b[0m\n\u001b[0m\u001b[0;32m     20\u001b[0m \u001b[1;33m\u001b[0m\u001b[0m\n\u001b[0;32m     21\u001b[0m     \u001b[0mp\u001b[0m \u001b[1;33m=\u001b[0m \u001b[0mmdl\u001b[0m\u001b[1;33m.\u001b[0m\u001b[0mpredict\u001b[0m\u001b[1;33m(\u001b[0m\u001b[0mX_train1\u001b[0m\u001b[1;33m)\u001b[0m\u001b[1;33m\u001b[0m\u001b[1;33m\u001b[0m\u001b[0m\n",
      "\u001b[1;32mR:\\Install\\anaconda3\\lib\\site-packages\\xgboost\\core.py\u001b[0m in \u001b[0;36minner_f\u001b[1;34m(*args, **kwargs)\u001b[0m\n\u001b[0;32m    420\u001b[0m         \u001b[1;32mfor\u001b[0m \u001b[0mk\u001b[0m\u001b[1;33m,\u001b[0m \u001b[0marg\u001b[0m \u001b[1;32min\u001b[0m \u001b[0mzip\u001b[0m\u001b[1;33m(\u001b[0m\u001b[0msig\u001b[0m\u001b[1;33m.\u001b[0m\u001b[0mparameters\u001b[0m\u001b[1;33m,\u001b[0m \u001b[0margs\u001b[0m\u001b[1;33m)\u001b[0m\u001b[1;33m:\u001b[0m\u001b[1;33m\u001b[0m\u001b[1;33m\u001b[0m\u001b[0m\n\u001b[0;32m    421\u001b[0m             \u001b[0mkwargs\u001b[0m\u001b[1;33m[\u001b[0m\u001b[0mk\u001b[0m\u001b[1;33m]\u001b[0m \u001b[1;33m=\u001b[0m \u001b[0marg\u001b[0m\u001b[1;33m\u001b[0m\u001b[1;33m\u001b[0m\u001b[0m\n\u001b[1;32m--> 422\u001b[1;33m         \u001b[1;32mreturn\u001b[0m \u001b[0mf\u001b[0m\u001b[1;33m(\u001b[0m\u001b[1;33m**\u001b[0m\u001b[0mkwargs\u001b[0m\u001b[1;33m)\u001b[0m\u001b[1;33m\u001b[0m\u001b[1;33m\u001b[0m\u001b[0m\n\u001b[0m\u001b[0;32m    423\u001b[0m \u001b[1;33m\u001b[0m\u001b[0m\n\u001b[0;32m    424\u001b[0m     \u001b[1;32mreturn\u001b[0m \u001b[0minner_f\u001b[0m\u001b[1;33m\u001b[0m\u001b[1;33m\u001b[0m\u001b[0m\n",
      "\u001b[1;32mR:\\Install\\anaconda3\\lib\\site-packages\\xgboost\\sklearn.py\u001b[0m in \u001b[0;36mfit\u001b[1;34m(self, X, y, sample_weight, base_margin, eval_set, eval_metric, early_stopping_rounds, verbose, xgb_model, sample_weight_eval_set, feature_weights, callbacks)\u001b[0m\n\u001b[0;32m    595\u001b[0m                 \u001b[0mparams\u001b[0m\u001b[1;33m.\u001b[0m\u001b[0mupdate\u001b[0m\u001b[1;33m(\u001b[0m\u001b[1;33m{\u001b[0m\u001b[1;34m'eval_metric'\u001b[0m\u001b[1;33m:\u001b[0m \u001b[0meval_metric\u001b[0m\u001b[1;33m}\u001b[0m\u001b[1;33m)\u001b[0m\u001b[1;33m\u001b[0m\u001b[1;33m\u001b[0m\u001b[0m\n\u001b[0;32m    596\u001b[0m \u001b[1;33m\u001b[0m\u001b[0m\n\u001b[1;32m--> 597\u001b[1;33m         self._Booster = train(params, train_dmatrix,\n\u001b[0m\u001b[0;32m    598\u001b[0m                               \u001b[0mself\u001b[0m\u001b[1;33m.\u001b[0m\u001b[0mget_num_boosting_rounds\u001b[0m\u001b[1;33m(\u001b[0m\u001b[1;33m)\u001b[0m\u001b[1;33m,\u001b[0m \u001b[0mevals\u001b[0m\u001b[1;33m=\u001b[0m\u001b[0mevals\u001b[0m\u001b[1;33m,\u001b[0m\u001b[1;33m\u001b[0m\u001b[1;33m\u001b[0m\u001b[0m\n\u001b[0;32m    599\u001b[0m                               \u001b[0mearly_stopping_rounds\u001b[0m\u001b[1;33m=\u001b[0m\u001b[0mearly_stopping_rounds\u001b[0m\u001b[1;33m,\u001b[0m\u001b[1;33m\u001b[0m\u001b[1;33m\u001b[0m\u001b[0m\n",
      "\u001b[1;32mR:\\Install\\anaconda3\\lib\\site-packages\\xgboost\\training.py\u001b[0m in \u001b[0;36mtrain\u001b[1;34m(params, dtrain, num_boost_round, evals, obj, feval, maximize, early_stopping_rounds, evals_result, verbose_eval, xgb_model, callbacks)\u001b[0m\n\u001b[0;32m    225\u001b[0m     \u001b[0mBooster\u001b[0m \u001b[1;33m:\u001b[0m \u001b[0ma\u001b[0m \u001b[0mtrained\u001b[0m \u001b[0mbooster\u001b[0m \u001b[0mmodel\u001b[0m\u001b[1;33m\u001b[0m\u001b[1;33m\u001b[0m\u001b[0m\n\u001b[0;32m    226\u001b[0m     \"\"\"\n\u001b[1;32m--> 227\u001b[1;33m     bst = _train_internal(params, dtrain,\n\u001b[0m\u001b[0;32m    228\u001b[0m                           \u001b[0mnum_boost_round\u001b[0m\u001b[1;33m=\u001b[0m\u001b[0mnum_boost_round\u001b[0m\u001b[1;33m,\u001b[0m\u001b[1;33m\u001b[0m\u001b[1;33m\u001b[0m\u001b[0m\n\u001b[0;32m    229\u001b[0m                           \u001b[0mevals\u001b[0m\u001b[1;33m=\u001b[0m\u001b[0mevals\u001b[0m\u001b[1;33m,\u001b[0m\u001b[1;33m\u001b[0m\u001b[1;33m\u001b[0m\u001b[0m\n",
      "\u001b[1;32mR:\\Install\\anaconda3\\lib\\site-packages\\xgboost\\training.py\u001b[0m in \u001b[0;36m_train_internal\u001b[1;34m(params, dtrain, num_boost_round, evals, obj, feval, xgb_model, callbacks, evals_result, maximize, verbose_eval, early_stopping_rounds)\u001b[0m\n\u001b[0;32m    147\u001b[0m     \u001b[1;31m# Copy to serialise and unserialise booster to reset state and free\u001b[0m\u001b[1;33m\u001b[0m\u001b[1;33m\u001b[0m\u001b[1;33m\u001b[0m\u001b[0m\n\u001b[0;32m    148\u001b[0m     \u001b[1;31m# training memory\u001b[0m\u001b[1;33m\u001b[0m\u001b[1;33m\u001b[0m\u001b[1;33m\u001b[0m\u001b[0m\n\u001b[1;32m--> 149\u001b[1;33m     \u001b[1;32mreturn\u001b[0m \u001b[0mbst\u001b[0m\u001b[1;33m.\u001b[0m\u001b[0mcopy\u001b[0m\u001b[1;33m(\u001b[0m\u001b[1;33m)\u001b[0m\u001b[1;33m\u001b[0m\u001b[1;33m\u001b[0m\u001b[0m\n\u001b[0m\u001b[0;32m    150\u001b[0m \u001b[1;33m\u001b[0m\u001b[0m\n\u001b[0;32m    151\u001b[0m \u001b[1;33m\u001b[0m\u001b[0m\n",
      "\u001b[1;32mR:\\Install\\anaconda3\\lib\\site-packages\\xgboost\\core.py\u001b[0m in \u001b[0;36mcopy\u001b[1;34m(self)\u001b[0m\n\u001b[0;32m   1167\u001b[0m             \u001b[0ma\u001b[0m \u001b[0mcopied\u001b[0m \u001b[0mbooster\u001b[0m \u001b[0mmodel\u001b[0m\u001b[1;33m\u001b[0m\u001b[1;33m\u001b[0m\u001b[0m\n\u001b[0;32m   1168\u001b[0m         \"\"\"\n\u001b[1;32m-> 1169\u001b[1;33m         \u001b[1;32mreturn\u001b[0m \u001b[0mself\u001b[0m\u001b[1;33m.\u001b[0m\u001b[0m__copy__\u001b[0m\u001b[1;33m(\u001b[0m\u001b[1;33m)\u001b[0m\u001b[1;33m\u001b[0m\u001b[1;33m\u001b[0m\u001b[0m\n\u001b[0m\u001b[0;32m   1170\u001b[0m \u001b[1;33m\u001b[0m\u001b[0m\n\u001b[0;32m   1171\u001b[0m     \u001b[1;32mdef\u001b[0m \u001b[0mload_rabit_checkpoint\u001b[0m\u001b[1;33m(\u001b[0m\u001b[0mself\u001b[0m\u001b[1;33m)\u001b[0m\u001b[1;33m:\u001b[0m\u001b[1;33m\u001b[0m\u001b[1;33m\u001b[0m\u001b[0m\n",
      "\u001b[1;32mR:\\Install\\anaconda3\\lib\\site-packages\\xgboost\\core.py\u001b[0m in \u001b[0;36m__copy__\u001b[1;34m(self)\u001b[0m\n\u001b[0;32m   1153\u001b[0m \u001b[1;33m\u001b[0m\u001b[0m\n\u001b[0;32m   1154\u001b[0m     \u001b[1;32mdef\u001b[0m \u001b[0m__copy__\u001b[0m\u001b[1;33m(\u001b[0m\u001b[0mself\u001b[0m\u001b[1;33m)\u001b[0m\u001b[1;33m:\u001b[0m\u001b[1;33m\u001b[0m\u001b[1;33m\u001b[0m\u001b[0m\n\u001b[1;32m-> 1155\u001b[1;33m         \u001b[1;32mreturn\u001b[0m \u001b[0mself\u001b[0m\u001b[1;33m.\u001b[0m\u001b[0m__deepcopy__\u001b[0m\u001b[1;33m(\u001b[0m\u001b[1;32mNone\u001b[0m\u001b[1;33m)\u001b[0m\u001b[1;33m\u001b[0m\u001b[1;33m\u001b[0m\u001b[0m\n\u001b[0m\u001b[0;32m   1156\u001b[0m \u001b[1;33m\u001b[0m\u001b[0m\n\u001b[0;32m   1157\u001b[0m     \u001b[1;32mdef\u001b[0m \u001b[0m__deepcopy__\u001b[0m\u001b[1;33m(\u001b[0m\u001b[0mself\u001b[0m\u001b[1;33m,\u001b[0m \u001b[0m_\u001b[0m\u001b[1;33m)\u001b[0m\u001b[1;33m:\u001b[0m\u001b[1;33m\u001b[0m\u001b[1;33m\u001b[0m\u001b[0m\n",
      "\u001b[1;32mR:\\Install\\anaconda3\\lib\\site-packages\\xgboost\\core.py\u001b[0m in \u001b[0;36m__deepcopy__\u001b[1;34m(self, _)\u001b[0m\n\u001b[0;32m   1157\u001b[0m     \u001b[1;32mdef\u001b[0m \u001b[0m__deepcopy__\u001b[0m\u001b[1;33m(\u001b[0m\u001b[0mself\u001b[0m\u001b[1;33m,\u001b[0m \u001b[0m_\u001b[0m\u001b[1;33m)\u001b[0m\u001b[1;33m:\u001b[0m\u001b[1;33m\u001b[0m\u001b[1;33m\u001b[0m\u001b[0m\n\u001b[0;32m   1158\u001b[0m         \u001b[1;34m'''Return a copy of booster.'''\u001b[0m\u001b[1;33m\u001b[0m\u001b[1;33m\u001b[0m\u001b[0m\n\u001b[1;32m-> 1159\u001b[1;33m         \u001b[1;32mreturn\u001b[0m \u001b[0mBooster\u001b[0m\u001b[1;33m(\u001b[0m\u001b[0mmodel_file\u001b[0m\u001b[1;33m=\u001b[0m\u001b[0mself\u001b[0m\u001b[1;33m)\u001b[0m\u001b[1;33m\u001b[0m\u001b[1;33m\u001b[0m\u001b[0m\n\u001b[0m\u001b[0;32m   1160\u001b[0m \u001b[1;33m\u001b[0m\u001b[0m\n\u001b[0;32m   1161\u001b[0m     \u001b[1;32mdef\u001b[0m \u001b[0mcopy\u001b[0m\u001b[1;33m(\u001b[0m\u001b[0mself\u001b[0m\u001b[1;33m)\u001b[0m\u001b[1;33m:\u001b[0m\u001b[1;33m\u001b[0m\u001b[1;33m\u001b[0m\u001b[0m\n",
      "\u001b[1;32mR:\\Install\\anaconda3\\lib\\site-packages\\xgboost\\core.py\u001b[0m in \u001b[0;36m__init__\u001b[1;34m(self, params, cache, model_file)\u001b[0m\n\u001b[0;32m   1029\u001b[0m             \u001b[1;31m# We use the pickle interface for getting memory snapshot from\u001b[0m\u001b[1;33m\u001b[0m\u001b[1;33m\u001b[0m\u001b[1;33m\u001b[0m\u001b[0m\n\u001b[0;32m   1030\u001b[0m             \u001b[1;31m# another model, and load the snapshot with this booster.\u001b[0m\u001b[1;33m\u001b[0m\u001b[1;33m\u001b[0m\u001b[1;33m\u001b[0m\u001b[0m\n\u001b[1;32m-> 1031\u001b[1;33m             \u001b[0mstate\u001b[0m \u001b[1;33m=\u001b[0m \u001b[0mmodel_file\u001b[0m\u001b[1;33m.\u001b[0m\u001b[0m__getstate__\u001b[0m\u001b[1;33m(\u001b[0m\u001b[1;33m)\u001b[0m\u001b[1;33m\u001b[0m\u001b[1;33m\u001b[0m\u001b[0m\n\u001b[0m\u001b[0;32m   1032\u001b[0m             \u001b[0mhandle\u001b[0m \u001b[1;33m=\u001b[0m \u001b[0mstate\u001b[0m\u001b[1;33m[\u001b[0m\u001b[1;34m'handle'\u001b[0m\u001b[1;33m]\u001b[0m\u001b[1;33m\u001b[0m\u001b[1;33m\u001b[0m\u001b[0m\n\u001b[0;32m   1033\u001b[0m             \u001b[1;32mdel\u001b[0m \u001b[0mstate\u001b[0m\u001b[1;33m[\u001b[0m\u001b[1;34m'handle'\u001b[0m\u001b[1;33m]\u001b[0m\u001b[1;33m\u001b[0m\u001b[1;33m\u001b[0m\u001b[0m\n",
      "\u001b[1;32mR:\\Install\\anaconda3\\lib\\site-packages\\xgboost\\core.py\u001b[0m in \u001b[0;36m__getstate__\u001b[1;34m(self)\u001b[0m\n\u001b[0;32m   1067\u001b[0m             \u001b[0mlength\u001b[0m \u001b[1;33m=\u001b[0m \u001b[0mc_bst_ulong\u001b[0m\u001b[1;33m(\u001b[0m\u001b[1;33m)\u001b[0m\u001b[1;33m\u001b[0m\u001b[1;33m\u001b[0m\u001b[0m\n\u001b[0;32m   1068\u001b[0m             \u001b[0mcptr\u001b[0m \u001b[1;33m=\u001b[0m \u001b[0mctypes\u001b[0m\u001b[1;33m.\u001b[0m\u001b[0mPOINTER\u001b[0m\u001b[1;33m(\u001b[0m\u001b[0mctypes\u001b[0m\u001b[1;33m.\u001b[0m\u001b[0mc_char\u001b[0m\u001b[1;33m)\u001b[0m\u001b[1;33m(\u001b[0m\u001b[1;33m)\u001b[0m\u001b[1;33m\u001b[0m\u001b[1;33m\u001b[0m\u001b[0m\n\u001b[1;32m-> 1069\u001b[1;33m             _check_call(_LIB.XGBoosterSerializeToBuffer(self.handle,\n\u001b[0m\u001b[0;32m   1070\u001b[0m                                                         \u001b[0mctypes\u001b[0m\u001b[1;33m.\u001b[0m\u001b[0mbyref\u001b[0m\u001b[1;33m(\u001b[0m\u001b[0mlength\u001b[0m\u001b[1;33m)\u001b[0m\u001b[1;33m,\u001b[0m\u001b[1;33m\u001b[0m\u001b[1;33m\u001b[0m\u001b[0m\n\u001b[0;32m   1071\u001b[0m                                                         ctypes.byref(cptr)))\n",
      "\u001b[1;32mR:\\Install\\anaconda3\\lib\\site-packages\\xgboost\\core.py\u001b[0m in \u001b[0;36m_check_call\u001b[1;34m(ret)\u001b[0m\n\u001b[0;32m    187\u001b[0m     \"\"\"\n\u001b[0;32m    188\u001b[0m     \u001b[1;32mif\u001b[0m \u001b[0mret\u001b[0m \u001b[1;33m!=\u001b[0m \u001b[1;36m0\u001b[0m\u001b[1;33m:\u001b[0m\u001b[1;33m\u001b[0m\u001b[1;33m\u001b[0m\u001b[0m\n\u001b[1;32m--> 189\u001b[1;33m         \u001b[1;32mraise\u001b[0m \u001b[0mXGBoostError\u001b[0m\u001b[1;33m(\u001b[0m\u001b[0mpy_str\u001b[0m\u001b[1;33m(\u001b[0m\u001b[0m_LIB\u001b[0m\u001b[1;33m.\u001b[0m\u001b[0mXGBGetLastError\u001b[0m\u001b[1;33m(\u001b[0m\u001b[1;33m)\u001b[0m\u001b[1;33m)\u001b[0m\u001b[1;33m)\u001b[0m\u001b[1;33m\u001b[0m\u001b[1;33m\u001b[0m\u001b[0m\n\u001b[0m\u001b[0;32m    190\u001b[0m \u001b[1;33m\u001b[0m\u001b[0m\n\u001b[0;32m    191\u001b[0m \u001b[1;33m\u001b[0m\u001b[0m\n",
      "\u001b[1;31mXGBoostError\u001b[0m: bad allocation"
     ]
    }
   ],
   "source": [
    "def gen_xgb(seed):\n",
    "    \n",
    "    np.random.seed(seed)\n",
    "    depth = np.random.randint(1,11)\n",
    "    learning_rate = np.random.uniform(1e-3, 5e-2)\n",
    "    n_estimators = np.random.randint(100, 5000)\n",
    "    colsample_bytree = np.random.uniform(0.05, 0.95)\n",
    "    subsample = np.random.uniform(0.05, 0.95)\n",
    "    \n",
    "    mdl = XGBRegressor(max_depth=depth,\n",
    "                       learning_rate=learning_rate,\n",
    "                       n_estimators=n_estimators,\n",
    "                       colsample_bytree=colsample_bytree, \n",
    "                       subsample=subsample,\n",
    "                       #tree_method='gpu_hist',\n",
    "                       gpu_id=0,\n",
    "                       seed=seed)\n",
    "    \n",
    "    mdl.fit(X_train0, y_train0)\n",
    "\n",
    "    p = mdl.predict(X_train1)\n",
    "    \n",
    "    model_name_train1 = \"./preds_train1/xgb_rhyper_{}.pkl.z\".format(seed)\n",
    "    jb.dump(p, model_name_train1)\n",
    "\n",
    "    metric = spearmanr(y_train1.values,p).correlation\n",
    "\n",
    "    p = mdl.predict(X_val1)\n",
    "    \n",
    "    model_name_val1 = \"./preds_val1/xgb_rhyper_{}.pkl.z\".format(seed)\n",
    "    jb.dump(p, model_name_val1)\n",
    "\n",
    "    p = mdl.predict(X_test)\n",
    "    \n",
    "    model_name_test = \"./preds_test/xgb_rhyper_{}.pkl.z\".format(seed)\n",
    "    jb.dump(p, model_name_test)\n",
    "\n",
    "    print(seed, depth, learning_rate, n_estimators, colsample_bytree, subsample, metric)\n",
    "    \n",
    "for seed in range(10):\n",
    "    gen_xgb(seed)"
   ]
  },
  {
   "cell_type": "markdown",
   "metadata": {},
   "source": [
    "## Gerando Diversidade: Outras Maneiras"
   ]
  },
  {
   "cell_type": "markdown",
   "metadata": {},
   "source": [
    "### Gerando Diversidade: Outras Maneiras - Classificação"
   ]
  },
  {
   "cell_type": "markdown",
   "metadata": {},
   "source": [
    "Nesse exemplo nossa variável alvo pode ser entendida como uma classificação. Veja que ela é separada por 0.25, como se fosse classes. Então pode fazer sentido tratar como um problema de classificação."
   ]
  },
  {
   "cell_type": "code",
   "execution_count": 76,
   "metadata": {},
   "outputs": [
    {
     "data": {
      "text/plain": [
       "array([0.5 , 0.25, 0.75, 0.  , 1.  ])"
      ]
     },
     "execution_count": 76,
     "metadata": {},
     "output_type": "execute_result"
    }
   ],
   "source": [
    "y_train0.unique()"
   ]
  },
  {
   "cell_type": "code",
   "execution_count": 77,
   "metadata": {},
   "outputs": [
    {
     "data": {
      "text/plain": [
       "0         2\n",
       "1         1\n",
       "2         1\n",
       "3         1\n",
       "4         3\n",
       "         ..\n",
       "142092    1\n",
       "142093    2\n",
       "142094    2\n",
       "142095    2\n",
       "142096    1\n",
       "Name: target, Length: 142097, dtype: int64"
      ]
     },
     "execution_count": 77,
     "metadata": {},
     "output_type": "execute_result"
    }
   ],
   "source": [
    "labels = {0.: 0, 0.25: 1, 0.5: 2, 0.75: 3, 1.:4}\n",
    "y_train0 = y_train0.map(labels)\n",
    "y_train0"
   ]
  },
  {
   "cell_type": "code",
   "execution_count": 78,
   "metadata": {},
   "outputs": [],
   "source": [
    "label_values = np.array([0., 0.25, 0.5, 0.75, 1.0])"
   ]
  },
  {
   "cell_type": "code",
   "execution_count": 80,
   "metadata": {},
   "outputs": [
    {
     "name": "stderr",
     "output_type": "stream",
     "text": [
      "R:\\Install\\anaconda3\\lib\\site-packages\\xgboost\\sklearn.py:888: UserWarning: The use of label encoder in XGBClassifier is deprecated and will be removed in a future release. To remove this warning, do the following: 1) Pass option use_label_encoder=False when constructing XGBClassifier object; and 2) Encode your labels (y) as integers starting with 0, i.e. 0, 1, 2, ..., [num_class - 1].\n",
      "  warnings.warn(label_encoder_deprecation_msg, UserWarning)\n"
     ]
    },
    {
     "name": "stdout",
     "output_type": "stream",
     "text": [
      "[10:18:54] WARNING: C:/Users/Administrator/workspace/xgboost-win64_release_1.3.0/src/learner.cc:1061: Starting in XGBoost 1.3.0, the default evaluation metric used with the objective 'multi:softprob' was changed from 'merror' to 'mlogloss'. Explicitly set eval_metric if you'd like to restore the old behavior.\n",
      "0.03486939591299764\n"
     ]
    }
   ],
   "source": [
    "from xgboost import XGBClassifier\n",
    "\n",
    "mdl = XGBClassifier(max_depth=5,\n",
    "                    learning_rate=0.01,\n",
    "                    n_estimators=2000,\n",
    "                    colsample_bytree=0.1,\n",
    "                    #tree_method='gpu_hist',\n",
    "                    gpu_id=0)\n",
    "\n",
    "mdl.fit(X_train0, y_train0)\n",
    "\n",
    "p = mdl.predict_proba(X_train1)\n",
    "\n",
    "p = p.dot(label_values)\n",
    "\n",
    "model_name_train1 = \"./preds_train1/xgb_classifier.pkl.z\"\n",
    "jb.dump(p, model_name_train1)\n",
    "\n",
    "metric = spearmanr(y_train1.values,p).correlation\n",
    "\n",
    "p = mdl.predict_proba(X_val1)\n",
    "p = p.dot(label_values)\n",
    "\n",
    "model_name_val1 = \"./preds_val1/xgb_classifier.pkl.z\"\n",
    "jb.dump(p, model_name_val1)\n",
    "\n",
    "p = mdl.predict_proba(X_test)\n",
    "p = p.dot(label_values)\n",
    "\n",
    "model_name_test = \"./preds_test/xgb_classifier.pkl.z\"\n",
    "jb.dump(p, model_name_test)\n",
    "\n",
    "print(metric)"
   ]
  },
  {
   "cell_type": "markdown",
   "metadata": {},
   "source": [
    "### Gerando Diversidade: Outras Maneiras - Ranker"
   ]
  },
  {
   "cell_type": "code",
   "execution_count": 81,
   "metadata": {},
   "outputs": [],
   "source": [
    "groups = train_train_level0.groupby(\"era\").size().values\n",
    "X_train0, y_train0 = train_train_level0.filter(regex=r'feature', axis=1), train_train_level0['target']"
   ]
  },
  {
   "cell_type": "code",
   "execution_count": 83,
   "metadata": {},
   "outputs": [
    {
     "name": "stdout",
     "output_type": "stream",
     "text": [
      "[10:57:47] WARNING: C:/Users/Administrator/workspace/xgboost-win64_release_1.3.0/src/learner.cc:1190: Empty dataset at worker: 0\n",
      "[10:57:47] WARNING: C:/Users/Administrator/workspace/xgboost-win64_release_1.3.0/src/learner.cc:1190: Empty dataset at worker: 0\n",
      "[10:57:47] WARNING: C:/Users/Administrator/workspace/xgboost-win64_release_1.3.0/src/learner.cc:1190: Empty dataset at worker: 0\n",
      "[10:57:47] WARNING: C:/Users/Administrator/workspace/xgboost-win64_release_1.3.0/src/learner.cc:1190: Empty dataset at worker: 0\n",
      "[10:57:47] WARNING: C:/Users/Administrator/workspace/xgboost-win64_release_1.3.0/src/learner.cc:1190: Empty dataset at worker: 0\n",
      "[10:57:47] WARNING: C:/Users/Administrator/workspace/xgboost-win64_release_1.3.0/src/learner.cc:1190: Empty dataset at worker: 0\n",
      "[10:57:47] WARNING: C:/Users/Administrator/workspace/xgboost-win64_release_1.3.0/src/learner.cc:1190: Empty dataset at worker: 0\n",
      "[10:57:47] WARNING: C:/Users/Administrator/workspace/xgboost-win64_release_1.3.0/src/learner.cc:1190: Empty dataset at worker: 0\n",
      "[10:57:47] WARNING: C:/Users/Administrator/workspace/xgboost-win64_release_1.3.0/src/learner.cc:1190: Empty dataset at worker: 0\n",
      "[10:57:47] WARNING: C:/Users/Administrator/workspace/xgboost-win64_release_1.3.0/src/learner.cc:1190: Empty dataset at worker: 0\n",
      "[10:57:47] WARNING: C:/Users/Administrator/workspace/xgboost-win64_release_1.3.0/src/learner.cc:1190: Empty dataset at worker: 0\n",
      "[10:57:47] WARNING: C:/Users/Administrator/workspace/xgboost-win64_release_1.3.0/src/learner.cc:1190: Empty dataset at worker: 0\n",
      "[10:57:47] WARNING: C:/Users/Administrator/workspace/xgboost-win64_release_1.3.0/src/learner.cc:1190: Empty dataset at worker: 0\n",
      "[10:57:47] WARNING: C:/Users/Administrator/workspace/xgboost-win64_release_1.3.0/src/learner.cc:1190: Empty dataset at worker: 0\n",
      "[10:57:47] WARNING: C:/Users/Administrator/workspace/xgboost-win64_release_1.3.0/src/learner.cc:1190: Empty dataset at worker: 0\n",
      "[10:57:47] WARNING: C:/Users/Administrator/workspace/xgboost-win64_release_1.3.0/src/learner.cc:1190: Empty dataset at worker: 0\n",
      "[10:57:47] WARNING: C:/Users/Administrator/workspace/xgboost-win64_release_1.3.0/src/learner.cc:1190: Empty dataset at worker: 0\n",
      "[10:57:47] WARNING: C:/Users/Administrator/workspace/xgboost-win64_release_1.3.0/src/learner.cc:1190: Empty dataset at worker: 0\n",
      "[10:57:47] WARNING: C:/Users/Administrator/workspace/xgboost-win64_release_1.3.0/src/learner.cc:1190: Empty dataset at worker: 0\n",
      "[10:57:47] WARNING: C:/Users/Administrator/workspace/xgboost-win64_release_1.3.0/src/learner.cc:1190: Empty dataset at worker: 0\n",
      "[10:57:47] WARNING: C:/Users/Administrator/workspace/xgboost-win64_release_1.3.0/src/learner.cc:1190: Empty dataset at worker: 0\n",
      "[10:57:47] WARNING: C:/Users/Administrator/workspace/xgboost-win64_release_1.3.0/src/learner.cc:1190: Empty dataset at worker: 0\n",
      "[10:57:47] WARNING: C:/Users/Administrator/workspace/xgboost-win64_release_1.3.0/src/learner.cc:1190: Empty dataset at worker: 0\n",
      "[10:57:47] WARNING: C:/Users/Administrator/workspace/xgboost-win64_release_1.3.0/src/learner.cc:1190: Empty dataset at worker: 0\n",
      "[10:57:47] WARNING: C:/Users/Administrator/workspace/xgboost-win64_release_1.3.0/src/learner.cc:1190: Empty dataset at worker: 0\n",
      "[10:57:47] WARNING: C:/Users/Administrator/workspace/xgboost-win64_release_1.3.0/src/learner.cc:1190: Empty dataset at worker: 0\n",
      "[10:57:47] WARNING: C:/Users/Administrator/workspace/xgboost-win64_release_1.3.0/src/learner.cc:1190: Empty dataset at worker: 0\n",
      "[10:57:47] WARNING: C:/Users/Administrator/workspace/xgboost-win64_release_1.3.0/src/learner.cc:1190: Empty dataset at worker: 0\n",
      "[10:57:47] WARNING: C:/Users/Administrator/workspace/xgboost-win64_release_1.3.0/src/learner.cc:1190: Empty dataset at worker: 0\n",
      "[10:57:47] WARNING: C:/Users/Administrator/workspace/xgboost-win64_release_1.3.0/src/learner.cc:1190: Empty dataset at worker: 0\n",
      "[10:57:47] WARNING: C:/Users/Administrator/workspace/xgboost-win64_release_1.3.0/src/learner.cc:1190: Empty dataset at worker: 0\n",
      "[10:57:47] WARNING: C:/Users/Administrator/workspace/xgboost-win64_release_1.3.0/src/learner.cc:1190: Empty dataset at worker: 0\n",
      "[10:57:47] WARNING: C:/Users/Administrator/workspace/xgboost-win64_release_1.3.0/src/learner.cc:1190: Empty dataset at worker: 0\n",
      "[10:57:47] WARNING: C:/Users/Administrator/workspace/xgboost-win64_release_1.3.0/src/learner.cc:1190: Empty dataset at worker: 0\n",
      "[10:57:47] WARNING: C:/Users/Administrator/workspace/xgboost-win64_release_1.3.0/src/learner.cc:1190: Empty dataset at worker: 0\n",
      "[10:57:47] WARNING: C:/Users/Administrator/workspace/xgboost-win64_release_1.3.0/src/learner.cc:1190: Empty dataset at worker: 0\n",
      "[10:57:47] WARNING: C:/Users/Administrator/workspace/xgboost-win64_release_1.3.0/src/learner.cc:1190: Empty dataset at worker: 0\n",
      "[10:57:47] WARNING: C:/Users/Administrator/workspace/xgboost-win64_release_1.3.0/src/learner.cc:1190: Empty dataset at worker: 0\n",
      "[10:57:47] WARNING: C:/Users/Administrator/workspace/xgboost-win64_release_1.3.0/src/learner.cc:1190: Empty dataset at worker: 0\n",
      "[10:57:47] WARNING: C:/Users/Administrator/workspace/xgboost-win64_release_1.3.0/src/learner.cc:1190: Empty dataset at worker: 0\n"
     ]
    },
    {
     "ename": "TypeError",
     "evalue": "'PytestTester' object is not subscriptable",
     "output_type": "error",
     "traceback": [
      "\u001b[1;31m---------------------------------------------------------------------------\u001b[0m",
      "\u001b[1;31mTypeError\u001b[0m                                 Traceback (most recent call last)",
      "\u001b[1;32m<ipython-input-83-d69df87e110b>\u001b[0m in \u001b[0;36m<module>\u001b[1;34m\u001b[0m\n\u001b[0;32m     34\u001b[0m \u001b[0mp_ts\u001b[0m \u001b[1;33m=\u001b[0m \u001b[0mnp\u001b[0m\u001b[1;33m.\u001b[0m\u001b[0mzeros\u001b[0m\u001b[1;33m(\u001b[0m\u001b[0mX_test\u001b[0m\u001b[1;33m.\u001b[0m\u001b[0mshape\u001b[0m\u001b[1;33m[\u001b[0m\u001b[1;36m0\u001b[0m\u001b[1;33m]\u001b[0m\u001b[1;33m)\u001b[0m\u001b[1;33m\u001b[0m\u001b[1;33m\u001b[0m\u001b[0m\n\u001b[0;32m     35\u001b[0m \u001b[1;33m\u001b[0m\u001b[0m\n\u001b[1;32m---> 36\u001b[1;33m \u001b[1;32mfor\u001b[0m \u001b[0mera\u001b[0m \u001b[1;32min\u001b[0m \u001b[0mtest\u001b[0m\u001b[1;33m[\u001b[0m\u001b[1;34m'era'\u001b[0m\u001b[1;33m]\u001b[0m\u001b[1;33m.\u001b[0m\u001b[0munique\u001b[0m\u001b[1;33m(\u001b[0m\u001b[1;33m)\u001b[0m\u001b[1;33m:\u001b[0m\u001b[1;33m\u001b[0m\u001b[1;33m\u001b[0m\u001b[0m\n\u001b[0m\u001b[0;32m     37\u001b[0m     \u001b[0mmask\u001b[0m \u001b[1;33m=\u001b[0m \u001b[0mtest\u001b[0m\u001b[1;33m[\u001b[0m\u001b[1;34m'era'\u001b[0m\u001b[1;33m]\u001b[0m \u001b[1;33m==\u001b[0m \u001b[0mera\u001b[0m\u001b[1;33m\u001b[0m\u001b[1;33m\u001b[0m\u001b[0m\n\u001b[0;32m     38\u001b[0m     \u001b[0mX\u001b[0m \u001b[1;33m=\u001b[0m \u001b[0mX_test\u001b[0m\u001b[1;33m[\u001b[0m\u001b[0mmask\u001b[0m\u001b[1;33m]\u001b[0m\u001b[1;33m\u001b[0m\u001b[1;33m\u001b[0m\u001b[0m\n",
      "\u001b[1;31mTypeError\u001b[0m: 'PytestTester' object is not subscriptable"
     ]
    }
   ],
   "source": [
    "from xgboost import XGBRanker\n",
    "\n",
    "mdl = XGBRanker(max_depth=5,\n",
    "                learning_rate=0.01,\n",
    "                n_estimators=2000,\n",
    "                colsample_bytree=0.1,\n",
    "                #tree_method='gpu_hist',\n",
    "                gpu_id=0)\n",
    "\n",
    "mdl.fit(X_train0, y_train0, group=groups)\n",
    "\n",
    "p_tr1 = np.zeros(X_train1.shape[0])\n",
    "\n",
    "for era in train_train_level1['era'].unique():\n",
    "    mask = train_train_level1['era'] == era\n",
    "    X = X_train1[mask]\n",
    "    p_tr1[mask] = mdl.predict(X)\n",
    "    \n",
    "model_name_train1 = \"./preds_train1/xgb_ranker_era.pkl.z\"\n",
    "jb.dump(p_tr1, model_name_train1)\n",
    "\n",
    "metric = spearmanr(y_train1.values,p_tr1).correlation\n",
    "    \n",
    "p_vl1 = np.zeros(X_val1.shape[0])\n",
    "\n",
    "for era in train_train_level1['era'].unique():\n",
    "    mask = train_valid_level1['era'] == era\n",
    "    X = X_val1[mask]\n",
    "    p_vl1[mask] = mdl.predict(X)\n",
    "    \n",
    "model_name_val1 = \"./preds_val1/xgb_ranker_era.pkl.z\"\n",
    "jb.dump(p_vl1, model_name_val1)\n",
    "    \n",
    "p_ts = np.zeros(X_test.shape[0])\n",
    "\n",
    "for era in test['era'].unique():\n",
    "    mask = test['era'] == era\n",
    "    X = X_test[mask]\n",
    "    p_ts[mask] = mdl.predict(X)\n",
    "    \n",
    "model_name_test = \"./preds_test/xgb_ranker_era.pkl.z\"\n",
    "jb.dump(p_ts, model_name_test)\n",
    "    \n",
    "print(metric)"
   ]
  },
  {
   "cell_type": "markdown",
   "metadata": {},
   "source": [
    "### Gerando Diversidade: Outras Maneiras - Random Forest"
   ]
  },
  {
   "cell_type": "code",
   "execution_count": 84,
   "metadata": {},
   "outputs": [
    {
     "name": "stdout",
     "output_type": "stream",
     "text": [
      "5 0.026992768255832234\n",
      "10 0.03165248747885688\n"
     ]
    },
    {
     "ename": "XGBoostError",
     "evalue": "bad allocation",
     "output_type": "error",
     "traceback": [
      "\u001b[1;31m---------------------------------------------------------------------------\u001b[0m",
      "\u001b[1;31mXGBoostError\u001b[0m                              Traceback (most recent call last)",
      "\u001b[1;32m<ipython-input-84-f216c3bfcd0c>\u001b[0m in \u001b[0;36m<module>\u001b[1;34m\u001b[0m\n\u001b[0;32m     23\u001b[0m     \"\"\"\n\u001b[0;32m     24\u001b[0m \u001b[1;33m\u001b[0m\u001b[0m\n\u001b[1;32m---> 25\u001b[1;33m     \u001b[0mmdl\u001b[0m\u001b[1;33m.\u001b[0m\u001b[0mfit\u001b[0m\u001b[1;33m(\u001b[0m\u001b[0mX_train0\u001b[0m\u001b[1;33m,\u001b[0m \u001b[0my_train0\u001b[0m\u001b[1;33m)\u001b[0m\u001b[1;33m\u001b[0m\u001b[1;33m\u001b[0m\u001b[0m\n\u001b[0m\u001b[0;32m     26\u001b[0m \u001b[1;33m\u001b[0m\u001b[0m\n\u001b[0;32m     27\u001b[0m     \u001b[0mp\u001b[0m \u001b[1;33m=\u001b[0m \u001b[0mmdl\u001b[0m\u001b[1;33m.\u001b[0m\u001b[0mpredict\u001b[0m\u001b[1;33m(\u001b[0m\u001b[0mX_train1\u001b[0m\u001b[1;33m)\u001b[0m\u001b[1;33m\u001b[0m\u001b[1;33m\u001b[0m\u001b[0m\n",
      "\u001b[1;32mR:\\Install\\anaconda3\\lib\\site-packages\\xgboost\\core.py\u001b[0m in \u001b[0;36minner_f\u001b[1;34m(*args, **kwargs)\u001b[0m\n\u001b[0;32m    420\u001b[0m         \u001b[1;32mfor\u001b[0m \u001b[0mk\u001b[0m\u001b[1;33m,\u001b[0m \u001b[0marg\u001b[0m \u001b[1;32min\u001b[0m \u001b[0mzip\u001b[0m\u001b[1;33m(\u001b[0m\u001b[0msig\u001b[0m\u001b[1;33m.\u001b[0m\u001b[0mparameters\u001b[0m\u001b[1;33m,\u001b[0m \u001b[0margs\u001b[0m\u001b[1;33m)\u001b[0m\u001b[1;33m:\u001b[0m\u001b[1;33m\u001b[0m\u001b[1;33m\u001b[0m\u001b[0m\n\u001b[0;32m    421\u001b[0m             \u001b[0mkwargs\u001b[0m\u001b[1;33m[\u001b[0m\u001b[0mk\u001b[0m\u001b[1;33m]\u001b[0m \u001b[1;33m=\u001b[0m \u001b[0marg\u001b[0m\u001b[1;33m\u001b[0m\u001b[1;33m\u001b[0m\u001b[0m\n\u001b[1;32m--> 422\u001b[1;33m         \u001b[1;32mreturn\u001b[0m \u001b[0mf\u001b[0m\u001b[1;33m(\u001b[0m\u001b[1;33m**\u001b[0m\u001b[0mkwargs\u001b[0m\u001b[1;33m)\u001b[0m\u001b[1;33m\u001b[0m\u001b[1;33m\u001b[0m\u001b[0m\n\u001b[0m\u001b[0;32m    423\u001b[0m \u001b[1;33m\u001b[0m\u001b[0m\n\u001b[0;32m    424\u001b[0m     \u001b[1;32mreturn\u001b[0m \u001b[0minner_f\u001b[0m\u001b[1;33m\u001b[0m\u001b[1;33m\u001b[0m\u001b[0m\n",
      "\u001b[1;32mR:\\Install\\anaconda3\\lib\\site-packages\\xgboost\\sklearn.py\u001b[0m in \u001b[0;36mfit\u001b[1;34m(self, X, y, sample_weight, base_margin, eval_set, eval_metric, early_stopping_rounds, verbose, xgb_model, sample_weight_eval_set, feature_weights, callbacks)\u001b[0m\n\u001b[0;32m    595\u001b[0m                 \u001b[0mparams\u001b[0m\u001b[1;33m.\u001b[0m\u001b[0mupdate\u001b[0m\u001b[1;33m(\u001b[0m\u001b[1;33m{\u001b[0m\u001b[1;34m'eval_metric'\u001b[0m\u001b[1;33m:\u001b[0m \u001b[0meval_metric\u001b[0m\u001b[1;33m}\u001b[0m\u001b[1;33m)\u001b[0m\u001b[1;33m\u001b[0m\u001b[1;33m\u001b[0m\u001b[0m\n\u001b[0;32m    596\u001b[0m \u001b[1;33m\u001b[0m\u001b[0m\n\u001b[1;32m--> 597\u001b[1;33m         self._Booster = train(params, train_dmatrix,\n\u001b[0m\u001b[0;32m    598\u001b[0m                               \u001b[0mself\u001b[0m\u001b[1;33m.\u001b[0m\u001b[0mget_num_boosting_rounds\u001b[0m\u001b[1;33m(\u001b[0m\u001b[1;33m)\u001b[0m\u001b[1;33m,\u001b[0m \u001b[0mevals\u001b[0m\u001b[1;33m=\u001b[0m\u001b[0mevals\u001b[0m\u001b[1;33m,\u001b[0m\u001b[1;33m\u001b[0m\u001b[1;33m\u001b[0m\u001b[0m\n\u001b[0;32m    599\u001b[0m                               \u001b[0mearly_stopping_rounds\u001b[0m\u001b[1;33m=\u001b[0m\u001b[0mearly_stopping_rounds\u001b[0m\u001b[1;33m,\u001b[0m\u001b[1;33m\u001b[0m\u001b[1;33m\u001b[0m\u001b[0m\n",
      "\u001b[1;32mR:\\Install\\anaconda3\\lib\\site-packages\\xgboost\\training.py\u001b[0m in \u001b[0;36mtrain\u001b[1;34m(params, dtrain, num_boost_round, evals, obj, feval, maximize, early_stopping_rounds, evals_result, verbose_eval, xgb_model, callbacks)\u001b[0m\n\u001b[0;32m    225\u001b[0m     \u001b[0mBooster\u001b[0m \u001b[1;33m:\u001b[0m \u001b[0ma\u001b[0m \u001b[0mtrained\u001b[0m \u001b[0mbooster\u001b[0m \u001b[0mmodel\u001b[0m\u001b[1;33m\u001b[0m\u001b[1;33m\u001b[0m\u001b[0m\n\u001b[0;32m    226\u001b[0m     \"\"\"\n\u001b[1;32m--> 227\u001b[1;33m     bst = _train_internal(params, dtrain,\n\u001b[0m\u001b[0;32m    228\u001b[0m                           \u001b[0mnum_boost_round\u001b[0m\u001b[1;33m=\u001b[0m\u001b[0mnum_boost_round\u001b[0m\u001b[1;33m,\u001b[0m\u001b[1;33m\u001b[0m\u001b[1;33m\u001b[0m\u001b[0m\n\u001b[0;32m    229\u001b[0m                           \u001b[0mevals\u001b[0m\u001b[1;33m=\u001b[0m\u001b[0mevals\u001b[0m\u001b[1;33m,\u001b[0m\u001b[1;33m\u001b[0m\u001b[1;33m\u001b[0m\u001b[0m\n",
      "\u001b[1;32mR:\\Install\\anaconda3\\lib\\site-packages\\xgboost\\training.py\u001b[0m in \u001b[0;36m_train_internal\u001b[1;34m(params, dtrain, num_boost_round, evals, obj, feval, xgb_model, callbacks, evals_result, maximize, verbose_eval, early_stopping_rounds)\u001b[0m\n\u001b[0;32m    147\u001b[0m     \u001b[1;31m# Copy to serialise and unserialise booster to reset state and free\u001b[0m\u001b[1;33m\u001b[0m\u001b[1;33m\u001b[0m\u001b[1;33m\u001b[0m\u001b[0m\n\u001b[0;32m    148\u001b[0m     \u001b[1;31m# training memory\u001b[0m\u001b[1;33m\u001b[0m\u001b[1;33m\u001b[0m\u001b[1;33m\u001b[0m\u001b[0m\n\u001b[1;32m--> 149\u001b[1;33m     \u001b[1;32mreturn\u001b[0m \u001b[0mbst\u001b[0m\u001b[1;33m.\u001b[0m\u001b[0mcopy\u001b[0m\u001b[1;33m(\u001b[0m\u001b[1;33m)\u001b[0m\u001b[1;33m\u001b[0m\u001b[1;33m\u001b[0m\u001b[0m\n\u001b[0m\u001b[0;32m    150\u001b[0m \u001b[1;33m\u001b[0m\u001b[0m\n\u001b[0;32m    151\u001b[0m \u001b[1;33m\u001b[0m\u001b[0m\n",
      "\u001b[1;32mR:\\Install\\anaconda3\\lib\\site-packages\\xgboost\\core.py\u001b[0m in \u001b[0;36mcopy\u001b[1;34m(self)\u001b[0m\n\u001b[0;32m   1167\u001b[0m             \u001b[0ma\u001b[0m \u001b[0mcopied\u001b[0m \u001b[0mbooster\u001b[0m \u001b[0mmodel\u001b[0m\u001b[1;33m\u001b[0m\u001b[1;33m\u001b[0m\u001b[0m\n\u001b[0;32m   1168\u001b[0m         \"\"\"\n\u001b[1;32m-> 1169\u001b[1;33m         \u001b[1;32mreturn\u001b[0m \u001b[0mself\u001b[0m\u001b[1;33m.\u001b[0m\u001b[0m__copy__\u001b[0m\u001b[1;33m(\u001b[0m\u001b[1;33m)\u001b[0m\u001b[1;33m\u001b[0m\u001b[1;33m\u001b[0m\u001b[0m\n\u001b[0m\u001b[0;32m   1170\u001b[0m \u001b[1;33m\u001b[0m\u001b[0m\n\u001b[0;32m   1171\u001b[0m     \u001b[1;32mdef\u001b[0m \u001b[0mload_rabit_checkpoint\u001b[0m\u001b[1;33m(\u001b[0m\u001b[0mself\u001b[0m\u001b[1;33m)\u001b[0m\u001b[1;33m:\u001b[0m\u001b[1;33m\u001b[0m\u001b[1;33m\u001b[0m\u001b[0m\n",
      "\u001b[1;32mR:\\Install\\anaconda3\\lib\\site-packages\\xgboost\\core.py\u001b[0m in \u001b[0;36m__copy__\u001b[1;34m(self)\u001b[0m\n\u001b[0;32m   1153\u001b[0m \u001b[1;33m\u001b[0m\u001b[0m\n\u001b[0;32m   1154\u001b[0m     \u001b[1;32mdef\u001b[0m \u001b[0m__copy__\u001b[0m\u001b[1;33m(\u001b[0m\u001b[0mself\u001b[0m\u001b[1;33m)\u001b[0m\u001b[1;33m:\u001b[0m\u001b[1;33m\u001b[0m\u001b[1;33m\u001b[0m\u001b[0m\n\u001b[1;32m-> 1155\u001b[1;33m         \u001b[1;32mreturn\u001b[0m \u001b[0mself\u001b[0m\u001b[1;33m.\u001b[0m\u001b[0m__deepcopy__\u001b[0m\u001b[1;33m(\u001b[0m\u001b[1;32mNone\u001b[0m\u001b[1;33m)\u001b[0m\u001b[1;33m\u001b[0m\u001b[1;33m\u001b[0m\u001b[0m\n\u001b[0m\u001b[0;32m   1156\u001b[0m \u001b[1;33m\u001b[0m\u001b[0m\n\u001b[0;32m   1157\u001b[0m     \u001b[1;32mdef\u001b[0m \u001b[0m__deepcopy__\u001b[0m\u001b[1;33m(\u001b[0m\u001b[0mself\u001b[0m\u001b[1;33m,\u001b[0m \u001b[0m_\u001b[0m\u001b[1;33m)\u001b[0m\u001b[1;33m:\u001b[0m\u001b[1;33m\u001b[0m\u001b[1;33m\u001b[0m\u001b[0m\n",
      "\u001b[1;32mR:\\Install\\anaconda3\\lib\\site-packages\\xgboost\\core.py\u001b[0m in \u001b[0;36m__deepcopy__\u001b[1;34m(self, _)\u001b[0m\n\u001b[0;32m   1157\u001b[0m     \u001b[1;32mdef\u001b[0m \u001b[0m__deepcopy__\u001b[0m\u001b[1;33m(\u001b[0m\u001b[0mself\u001b[0m\u001b[1;33m,\u001b[0m \u001b[0m_\u001b[0m\u001b[1;33m)\u001b[0m\u001b[1;33m:\u001b[0m\u001b[1;33m\u001b[0m\u001b[1;33m\u001b[0m\u001b[0m\n\u001b[0;32m   1158\u001b[0m         \u001b[1;34m'''Return a copy of booster.'''\u001b[0m\u001b[1;33m\u001b[0m\u001b[1;33m\u001b[0m\u001b[0m\n\u001b[1;32m-> 1159\u001b[1;33m         \u001b[1;32mreturn\u001b[0m \u001b[0mBooster\u001b[0m\u001b[1;33m(\u001b[0m\u001b[0mmodel_file\u001b[0m\u001b[1;33m=\u001b[0m\u001b[0mself\u001b[0m\u001b[1;33m)\u001b[0m\u001b[1;33m\u001b[0m\u001b[1;33m\u001b[0m\u001b[0m\n\u001b[0m\u001b[0;32m   1160\u001b[0m \u001b[1;33m\u001b[0m\u001b[0m\n\u001b[0;32m   1161\u001b[0m     \u001b[1;32mdef\u001b[0m \u001b[0mcopy\u001b[0m\u001b[1;33m(\u001b[0m\u001b[0mself\u001b[0m\u001b[1;33m)\u001b[0m\u001b[1;33m:\u001b[0m\u001b[1;33m\u001b[0m\u001b[1;33m\u001b[0m\u001b[0m\n",
      "\u001b[1;32mR:\\Install\\anaconda3\\lib\\site-packages\\xgboost\\core.py\u001b[0m in \u001b[0;36m__init__\u001b[1;34m(self, params, cache, model_file)\u001b[0m\n\u001b[0;32m   1029\u001b[0m             \u001b[1;31m# We use the pickle interface for getting memory snapshot from\u001b[0m\u001b[1;33m\u001b[0m\u001b[1;33m\u001b[0m\u001b[1;33m\u001b[0m\u001b[0m\n\u001b[0;32m   1030\u001b[0m             \u001b[1;31m# another model, and load the snapshot with this booster.\u001b[0m\u001b[1;33m\u001b[0m\u001b[1;33m\u001b[0m\u001b[1;33m\u001b[0m\u001b[0m\n\u001b[1;32m-> 1031\u001b[1;33m             \u001b[0mstate\u001b[0m \u001b[1;33m=\u001b[0m \u001b[0mmodel_file\u001b[0m\u001b[1;33m.\u001b[0m\u001b[0m__getstate__\u001b[0m\u001b[1;33m(\u001b[0m\u001b[1;33m)\u001b[0m\u001b[1;33m\u001b[0m\u001b[1;33m\u001b[0m\u001b[0m\n\u001b[0m\u001b[0;32m   1032\u001b[0m             \u001b[0mhandle\u001b[0m \u001b[1;33m=\u001b[0m \u001b[0mstate\u001b[0m\u001b[1;33m[\u001b[0m\u001b[1;34m'handle'\u001b[0m\u001b[1;33m]\u001b[0m\u001b[1;33m\u001b[0m\u001b[1;33m\u001b[0m\u001b[0m\n\u001b[0;32m   1033\u001b[0m             \u001b[1;32mdel\u001b[0m \u001b[0mstate\u001b[0m\u001b[1;33m[\u001b[0m\u001b[1;34m'handle'\u001b[0m\u001b[1;33m]\u001b[0m\u001b[1;33m\u001b[0m\u001b[1;33m\u001b[0m\u001b[0m\n",
      "\u001b[1;32mR:\\Install\\anaconda3\\lib\\site-packages\\xgboost\\core.py\u001b[0m in \u001b[0;36m__getstate__\u001b[1;34m(self)\u001b[0m\n\u001b[0;32m   1067\u001b[0m             \u001b[0mlength\u001b[0m \u001b[1;33m=\u001b[0m \u001b[0mc_bst_ulong\u001b[0m\u001b[1;33m(\u001b[0m\u001b[1;33m)\u001b[0m\u001b[1;33m\u001b[0m\u001b[1;33m\u001b[0m\u001b[0m\n\u001b[0;32m   1068\u001b[0m             \u001b[0mcptr\u001b[0m \u001b[1;33m=\u001b[0m \u001b[0mctypes\u001b[0m\u001b[1;33m.\u001b[0m\u001b[0mPOINTER\u001b[0m\u001b[1;33m(\u001b[0m\u001b[0mctypes\u001b[0m\u001b[1;33m.\u001b[0m\u001b[0mc_char\u001b[0m\u001b[1;33m)\u001b[0m\u001b[1;33m(\u001b[0m\u001b[1;33m)\u001b[0m\u001b[1;33m\u001b[0m\u001b[1;33m\u001b[0m\u001b[0m\n\u001b[1;32m-> 1069\u001b[1;33m             _check_call(_LIB.XGBoosterSerializeToBuffer(self.handle,\n\u001b[0m\u001b[0;32m   1070\u001b[0m                                                         \u001b[0mctypes\u001b[0m\u001b[1;33m.\u001b[0m\u001b[0mbyref\u001b[0m\u001b[1;33m(\u001b[0m\u001b[0mlength\u001b[0m\u001b[1;33m)\u001b[0m\u001b[1;33m,\u001b[0m\u001b[1;33m\u001b[0m\u001b[1;33m\u001b[0m\u001b[0m\n\u001b[0;32m   1071\u001b[0m                                                         ctypes.byref(cptr)))\n",
      "\u001b[1;32mR:\\Install\\anaconda3\\lib\\site-packages\\xgboost\\core.py\u001b[0m in \u001b[0;36m_check_call\u001b[1;34m(ret)\u001b[0m\n\u001b[0;32m    187\u001b[0m     \"\"\"\n\u001b[0;32m    188\u001b[0m     \u001b[1;32mif\u001b[0m \u001b[0mret\u001b[0m \u001b[1;33m!=\u001b[0m \u001b[1;36m0\u001b[0m\u001b[1;33m:\u001b[0m\u001b[1;33m\u001b[0m\u001b[1;33m\u001b[0m\u001b[0m\n\u001b[1;32m--> 189\u001b[1;33m         \u001b[1;32mraise\u001b[0m \u001b[0mXGBoostError\u001b[0m\u001b[1;33m(\u001b[0m\u001b[0mpy_str\u001b[0m\u001b[1;33m(\u001b[0m\u001b[0m_LIB\u001b[0m\u001b[1;33m.\u001b[0m\u001b[0mXGBGetLastError\u001b[0m\u001b[1;33m(\u001b[0m\u001b[1;33m)\u001b[0m\u001b[1;33m)\u001b[0m\u001b[1;33m)\u001b[0m\u001b[1;33m\u001b[0m\u001b[1;33m\u001b[0m\u001b[0m\n\u001b[0m\u001b[0;32m    190\u001b[0m \u001b[1;33m\u001b[0m\u001b[0m\n\u001b[0;32m    191\u001b[0m \u001b[1;33m\u001b[0m\u001b[0m\n",
      "\u001b[1;31mXGBoostError\u001b[0m: bad allocation"
     ]
    }
   ],
   "source": [
    "from xgboost import XGBRegressor, XGBRFRegressor\n",
    "\n",
    "#https://xgboost.readthedocs.io/en/latest/tutorials/rf.html#\n",
    "#subsample = 0.5, paper ~= bagging\n",
    "for depth in [5, 10, 20, 50, None]:\n",
    "    \n",
    "    mdl = XGBRegressor(max_depth=depth,\n",
    "                       learning_rate=1.,\n",
    "                       n_estimators=1,\n",
    "                       num_parallel_tree=1000,\n",
    "                       colsample_bytree=0.8,\n",
    "                       colsample_bynode=0.8,\n",
    "                       subsample=0.5,\n",
    "                       #tree_method='gpu_hist',\n",
    "                       gpu_id=0,\n",
    "                       random_state=0)\n",
    "    \n",
    "    \"\"\"\n",
    "    mdl = XGBRFRegressor(max_depth=depth,\n",
    "                         random_state=0,\n",
    "                         #tree_method='gpu_hist',\n",
    "                         gpu_id=0)\n",
    "    \"\"\"\n",
    "    \n",
    "    mdl.fit(X_train0, y_train0)\n",
    "\n",
    "    p = mdl.predict(X_train1)\n",
    "    \n",
    "    model_name_train1 = \"./preds_train1/xgb_rf_{}.pkl.z\".format(depth)\n",
    "    jb.dump(p, model_name_train1)\n",
    "\n",
    "    metric = spearmanr(y_train1.values,p).correlation\n",
    "\n",
    "    p = mdl.predict(X_val1)\n",
    "    \n",
    "    model_name_val1 = \"./preds_val1/xgb_rf_{}.pkl.z\".format(depth) \n",
    "    jb.dump(p, model_name_val1)\n",
    "\n",
    "    p = mdl.predict(X_test)\n",
    "    \n",
    "    model_name_test = \"./preds_test/xgb_rf_{}.pkl.z\".format(depth)\n",
    "    jb.dump(p, model_name_test)\n",
    "\n",
    "    print(depth, metric)"
   ]
  },
  {
   "cell_type": "markdown",
   "metadata": {},
   "source": [
    "### Gerando Diversidade: Outras Maneiras - Boosted Random Forest"
   ]
  },
  {
   "cell_type": "markdown",
   "metadata": {},
   "source": [
    "Aqui fazemos um boosting com Random Forest sendo usada em cada estimator."
   ]
  },
  {
   "cell_type": "code",
   "execution_count": null,
   "metadata": {},
   "outputs": [],
   "source": [
    "for trees in [2, 5, 10]:\n",
    "    \n",
    "    mdl = XGBRegressor(max_depth=None,\n",
    "                       learning_rate=0.01,\n",
    "                       n_estimators=2000,\n",
    "                       colsample_bytree=0.1,\n",
    "                       subsample=1.,\n",
    "                       num_parallel_tree=trees,\n",
    "                       #tree_method='gpu_hist',\n",
    "                       gpu_id=0)\n",
    "    \n",
    "    mdl.fit(X_train0, y_train0)\n",
    "\n",
    "    p = mdl.predict(X_train1)\n",
    "    \n",
    "    model_name_train1 = \"./preds_train1/xgb_boosted_rf_{}.pkl.z\".format(trees)\n",
    "    jb.dump(p, model_name_train1)\n",
    "\n",
    "    metric = spearmanr(y_train1.values,p).correlation\n",
    "\n",
    "    p = mdl.predict(X_val1)\n",
    "    \n",
    "    model_name_val1 = \"./preds_val1/xgb_boosted_rf_{}.pkl.z\".format(trees)\n",
    "    jb.dump(p, model_name_val1)\n",
    "\n",
    "    p = mdl.predict(X_test)\n",
    "    model_name_test = \"./preds_test/xgb_boosted_rf_{}.pkl.z\".format(trees)\n",
    "    jb.dump(p, model_name_test)\n",
    "\n",
    "    print(trees, metric)"
   ]
  },
  {
   "cell_type": "markdown",
   "metadata": {},
   "source": [
    "## Seleção Stack Final"
   ]
  },
  {
   "cell_type": "markdown",
   "metadata": {},
   "source": [
    "import glob\n",
    "import re\n",
    "\n",
    "\n",
    "preds_train1 = glob.glob(\"./preds_train1/*.pkl.z\")\n",
    "preds_val1 = glob.glob(\"./preds_val1/*.pkl.z\")\n",
    "\n",
    "df_train1 = []\n",
    "for p_name in preds_train1:\n",
    "    p = jb.load(p_name)\n",
    "    p_name = re.search(r\"train1/(.*)\\.pkl.z\", p_name).group(1)\n",
    "    p_df = pd.DataFrame(p, columns=[p_name])\n",
    "    df_train1.append(p_df)\n",
    "    \n",
    "    \n",
    "df_val1 = [] \n",
    "scores_val1 = dict()\n",
    "for p_name in preds_val1:\n",
    "    p = jb.load(p_name)\n",
    "    p_name = re.search(r\"val1/(.*)\\.pkl.z\", p_name).group(1)\n",
    "    p_df = pd.DataFrame(p, columns=[p_name])\n",
    "    df_val1.append(p_df)\n",
    "    scores_val1[p_name] = spearmanr(y_val1, p_df).correlation\n",
    "    \n",
    "    \n",
    "df_train1 = pd.concat(df_train1, axis=1)\n",
    "df_val1 = pd.concat(df_val1, axis=1)\n",
    "\n",
    "df_test = [] \n",
    "scores_test = dict()\n",
    "preds_test = glob.glob(\"./preds_test/*.pkl.z\")\n",
    "for p_name in preds_test:\n",
    "    p = jb.load(p_name)\n",
    "    p_name = re.search(r\"test/(.*)\\.pkl.z\", p_name).group(1)\n",
    "    p_df = pd.DataFrame(p, columns=[p_name])\n",
    "    df_test.append(p_df)\n",
    "    scores_test[p_name] = spearmanr(y_test, p_df).correlation\n",
    "    \n",
    "    \n",
    "df_test = pd.concat(df_test, axis=1)"
   ]
  },
  {
   "cell_type": "markdown",
   "metadata": {},
   "source": [
    "### Selection"
   ]
  },
  {
   "cell_type": "code",
   "execution_count": null,
   "metadata": {},
   "outputs": [],
   "source": [
    "from sklearn.linear_model import Ridge\n",
    "\n",
    "df_train1.columns[~df_train1.columns.isin(df_val1.columns)]\n",
    "\n",
    "selected = ['xgb_classifier', \n",
    "            'xgb_feature_groups_feature_intelligence_feature_charisma_feature_dexterity',\n",
    "            'xgb_depth_1', 'xgb_rhyper_5']\n",
    "\n",
    "best_score = dist.max() + 1e-4 \n",
    "\n",
    "for col in df_train1.columns:\n",
    "    \n",
    "    if col not in selected:\n",
    "        \n",
    "        Xtr = df_train1[selected+[col]].copy()\n",
    "        Xval = df_val1[selected+[col]].copy()\n",
    "    \n",
    "        mdl = Ridge(alpha=1.)\n",
    "        mdl.fit(Xtr, y_train1)\n",
    "\n",
    "        p = mdl.predict(Xval)\n",
    "        c = spearmanr(y_val1, p).correlation\n",
    "        if c > best_score:\n",
    "            print(col, c)\n",
    "            best_score = c"
   ]
  },
  {
   "cell_type": "markdown",
   "metadata": {},
   "source": [
    "### Permutation Test"
   ]
  },
  {
   "cell_type": "code",
   "execution_count": null,
   "metadata": {},
   "outputs": [],
   "source": [
    "dist = []\n",
    "\n",
    "for seed in range(100):\n",
    "    \n",
    "    Xtr = df_train1[selected].copy()\n",
    "    Xval = df_val1[selected].copy()\n",
    "    \n",
    "    np.random.seed(seed)\n",
    "    #print( Xtr.head())\n",
    "    Xtr['random'] = np.random.permutation(Xtr.iloc[:, -1].values)\n",
    "    Xval['random'] = np.random.permutation(Xval.iloc[:, -1].values)\n",
    "    \n",
    "    #print( Xtr.head())\n",
    "\n",
    "    mdl = Ridge(alpha=1.)\n",
    "    mdl.fit(Xtr, y_train1)\n",
    "\n",
    "    p = mdl.predict(Xval)\n",
    "    c = spearmanr(y_val1, p).correlation\n",
    "    #print(c)\n",
    "    dist.append(c)\n",
    "    \n",
    "dist = np.array(dist)\n",
    "dist.max()"
   ]
  },
  {
   "cell_type": "markdown",
   "metadata": {},
   "source": [
    "## Final"
   ]
  },
  {
   "cell_type": "code",
   "execution_count": null,
   "metadata": {},
   "outputs": [],
   "source": [
    "Xtr = df_train1[selected].copy()\n",
    "mdl = Ridge(alpha=1.)\n",
    "mdl.fit(Xtr, y_train1)\n",
    "\n",
    "p = mdl.predict(df_test[selected])\n",
    "\n",
    "spearmanr(y_test, p).correlation"
   ]
  },
  {
   "cell_type": "markdown",
   "metadata": {},
   "source": [
    "### Permutation Test com XGBRegressor"
   ]
  },
  {
   "cell_type": "code",
   "execution_count": null,
   "metadata": {},
   "outputs": [],
   "source": [
    "selected = ['xgb_classifier', 'xgb_feature_groups_feature_charisma_feature_dexterity_feature_wisdom', \n",
    "            'xgb_feature_groups_feature_intelligence_feature_strength', 'lgbm_feature_groups_feature_constitution',\n",
    "           'mlp_109_39_0.0009911332752617498', 'xgb_feature_groups_feature_intelligence_feature_charisma_feature_constitution',\n",
    "           'lgbm_feature_groups_feature_strength_feature_dexterity', 'lgbm_feature_groups_feature_charisma_feature_dexterity_feature_constitution',\n",
    "           'xgb_feature_groups_feature_intelligence_feature_wisdom']"
   ]
  },
  {
   "cell_type": "code",
   "execution_count": null,
   "metadata": {},
   "outputs": [],
   "source": [
    "from xgboost import XGBRegressor\n",
    "best_score = dist.max() + 1e-4\n",
    "#best_score = 0\n",
    "\n",
    "for col in df_train1.columns:\n",
    "    if col not in selected:\n",
    "        Xtr = df_train1[selected+[col]].copy()\n",
    "        Xval = df_val1[selected+[col]].copy()\n",
    "    \n",
    "    \n",
    "        mdl = XGBRegressor(n_estimators=1000, learning_rate=0.01, max_depth=1, random_state=0, colsample_bytree=0.1, subsample=0.25, \n",
    "                   tree_method='gpu_hist', gpu_id=0)\n",
    "        mdl.fit(Xtr, y_train1)\n",
    "\n",
    "        p = mdl.predict(Xval)\n",
    "        c = spearmanr(y_val1, p).correlation\n",
    "        if c > best_score:\n",
    "            print(col, c)\n",
    "            best_score = c\n",
    "    "
   ]
  },
  {
   "cell_type": "code",
   "execution_count": null,
   "metadata": {},
   "outputs": [],
   "source": [
    "dist = []\n",
    "for seed in range(20):\n",
    "    Xtr = df_train1[selected].copy()\n",
    "    Xval = df_val1[selected].copy()\n",
    "    \n",
    "    np.random.seed(seed)\n",
    "    #print( Xtr.head())\n",
    "    Xtr['random'] = np.random.permutation(Xtr.iloc[:, -1].values)\n",
    "    Xval['random'] = np.random.permutation(Xval.iloc[:, -1].values)\n",
    "    \n",
    "    #print( Xtr.head())\n",
    "\n",
    "    mdl = XGBRegressor(n_estimators=1000, learning_rate=0.01, max_depth=1, random_state=0, colsample_bytree=0.1, subsample=0.25, \n",
    "                   tree_method='gpu_hist', gpu_id=0)\n",
    "    mdl.fit(Xtr, y_train1)\n",
    "\n",
    "    p = mdl.predict(Xval)\n",
    "    c = spearmanr(y_val1, p).correlation\n",
    "    #print(c)\n",
    "    dist.append(c)\n",
    "dist = np.array(dist)\n",
    "dist.max()"
   ]
  },
  {
   "cell_type": "markdown",
   "metadata": {},
   "source": [
    "## Stack Final com Média Ponderada de 2 Modelos"
   ]
  },
  {
   "cell_type": "markdown",
   "metadata": {},
   "source": [
    "Vamos ver como combinar os dois modelos no segundo nível da Stack."
   ]
  },
  {
   "cell_type": "markdown",
   "metadata": {},
   "source": [
    "### Selected cols (xgb + ridge)"
   ]
  },
  {
   "cell_type": "code",
   "execution_count": null,
   "metadata": {},
   "outputs": [],
   "source": [
    "from xgboost import XGBRegressor\n",
    "selected_xgb = ['xgb_classifier', 'xgb_feature_groups_feature_charisma_feature_dexterity_feature_wisdom', \n",
    "            'xgb_feature_groups_feature_intelligence_feature_strength', 'lgbm_feature_groups_feature_constitution',\n",
    "           'mlp_109_39_0.0009911332752617498', 'xgb_feature_groups_feature_intelligence_feature_charisma_feature_constitution',\n",
    "           'lgbm_feature_groups_feature_strength_feature_dexterity', 'lgbm_feature_groups_feature_charisma_feature_dexterity_feature_constitution',\n",
    "           'xgb_feature_groups_feature_intelligence_feature_wisdom']\n",
    "\n",
    "Xtr = df_train1[selected_xgb].copy()\n",
    "Xval = df_val1[selected_xgb].copy()\n",
    "mdl = XGBRegressor(n_estimators=1000, learning_rate=0.01, max_depth=1, random_state=0, colsample_bytree=0.1, subsample=0.25, \n",
    "                   tree_method='gpu_hist', gpu_id=0)\n",
    "mdl.fit(Xtr, y_train1)\n",
    "\n",
    "p_xgb_s = mdl.predict(Xval)\n",
    "c = spearmanr(y_val1, p_xgb_s).correlation\n",
    "print(c)"
   ]
  },
  {
   "cell_type": "code",
   "execution_count": null,
   "metadata": {},
   "outputs": [],
   "source": [
    "from sklearn.linear_model import Ridge\n",
    "selected_ridge  = ['xgb_classifier', 'xgb_feature_groups_feature_intelligence_feature_charisma_feature_dexterity', 'xgb_depth_1', 'xgb_rhyper_5']\n",
    "\n",
    "Xtr = df_train1[selected_ridge].copy()\n",
    "Xval = df_val1[selected_ridge].copy()\n",
    "mdl = Ridge(alpha=1.)\n",
    "mdl.fit(Xtr, y_train1)\n",
    "\n",
    "p_ridge_s = mdl.predict(Xval)\n",
    "c = spearmanr(y_val1, p_ridge_s).correlation\n",
    "print(c)"
   ]
  },
  {
   "cell_type": "code",
   "execution_count": null,
   "metadata": {},
   "outputs": [],
   "source": [
    "# Testar diferentes combinações de peso para achar a melhor configuração\n",
    "p = 0.3*p_ridge_s + 0.7*p_xgb_s\n",
    "c = spearmanr(y_val1, p).correlation\n",
    "print(c)"
   ]
  },
  {
   "cell_type": "markdown",
   "metadata": {},
   "source": [
    "### Todas as cols (xgb + ridge)"
   ]
  },
  {
   "cell_type": "code",
   "execution_count": null,
   "metadata": {},
   "outputs": [],
   "source": [
    "mdl = XGBRegressor(n_estimators=1000, learning_rate=0.01, max_depth=1, random_state=0, colsample_bytree=0.1, subsample=0.25, \n",
    "                   tree_method='gpu_hist', gpu_id=0)\n",
    "mdl.fit(df_train1, y_train1)\n",
    "p_xgb_t = mdl.predict(df_val1)\n",
    "c = spearmanr(y_val1, p_xgb_t).correlation\n",
    "print(c)"
   ]
  },
  {
   "cell_type": "code",
   "execution_count": null,
   "metadata": {},
   "outputs": [],
   "source": [
    "mdl = Ridge(alpha=1.)\n",
    "mdl.fit(df_train1, y_train1)\n",
    "p_ridge_t = mdl.predict(df_val1)\n",
    "c = spearmanr(y_val1, p_ridge_t).correlation\n",
    "print(c)"
   ]
  },
  {
   "cell_type": "code",
   "execution_count": null,
   "metadata": {},
   "outputs": [],
   "source": [
    "p = 0.2*p_ridge_t + 0.8*p_xgb_t\n",
    "c = spearmanr(y_val1, p).correlation\n",
    "print(c)"
   ]
  },
  {
   "cell_type": "markdown",
   "metadata": {},
   "source": [
    "Com a selação de features o resultado foi levemente melhor."
   ]
  },
  {
   "cell_type": "markdown",
   "metadata": {},
   "source": [
    "## Teste Final"
   ]
  },
  {
   "cell_type": "code",
   "execution_count": null,
   "metadata": {},
   "outputs": [],
   "source": [
    "Xtr = df_train1[selected_xgb].copy()\n",
    "mdl = XGBRegressor(n_estimators=1000, learning_rate=0.01, max_depth=1, random_state=0, colsample_bytree=0.1, subsample=0.25, \n",
    "                   tree_method='gpu_hist', gpu_id=0)\n",
    "mdl.fit(Xtr, y_train1)\n",
    "\n",
    "p_xgb_test = mdl.predict(df_test[selected_xgb])"
   ]
  },
  {
   "cell_type": "code",
   "execution_count": null,
   "metadata": {},
   "outputs": [],
   "source": [
    "from sklearn.linear_model import Ridge\n",
    "\n",
    "Xtr = df_train1[selected_ridge].copy()\n",
    "mdl = Ridge(alpha=1.)\n",
    "mdl.fit(Xtr, y_train1)\n",
    "\n",
    "p_ridge_test = mdl.predict(df_test[selected_ridge])"
   ]
  },
  {
   "cell_type": "code",
   "execution_count": null,
   "metadata": {},
   "outputs": [],
   "source": [
    "p = 0.3*p_ridge_test + 0.7*p_xgb_test\n",
    "c = spearmanr(y_test, p).correlation\n",
    "print(c)"
   ]
  },
  {
   "cell_type": "markdown",
   "metadata": {},
   "source": [
    "No teste perdemos um pouco a acertividade do modelo. Caiu para 0,20."
   ]
  },
  {
   "cell_type": "markdown",
   "metadata": {},
   "source": [
    "## E o feature set completo?"
   ]
  },
  {
   "cell_type": "code",
   "execution_count": null,
   "metadata": {},
   "outputs": [],
   "source": [
    "Xtr = df_train1\n",
    "mdl = XGBRegressor(n_estimators=1000, learning_rate=0.01, max_depth=1, random_state=0, colsample_bytree=0.1, subsample=0.25, \n",
    "                   tree_method='gpu_hist', gpu_id=0)\n",
    "mdl.fit(Xtr, y_train1)\n",
    "\n",
    "p_xgb_test = mdl.predict(df_test)"
   ]
  },
  {
   "cell_type": "code",
   "execution_count": null,
   "metadata": {},
   "outputs": [],
   "source": [
    "Xtr = df_train1\n",
    "mdl = Ridge(alpha=1.)\n",
    "mdl.fit(Xtr, y_train1)\n",
    "\n",
    "p_ridge_test = mdl.predict(df_test)"
   ]
  },
  {
   "cell_type": "code",
   "execution_count": null,
   "metadata": {},
   "outputs": [],
   "source": [
    "p = 0.2*p_ridge_test + 0.8*p_xgb_test\n",
    "c = spearmanr(y_test, p).correlation\n",
    "print(c)"
   ]
  },
  {
   "cell_type": "code",
   "execution_count": null,
   "metadata": {},
   "outputs": [],
   "source": [
    "print(\"Melhora val\", 0.04476200295534109 / 0.04290319376803716 - 1 )\n",
    "print(\"Melhor test\", 0.024410911110673422 / 0.024535468740518818 - 1)"
   ]
  },
  {
   "cell_type": "code",
   "execution_count": null,
   "metadata": {},
   "outputs": [],
   "source": []
  },
  {
   "cell_type": "markdown",
   "metadata": {},
   "source": [
    "# Fim"
   ]
  }
 ],
 "metadata": {
  "kernelspec": {
   "display_name": "Python 3",
   "language": "python",
   "name": "python3"
  },
  "language_info": {
   "codemirror_mode": {
    "name": "ipython",
    "version": 3
   },
   "file_extension": ".py",
   "mimetype": "text/x-python",
   "name": "python",
   "nbconvert_exporter": "python",
   "pygments_lexer": "ipython3",
   "version": "3.8.5"
  }
 },
 "nbformat": 4,
 "nbformat_minor": 4
}
